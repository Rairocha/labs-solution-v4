{
 "cells": [
  {
   "cell_type": "markdown",
   "id": "d3bfc191-8885-42ee-b0a0-bbab867c6f9f",
   "metadata": {
    "tags": []
   },
   "source": [
    "# Lab | Flow Control"
   ]
  },
  {
   "cell_type": "markdown",
   "id": "3851fcd1-cf98-4653-9c89-e003b7ec9400",
   "metadata": {},
   "source": [
    "## Exercise: Managing Customer Orders Optimized\n",
    "\n",
    "In the last lab, you were starting an online store that sells various products. To ensure smooth operations, you developed a program that manages customer orders and inventory.\n",
    "\n",
    "You did so without using flow control. Let's go a step further and improve this code.\n",
    "\n",
    "Follow the steps below to complete the exercise:\n",
    "\n",
    "1. Look at your code from the lab data structures, and improve repeated code with loops.\n",
    "\n",
    "2. Instead of asking the user to input the name of three products that a customer wants to order, do the following:\n",
    "    \n",
    "    a. Prompt the user to enter the name of a product that a customer wants to order.\n",
    "    \n",
    "    b. Add the product name to the \"customer_orders\" set.\n",
    "    \n",
    "    c. Ask the user if they want to add another product (yes/no).\n",
    "    \n",
    "    d. Continue the loop until the user does not want to add another product.\n",
    "\n",
    "3. Instead of updating the inventory by subtracting 1 from the quantity of each product, only do it for  the products that were ordered (those in \"customer_orders\")."
   ]
  },
  {
   "cell_type": "code",
   "execution_count": 11,
   "id": "912993c0",
   "metadata": {
    "ExecuteTime": {
     "end_time": "2023-11-29T14:16:12.938846Z",
     "start_time": "2023-11-29T14:16:07.440282Z"
    }
   },
   "outputs": [
    {
     "name": "stdout",
     "output_type": "stream",
     "text": [
      "Do you wanna order again?yes     \n",
      "yes     \n"
     ]
    },
    {
     "data": {
      "text/plain": [
       "True"
      ]
     },
     "execution_count": 11,
     "metadata": {},
     "output_type": "execute_result"
    }
   ],
   "source": [
    "tmp = input('Do you wanna order again?')\n",
    "print(tmp)\n",
    "tmp.capitalize().strip() == 'Yes'"
   ]
  },
  {
   "cell_type": "code",
   "execution_count": 6,
   "id": "f2446d28",
   "metadata": {
    "ExecuteTime": {
     "end_time": "2023-11-29T14:13:09.378885Z",
     "start_time": "2023-11-29T14:13:02.047981Z"
    }
   },
   "outputs": [
    {
     "name": "stdout",
     "output_type": "stream",
     "text": [
      "Number of t-shirt available: 6\n",
      "Product t-shirt has 6 in stock\n",
      "Number of mug available: 5\n",
      "Product mug has 5 in stock\n",
      "Enter the name of your product t-shirt\n",
      "Please type Yes or No. Want to order something else? Yype 'Yes' or 'No':No\n",
      "{'t-shirt'}\n",
      "Order Statistics:\n",
      "Total Products Ordered: 1\n",
      "Percentage of Products Ordered: 9.090909090909092% \n",
      "{'t-shirt': 5, 'mug': 5}\n"
     ]
    }
   ],
   "source": [
    "products = [\"t-shirt\", \"mug\"]#, \"hat\", \"book\", \"keychain\"]\n",
    "inventory = dict()\n",
    "inventory = {}\n",
    "for product in products:\n",
    "    quantity = input(f'Number of {product} available: ')\n",
    "    \n",
    "    \n",
    "    while not quantity.isdigit():\n",
    "        quantity = input(f'Number of {product} available, please type a digit: ')\n",
    "    inventory[product] = int(quantity)\n",
    "    #inventory.update({product:int(quantity)}) # alternative way to insert data in the dictionary\n",
    "    print(f'Product {product} has {quantity} in stock')\n",
    "\n",
    "customer_orders = set() # create customer cart\n",
    "moreorders = True\n",
    "while moreorders:\n",
    "    order = input('Enter the name of your product ')# ask for user input\n",
    "    while order not in products: # input validation\n",
    "        order = input(f'Please type a product in {products} ')# ask for user input\n",
    "    customer_orders.add(order)\n",
    "    tmp = input(\"Please type Yes or No. Want to order something else? Yype 'Yes' or 'No':\")\n",
    "    while tmp !='Yes' and tmp != 'No':\n",
    "        tmp = input(\"Please type Yes or No. Want to order something else? Yype 'Yes' or 'No': \")# ask for user input\n",
    "    if tmp.capitalize().strip() == 'Yes':\n",
    "        moreorders = True\n",
    "    else:\n",
    "        moreorders = False\n",
    "\n",
    "\n",
    "print(customer_orders)\n",
    "\n",
    "total_purchase = len(customer_orders)\n",
    "quantity_of_products = sum(inventory.values())\n",
    "order_percentual = (total_purchase/quantity_of_products)*100\n",
    "statistics_tuple = (total_purchase,order_percentual)\n",
    "\n",
    "print(f'''Order Statistics:\n",
    "Total Products Ordered: {statistics_tuple[0]}\n",
    "Percentage of Products Ordered: {statistics_tuple[1]}% ''')\n",
    "\n",
    "for product in customer_orders:\n",
    "    inventory[product]-=1\n",
    "    \n",
    "print(inventory)\n"
   ]
  },
  {
   "cell_type": "code",
   "execution_count": null,
   "id": "24ab8316",
   "metadata": {},
   "outputs": [],
   "source": []
  }
 ],
 "metadata": {
  "kernelspec": {
   "display_name": "Python 3 (ipykernel)",
   "language": "python",
   "name": "python3"
  },
  "language_info": {
   "codemirror_mode": {
    "name": "ipython",
    "version": 3
   },
   "file_extension": ".py",
   "mimetype": "text/x-python",
   "name": "python",
   "nbconvert_exporter": "python",
   "pygments_lexer": "ipython3",
   "version": "3.8.13"
  },
  "toc": {
   "base_numbering": 1,
   "nav_menu": {},
   "number_sections": true,
   "sideBar": true,
   "skip_h1_title": false,
   "title_cell": "Table of Contents",
   "title_sidebar": "Contents",
   "toc_cell": false,
   "toc_position": {},
   "toc_section_display": true,
   "toc_window_display": false
  },
  "varInspector": {
   "cols": {
    "lenName": 16,
    "lenType": 16,
    "lenVar": 40
   },
   "kernels_config": {
    "python": {
     "delete_cmd_postfix": "",
     "delete_cmd_prefix": "del ",
     "library": "var_list.py",
     "varRefreshCmd": "print(var_dic_list())"
    },
    "r": {
     "delete_cmd_postfix": ") ",
     "delete_cmd_prefix": "rm(",
     "library": "var_list.r",
     "varRefreshCmd": "cat(var_dic_list()) "
    }
   },
   "types_to_exclude": [
    "module",
    "function",
    "builtin_function_or_method",
    "instance",
    "_Feature"
   ],
   "window_display": false
  }
 },
 "nbformat": 4,
 "nbformat_minor": 5
}
