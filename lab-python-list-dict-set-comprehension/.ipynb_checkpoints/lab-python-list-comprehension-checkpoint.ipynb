{
 "cells": [
  {
   "cell_type": "markdown",
   "id": "25d7736c-ba17-4aff-b6bb-66eba20fbf4e",
   "metadata": {},
   "source": [
    "# Lab | List, Dict and Set Comprehension"
   ]
  },
  {
   "cell_type": "markdown",
   "id": "7dd3cbde-675a-4b81-92c3-f728846dbe06",
   "metadata": {},
   "source": [
    "## Exercise: Managing Customer Orders Optimized with Comprehension"
   ]
  },
  {
   "cell_type": "markdown",
   "id": "5d500160-2fb7-4777-b5e4-09d45ebaf328",
   "metadata": {},
   "source": [
    "In the previous exercise, you developed a program to manage customer orders and inventory. Now, let's take it a step further and incorporate comprehension into your code.\n",
    "\n",
    "Follow the steps below to complete the exercise:\n",
    "\n",
    "1. Review your code from the previous exercise and identify areas where you can apply comprehension to simplify and streamline your code. \n",
    "\n",
    "    - *Hint: Apply it to initialize inventory, updating the inventory and printing the updated inventory.*\n",
    "    \n",
    "    - For example, in initializing the inventory, we could have:\n",
    "    \n",
    "        ```python\n",
    "        def initialize_inventory(products):\n",
    "            inventory = {product: int(input(f\"Enter the quantity of {product}s available: \")) for product in products}\n",
    "            return inventory\n",
    "\n",
    "        ```\n",
    "<br>\n",
    "    \n",
    "    \n",
    "2. Modify the function get_customer_orders so it prompts the user to enter the number of customer orders and gathers the product names using a loop and user input. Use comprehension.\n",
    "\n",
    "3. Add a new function to calculate the total price of the customer order. For each product in customer_orders, prompt the user to enter the price of that product. Use comprehension to calculate the total price. Note: assume that the user can only have 1 unit of each product.\n",
    "\n",
    "4. Modify the update_inventory function to remove the product from the inventory if its quantity becomes zero after fulfilling the customer orders. Use comprehension to filter out the products with a quantity of zero from the inventory.\n",
    "\n",
    "5. Print the total price of the customer order.\n",
    "\n",
    "Your code should produce output similar to the following:\n",
    "\n",
    "```python\n",
    "Enter the quantity of t-shirts available:  5\n",
    "Enter the quantity of mugs available:  4\n",
    "Enter the quantity of hats available:  3\n",
    "Enter the quantity of books available:  2\n",
    "Enter the quantity of keychains available:  1\n",
    "Enter the number of customer orders:  2\n",
    "Enter the name of a product that a customer wants to order:  hat\n",
    "Enter the name of a product that a customer wants to order:  keychain\n",
    "\n",
    "Order Statistics:\n",
    "Total Products Ordered: 2\n",
    "Percentage of Unique Products Ordered: 40.0\n",
    "\n",
    "Updated Inventory:\n",
    "t-shirt: 5\n",
    "mug: 4\n",
    "hat: 2\n",
    "book: 2\n",
    "Enter the price of keychain:  5\n",
    "Enter the price of hat:  10\n",
    "Total Price: 15.0\n",
    "\n",
    "```\n"
   ]
  },
  {
   "cell_type": "code",
   "execution_count": 15,
   "id": "34d42645",
   "metadata": {
    "ExecuteTime": {
     "end_time": "2023-11-30T15:00:42.230334Z",
     "start_time": "2023-11-30T15:00:42.214742Z"
    }
   },
   "outputs": [],
   "source": [
    "def input_numeric(input_string):\n",
    "    variable = input(input_string)\n",
    "    while not variable.replace('.','').isdigit():\n",
    "         variable = input(f'Please make a numeric input. {input_string}')\n",
    "    return variable\n",
    "\n",
    "def initialize_inventory(products):\n",
    "    \"\"\"\n",
    "    initialize_inventory that takes products as a parameter. \n",
    "    Inside the function, implement the code for initializing the inventory dictionary using a loop and user input\n",
    "    \n",
    "    \"\"\"\n",
    "    inventory = {}\n",
    "    for product in products:\n",
    "        quantity = input_numeric(f'Number of {product} available: ')\n",
    "        inventory[product] = int(quantity)\n",
    "        #inventory.update({product:int(quantity)}) # alternative way to insert data in the dictionary\n",
    "        print(f'Product {product} has {quantity} in stock')\n",
    "    return inventory\n",
    "\n",
    "def input_customer_order(products):\n",
    "    \"\"\"Validates if the input is in products\"\"\"\n",
    "    order = input('Enter the name of your product ').lower()# ask for user input\n",
    "    while order not in products: # input validation\n",
    "        order = input(f'Please type a product in {products} ').lower()# ask for user input\n",
    "    return (order)\n",
    "\n",
    "\n",
    "def get_customer_orders(products):\n",
    "    \"\"\"\n",
    "    Inside the function, implement the code for prompting the user to enter the product names using a loop.\n",
    "    The function should return the customer_orders set.\n",
    "    \"\"\"\n",
    "    \n",
    "    order_amount= input_numeric('How many products do you want?')\n",
    "    order_amount = int(order_amount)\n",
    "    customer_orders ={input_customer_order(products) for o in range(order_amount)}\n",
    "        \n",
    "    return customer_orders\n",
    "\n",
    "def total_price(customer_orders):\n",
    "    \"\"\"For each product in customer_orders, prompt the user to enter the price of that product.\n",
    "        Use comprehension to calculate the total price. \"\"\"\n",
    "    price_list = [float(input_numeric(f'Price of the product {p} ')) for p in customer_orders]\n",
    "    calculated_price = sum(price_list)\n",
    "    return calculated_price\n",
    "\n",
    "\n",
    "\n",
    "\n",
    "def update_inventory(customer_orders,inventory):\n",
    "    \"\"\"Inside the function, implement the code for updating the inventory dictionary based on the customer orders.\n",
    "    removes the product from the inventory \n",
    "if its quantity becomes zero after fulfilling the customer orders.\n",
    "Use comprehension to filter out the products with a quantity of zero from the inventory.\"\"\"\n",
    "    inventory_local = inventory.copy()\n",
    "    [inventory_local.update({product:inventory_local[product]-1}) if inventory_local[product]-1>0 else inventory_local.pop(product)\n",
    "                 for product in customer_orders]\n",
    "    return inventory_local\n",
    "\n",
    "def update_inventory_using_global(customer_orders,inventory):\n",
    "    \"\"\"Inside the function, implement the code for updating the inventory dictionary based on the customer orders.\"\"\"\n",
    "    for product in customer_orders:\n",
    "        inventory[product]-=1\n",
    "        \n",
    "\n",
    "def calculate_order_statistics(customer_orders,inventory):\n",
    "    \"\"\"Inside the function, implement the code for calculating the order statistics \n",
    "    (total products ordered, and percentage of unique products ordered). The function should return these values.\"\"\"\n",
    "    total_products = len(customer_orders)\n",
    "    percentage_unique_products = (total_products/ sum(inventory.values())) * 100\n",
    "    return total_products,percentage_unique_products\n",
    "\n",
    "def print_order_statistics(statistics_tuple):\n",
    "    \"\"\"\n",
    "    Inside the function, implement the code for printing the order statistics.\n",
    "    \"\"\"\n",
    "    print(f'''Order Statistics:\n",
    "Total Products Ordered: {statistics_tuple[0]}\n",
    "Percentage of Products Ordered: {statistics_tuple[1]}% ''')\n",
    "\n",
    "def print_updated_inventory(inventory):\n",
    "    \"\"\"Inside the function, implement the code for printing the updated inventory.\"\"\"\n",
    "    print(f'The inventory after customer purchase is :{inventory}')"
   ]
  },
  {
   "cell_type": "code",
   "execution_count": 19,
   "id": "810869d7",
   "metadata": {
    "ExecuteTime": {
     "end_time": "2023-11-30T15:02:03.311937Z",
     "start_time": "2023-11-30T15:01:46.518930Z"
    }
   },
   "outputs": [
    {
     "name": "stdout",
     "output_type": "stream",
     "text": [
      "Number of t-shirt available: 5\n",
      "Product t-shirt has 5 in stock\n",
      "Number of mug available: 5\n",
      "Product mug has 5 in stock\n",
      "How many products do you want?3\n",
      "Enter the name of your product mug\n",
      "Enter the name of your product t-shirt\n",
      "Enter the name of your product mug\n",
      "Price of the product t-shirt 5\n",
      "Price of the product mug 5\n",
      "10.0\n",
      "Order Statistics:\n",
      "Total Products Ordered: 2\n",
      "Percentage of Products Ordered: 20.0% \n",
      "The inventory after customer purchase is :{'t-shirt': 4, 'mug': 4}\n"
     ]
    }
   ],
   "source": [
    "p = [\"t-shirt\", \"mug\"]#, \"hat\", \"book\", \"keychain\"]\n",
    "inventory = initialize_inventory(p)\n",
    "customer_orders = get_customer_orders(p)\n",
    "statistics_tuple = calculate_order_statistics(customer_orders,inventory)\n",
    "inventory = update_inventory(customer_orders,inventory)\n",
    "# update_inventory_using_global(customer_orders,inventory) can be used but it is not best practices\n",
    "print(total_price(customer_orders))\n",
    "\n",
    "print_order_statistics(statistics_tuple)\n",
    "print_updated_inventory(inventory)"
   ]
  },
  {
   "cell_type": "code",
   "execution_count": null,
   "id": "5497acf8",
   "metadata": {},
   "outputs": [],
   "source": []
  }
 ],
 "metadata": {
  "kernelspec": {
   "display_name": "Python 3 (ipykernel)",
   "language": "python",
   "name": "python3"
  },
  "language_info": {
   "codemirror_mode": {
    "name": "ipython",
    "version": 3
   },
   "file_extension": ".py",
   "mimetype": "text/x-python",
   "name": "python",
   "nbconvert_exporter": "python",
   "pygments_lexer": "ipython3",
   "version": "3.8.13"
  },
  "toc": {
   "base_numbering": 1,
   "nav_menu": {},
   "number_sections": true,
   "sideBar": true,
   "skip_h1_title": false,
   "title_cell": "Table of Contents",
   "title_sidebar": "Contents",
   "toc_cell": false,
   "toc_position": {},
   "toc_section_display": true,
   "toc_window_display": false
  },
  "varInspector": {
   "cols": {
    "lenName": 16,
    "lenType": 16,
    "lenVar": 40
   },
   "kernels_config": {
    "python": {
     "delete_cmd_postfix": "",
     "delete_cmd_prefix": "del ",
     "library": "var_list.py",
     "varRefreshCmd": "print(var_dic_list())"
    },
    "r": {
     "delete_cmd_postfix": ") ",
     "delete_cmd_prefix": "rm(",
     "library": "var_list.r",
     "varRefreshCmd": "cat(var_dic_list()) "
    }
   },
   "types_to_exclude": [
    "module",
    "function",
    "builtin_function_or_method",
    "instance",
    "_Feature"
   ],
   "window_display": false
  }
 },
 "nbformat": 4,
 "nbformat_minor": 5
}
