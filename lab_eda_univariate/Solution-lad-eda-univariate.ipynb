{
 "cells": [
  {
   "cell_type": "markdown",
   "id": "037758ed",
   "metadata": {},
   "source": [
    "# Understanding Product Categories\n",
    "Business Question: What are the most popular product categories on Amazon UK, and how do they compare in terms of listing frequency?\n",
    "\n",
    "## Frequency Tables:\n",
    "\n",
    "Generate a frequency table for the product category.\n",
    "Which are the top 5 most listed product categories?\n"
   ]
  },
  {
   "cell_type": "code",
   "execution_count": 1,
   "id": "afc70b74",
   "metadata": {
    "ExecuteTime": {
     "end_time": "2024-01-08T14:07:31.944966Z",
     "start_time": "2024-01-08T14:07:31.577322Z"
    }
   },
   "outputs": [],
   "source": [
    "import pandas as pd"
   ]
  },
  {
   "cell_type": "code",
   "execution_count": 3,
   "id": "3e3b5210",
   "metadata": {
    "ExecuteTime": {
     "end_time": "2024-01-08T14:08:07.345822Z",
     "start_time": "2024-01-08T14:07:59.886203Z"
    }
   },
   "outputs": [],
   "source": [
    "df =pd.read_csv('amz_uk_price_prediction_dataset.csv')"
   ]
  },
  {
   "cell_type": "code",
   "execution_count": 10,
   "id": "2d24b89d",
   "metadata": {
    "ExecuteTime": {
     "end_time": "2024-01-08T14:11:02.976549Z",
     "start_time": "2024-01-08T14:11:02.965181Z"
    }
   },
   "outputs": [
    {
     "data": {
      "text/html": [
       "<div>\n",
       "<style scoped>\n",
       "    .dataframe tbody tr th:only-of-type {\n",
       "        vertical-align: middle;\n",
       "    }\n",
       "\n",
       "    .dataframe tbody tr th {\n",
       "        vertical-align: top;\n",
       "    }\n",
       "\n",
       "    .dataframe thead th {\n",
       "        text-align: right;\n",
       "    }\n",
       "</style>\n",
       "<table border=\"1\" class=\"dataframe\">\n",
       "  <thead>\n",
       "    <tr style=\"text-align: right;\">\n",
       "      <th></th>\n",
       "      <th>uid</th>\n",
       "      <th>asin</th>\n",
       "      <th>title</th>\n",
       "      <th>stars</th>\n",
       "      <th>reviews</th>\n",
       "      <th>price</th>\n",
       "      <th>isBestSeller</th>\n",
       "      <th>boughtInLastMonth</th>\n",
       "      <th>category</th>\n",
       "    </tr>\n",
       "  </thead>\n",
       "  <tbody>\n",
       "    <tr>\n",
       "      <th>0</th>\n",
       "      <td>1</td>\n",
       "      <td>B09B96TG33</td>\n",
       "      <td>Echo Dot (5th generation, 2022 release) | Big ...</td>\n",
       "      <td>4.7</td>\n",
       "      <td>15308</td>\n",
       "      <td>21.99</td>\n",
       "      <td>False</td>\n",
       "      <td>0</td>\n",
       "      <td>Hi-Fi Speakers</td>\n",
       "    </tr>\n",
       "    <tr>\n",
       "      <th>1</th>\n",
       "      <td>2</td>\n",
       "      <td>B01HTH3C8S</td>\n",
       "      <td>Anker Soundcore mini, Super-Portable Bluetooth...</td>\n",
       "      <td>4.7</td>\n",
       "      <td>98099</td>\n",
       "      <td>23.99</td>\n",
       "      <td>True</td>\n",
       "      <td>0</td>\n",
       "      <td>Hi-Fi Speakers</td>\n",
       "    </tr>\n",
       "    <tr>\n",
       "      <th>2</th>\n",
       "      <td>3</td>\n",
       "      <td>B09B8YWXDF</td>\n",
       "      <td>Echo Dot (5th generation, 2022 release) | Big ...</td>\n",
       "      <td>4.7</td>\n",
       "      <td>15308</td>\n",
       "      <td>21.99</td>\n",
       "      <td>False</td>\n",
       "      <td>0</td>\n",
       "      <td>Hi-Fi Speakers</td>\n",
       "    </tr>\n",
       "    <tr>\n",
       "      <th>3</th>\n",
       "      <td>4</td>\n",
       "      <td>B09B8T5VGV</td>\n",
       "      <td>Echo Dot with clock (5th generation, 2022 rele...</td>\n",
       "      <td>4.7</td>\n",
       "      <td>7205</td>\n",
       "      <td>31.99</td>\n",
       "      <td>False</td>\n",
       "      <td>0</td>\n",
       "      <td>Hi-Fi Speakers</td>\n",
       "    </tr>\n",
       "    <tr>\n",
       "      <th>4</th>\n",
       "      <td>5</td>\n",
       "      <td>B09WX6QD65</td>\n",
       "      <td>Introducing Echo Pop | Full sound compact Wi-F...</td>\n",
       "      <td>4.6</td>\n",
       "      <td>1881</td>\n",
       "      <td>17.99</td>\n",
       "      <td>False</td>\n",
       "      <td>0</td>\n",
       "      <td>Hi-Fi Speakers</td>\n",
       "    </tr>\n",
       "  </tbody>\n",
       "</table>\n",
       "</div>"
      ],
      "text/plain": [
       "   uid        asin                                              title  stars  \\\n",
       "0    1  B09B96TG33  Echo Dot (5th generation, 2022 release) | Big ...    4.7   \n",
       "1    2  B01HTH3C8S  Anker Soundcore mini, Super-Portable Bluetooth...    4.7   \n",
       "2    3  B09B8YWXDF  Echo Dot (5th generation, 2022 release) | Big ...    4.7   \n",
       "3    4  B09B8T5VGV  Echo Dot with clock (5th generation, 2022 rele...    4.7   \n",
       "4    5  B09WX6QD65  Introducing Echo Pop | Full sound compact Wi-F...    4.6   \n",
       "\n",
       "   reviews  price  isBestSeller  boughtInLastMonth        category  \n",
       "0    15308  21.99         False                  0  Hi-Fi Speakers  \n",
       "1    98099  23.99          True                  0  Hi-Fi Speakers  \n",
       "2    15308  21.99         False                  0  Hi-Fi Speakers  \n",
       "3     7205  31.99         False                  0  Hi-Fi Speakers  \n",
       "4     1881  17.99         False                  0  Hi-Fi Speakers  "
      ]
     },
     "execution_count": 10,
     "metadata": {},
     "output_type": "execute_result"
    }
   ],
   "source": [
    "df.head()"
   ]
  },
  {
   "cell_type": "code",
   "execution_count": 28,
   "id": "c92d29a2",
   "metadata": {
    "ExecuteTime": {
     "end_time": "2024-01-08T14:20:39.938946Z",
     "start_time": "2024-01-08T14:20:39.842682Z"
    }
   },
   "outputs": [],
   "source": [
    "frequency_table = pd.DataFrame(df['category'].value_counts()).reset_index()"
   ]
  },
  {
   "cell_type": "code",
   "execution_count": 8,
   "id": "079b351b",
   "metadata": {
    "ExecuteTime": {
     "end_time": "2024-01-08T14:09:30.611758Z",
     "start_time": "2024-01-08T14:09:30.093702Z"
    }
   },
   "outputs": [
    {
     "data": {
      "text/html": [
       "<div>\n",
       "<style scoped>\n",
       "    .dataframe tbody tr th:only-of-type {\n",
       "        vertical-align: middle;\n",
       "    }\n",
       "\n",
       "    .dataframe tbody tr th {\n",
       "        vertical-align: top;\n",
       "    }\n",
       "\n",
       "    .dataframe thead th {\n",
       "        text-align: right;\n",
       "    }\n",
       "</style>\n",
       "<table border=\"1\" class=\"dataframe\">\n",
       "  <thead>\n",
       "    <tr style=\"text-align: right;\">\n",
       "      <th>col_0</th>\n",
       "      <th>count</th>\n",
       "    </tr>\n",
       "    <tr>\n",
       "      <th>category</th>\n",
       "      <th></th>\n",
       "    </tr>\n",
       "  </thead>\n",
       "  <tbody>\n",
       "    <tr>\n",
       "      <th>3D Printers</th>\n",
       "      <td>248</td>\n",
       "    </tr>\n",
       "    <tr>\n",
       "      <th>3D Printing &amp; Scanning</th>\n",
       "      <td>4067</td>\n",
       "    </tr>\n",
       "    <tr>\n",
       "      <th>Abrasive &amp; Finishing Products</th>\n",
       "      <td>250</td>\n",
       "    </tr>\n",
       "    <tr>\n",
       "      <th>Action Cameras</th>\n",
       "      <td>1697</td>\n",
       "    </tr>\n",
       "    <tr>\n",
       "      <th>Adapters</th>\n",
       "      <td>254</td>\n",
       "    </tr>\n",
       "    <tr>\n",
       "      <th>...</th>\n",
       "      <td>...</td>\n",
       "    </tr>\n",
       "    <tr>\n",
       "      <th>Wind Instruments</th>\n",
       "      <td>250</td>\n",
       "    </tr>\n",
       "    <tr>\n",
       "      <th>Window Treatments</th>\n",
       "      <td>239</td>\n",
       "    </tr>\n",
       "    <tr>\n",
       "      <th>Women</th>\n",
       "      <td>17772</td>\n",
       "    </tr>\n",
       "    <tr>\n",
       "      <th>Women's Sports &amp; Outdoor Shoes</th>\n",
       "      <td>1959</td>\n",
       "    </tr>\n",
       "    <tr>\n",
       "      <th>eBook Readers &amp; Accessories</th>\n",
       "      <td>246</td>\n",
       "    </tr>\n",
       "  </tbody>\n",
       "</table>\n",
       "<p>296 rows × 1 columns</p>\n",
       "</div>"
      ],
      "text/plain": [
       "col_0                           count\n",
       "category                             \n",
       "3D Printers                       248\n",
       "3D Printing & Scanning           4067\n",
       "Abrasive & Finishing Products     250\n",
       "Action Cameras                   1697\n",
       "Adapters                          254\n",
       "...                               ...\n",
       "Wind Instruments                  250\n",
       "Window Treatments                 239\n",
       "Women                           17772\n",
       "Women's Sports & Outdoor Shoes   1959\n",
       "eBook Readers & Accessories       246\n",
       "\n",
       "[296 rows x 1 columns]"
      ]
     },
     "execution_count": 8,
     "metadata": {},
     "output_type": "execute_result"
    }
   ],
   "source": [
    "pd.crosstab(df['category'],columns='count')"
   ]
  },
  {
   "cell_type": "code",
   "execution_count": 9,
   "id": "c11ee3cb",
   "metadata": {
    "ExecuteTime": {
     "end_time": "2024-01-08T14:10:16.388045Z",
     "start_time": "2024-01-08T14:10:16.204878Z"
    }
   },
   "outputs": [
    {
     "data": {
      "text/plain": [
       "category\n",
       "3D Printers                         248\n",
       "3D Printing & Scanning             4067\n",
       "Abrasive & Finishing Products       250\n",
       "Action Cameras                     1697\n",
       "Adapters                            254\n",
       "                                  ...  \n",
       "Wind Instruments                    250\n",
       "Window Treatments                   239\n",
       "Women                             17772\n",
       "Women's Sports & Outdoor Shoes     1959\n",
       "eBook Readers & Accessories         246\n",
       "Length: 296, dtype: int64"
      ]
     },
     "execution_count": 9,
     "metadata": {},
     "output_type": "execute_result"
    }
   ],
   "source": [
    "df.groupby('category').size()"
   ]
  },
  {
   "cell_type": "code",
   "execution_count": 12,
   "id": "058cefb0",
   "metadata": {
    "ExecuteTime": {
     "end_time": "2024-01-08T14:11:24.406532Z",
     "start_time": "2024-01-08T14:11:24.188874Z"
    }
   },
   "outputs": [
    {
     "data": {
      "text/html": [
       "<div>\n",
       "<style scoped>\n",
       "    .dataframe tbody tr th:only-of-type {\n",
       "        vertical-align: middle;\n",
       "    }\n",
       "\n",
       "    .dataframe tbody tr th {\n",
       "        vertical-align: top;\n",
       "    }\n",
       "\n",
       "    .dataframe thead th {\n",
       "        text-align: right;\n",
       "    }\n",
       "</style>\n",
       "<table border=\"1\" class=\"dataframe\">\n",
       "  <thead>\n",
       "    <tr style=\"text-align: right;\">\n",
       "      <th></th>\n",
       "      <th>uid</th>\n",
       "    </tr>\n",
       "    <tr>\n",
       "      <th>category</th>\n",
       "      <th></th>\n",
       "    </tr>\n",
       "  </thead>\n",
       "  <tbody>\n",
       "    <tr>\n",
       "      <th>3D Printers</th>\n",
       "      <td>248</td>\n",
       "    </tr>\n",
       "    <tr>\n",
       "      <th>3D Printing &amp; Scanning</th>\n",
       "      <td>4067</td>\n",
       "    </tr>\n",
       "    <tr>\n",
       "      <th>Abrasive &amp; Finishing Products</th>\n",
       "      <td>250</td>\n",
       "    </tr>\n",
       "    <tr>\n",
       "      <th>Action Cameras</th>\n",
       "      <td>1697</td>\n",
       "    </tr>\n",
       "    <tr>\n",
       "      <th>Adapters</th>\n",
       "      <td>254</td>\n",
       "    </tr>\n",
       "    <tr>\n",
       "      <th>...</th>\n",
       "      <td>...</td>\n",
       "    </tr>\n",
       "    <tr>\n",
       "      <th>Wind Instruments</th>\n",
       "      <td>250</td>\n",
       "    </tr>\n",
       "    <tr>\n",
       "      <th>Window Treatments</th>\n",
       "      <td>239</td>\n",
       "    </tr>\n",
       "    <tr>\n",
       "      <th>Women</th>\n",
       "      <td>17772</td>\n",
       "    </tr>\n",
       "    <tr>\n",
       "      <th>Women's Sports &amp; Outdoor Shoes</th>\n",
       "      <td>1959</td>\n",
       "    </tr>\n",
       "    <tr>\n",
       "      <th>eBook Readers &amp; Accessories</th>\n",
       "      <td>246</td>\n",
       "    </tr>\n",
       "  </tbody>\n",
       "</table>\n",
       "<p>296 rows × 1 columns</p>\n",
       "</div>"
      ],
      "text/plain": [
       "                                  uid\n",
       "category                             \n",
       "3D Printers                       248\n",
       "3D Printing & Scanning           4067\n",
       "Abrasive & Finishing Products     250\n",
       "Action Cameras                   1697\n",
       "Adapters                          254\n",
       "...                               ...\n",
       "Wind Instruments                  250\n",
       "Window Treatments                 239\n",
       "Women                           17772\n",
       "Women's Sports & Outdoor Shoes   1959\n",
       "eBook Readers & Accessories       246\n",
       "\n",
       "[296 rows x 1 columns]"
      ]
     },
     "execution_count": 12,
     "metadata": {},
     "output_type": "execute_result"
    }
   ],
   "source": [
    "pd.pivot_table(data=df,index='category',values='uid',aggfunc='count')"
   ]
  },
  {
   "cell_type": "code",
   "execution_count": 15,
   "id": "3ffaf851",
   "metadata": {
    "ExecuteTime": {
     "end_time": "2024-01-08T14:12:27.043250Z",
     "start_time": "2024-01-08T14:12:27.037498Z"
    }
   },
   "outputs": [
    {
     "data": {
      "text/plain": [
       "category\n",
       "Sports & Outdoors                         836265\n",
       "Beauty                                     19312\n",
       "Handmade Clothing, Shoes & Accessories     19229\n",
       "Bath & Body                                19092\n",
       "Birthday Gifts                             18978\n",
       "Name: count, dtype: int64"
      ]
     },
     "execution_count": 15,
     "metadata": {},
     "output_type": "execute_result"
    }
   ],
   "source": [
    "frequency_table.head()"
   ]
  },
  {
   "cell_type": "markdown",
   "id": "784f6089",
   "metadata": {},
   "source": [
    "## Visualizations:\n",
    "\n",
    "Display the distribution of products across different categories using a bar chart. If you face problems understanding the chart, do it for a subset of top categories.\n",
    "For a subset of top categories, visualize their proportions using a pie chart. Does any category dominate the listings?"
   ]
  },
  {
   "cell_type": "code",
   "execution_count": 24,
   "id": "fca854d1",
   "metadata": {
    "ExecuteTime": {
     "end_time": "2024-01-08T14:18:12.063736Z",
     "start_time": "2024-01-08T14:18:12.061243Z"
    }
   },
   "outputs": [],
   "source": [
    "import seaborn as sns\n",
    "import matplotlib.pyplot as plt"
   ]
  },
  {
   "cell_type": "code",
   "execution_count": 21,
   "id": "5a5f8450",
   "metadata": {
    "ExecuteTime": {
     "end_time": "2024-01-08T14:16:19.004632Z",
     "start_time": "2024-01-08T14:16:16.516804Z"
    }
   },
   "outputs": [
    {
     "data": {
      "text/plain": [
       "<Axes: xlabel='category', ylabel='count'>"
      ]
     },
     "execution_count": 21,
     "metadata": {},
     "output_type": "execute_result"
    },
    {
     "data": {
      "image/png": "[encoded data removed]",
      "text/plain": [
       "<Figure size 640x480 with 1 Axes>"
      ]
     },
     "metadata": {},
     "output_type": "display_data"
    }
   ],
   "source": [
    "sns.barplot(frequency_table,x='category',y='count')"
   ]
  },
  {
   "cell_type": "code",
   "execution_count": 22,
   "id": "1fa66522",
   "metadata": {
    "ExecuteTime": {
     "end_time": "2024-01-08T14:16:37.706333Z",
     "start_time": "2024-01-08T14:16:37.701164Z"
    }
   },
   "outputs": [
    {
     "data": {
      "text/plain": [
       "(296,)"
      ]
     },
     "execution_count": 22,
     "metadata": {},
     "output_type": "execute_result"
    }
   ],
   "source": [
    "frequency_table.shape"
   ]
  },
  {
   "cell_type": "code",
   "execution_count": 27,
   "id": "928797b1",
   "metadata": {
    "ExecuteTime": {
     "end_time": "2024-01-08T14:19:51.783440Z",
     "start_time": "2024-01-08T14:19:51.619869Z"
    },
    "scrolled": false
   },
   "outputs": [
    {
     "data": {
      "image/png": "[encoded data removed]",
      "text/plain": [
       "<Figure size 640x480 with 1 Axes>"
      ]
     },
     "metadata": {},
     "output_type": "display_data"
    }
   ],
   "source": [
    "sns.barplot(frequency_table.head(),x='category',y='count')\n",
    "plt.xticks(rotation=90);"
   ]
  },
  {
   "cell_type": "code",
   "execution_count": 31,
   "id": "1af31d82",
   "metadata": {
    "ExecuteTime": {
     "end_time": "2024-01-08T14:24:34.989533Z",
     "start_time": "2024-01-08T14:24:34.979519Z"
    }
   },
   "outputs": [
    {
     "data": {
      "text/html": [
       "<div>\n",
       "<style scoped>\n",
       "    .dataframe tbody tr th:only-of-type {\n",
       "        vertical-align: middle;\n",
       "    }\n",
       "\n",
       "    .dataframe tbody tr th {\n",
       "        vertical-align: top;\n",
       "    }\n",
       "\n",
       "    .dataframe thead th {\n",
       "        text-align: right;\n",
       "    }\n",
       "</style>\n",
       "<table border=\"1\" class=\"dataframe\">\n",
       "  <thead>\n",
       "    <tr style=\"text-align: right;\">\n",
       "      <th></th>\n",
       "      <th>category</th>\n",
       "      <th>count</th>\n",
       "    </tr>\n",
       "  </thead>\n",
       "  <tbody>\n",
       "    <tr>\n",
       "      <th>0</th>\n",
       "      <td>Sports &amp; Outdoors</td>\n",
       "      <td>836265</td>\n",
       "    </tr>\n",
       "    <tr>\n",
       "      <th>1</th>\n",
       "      <td>Beauty</td>\n",
       "      <td>19312</td>\n",
       "    </tr>\n",
       "    <tr>\n",
       "      <th>2</th>\n",
       "      <td>Handmade Clothing, Shoes &amp; Accessories</td>\n",
       "      <td>19229</td>\n",
       "    </tr>\n",
       "    <tr>\n",
       "      <th>3</th>\n",
       "      <td>Bath &amp; Body</td>\n",
       "      <td>19092</td>\n",
       "    </tr>\n",
       "    <tr>\n",
       "      <th>4</th>\n",
       "      <td>Birthday Gifts</td>\n",
       "      <td>18978</td>\n",
       "    </tr>\n",
       "    <tr>\n",
       "      <th>...</th>\n",
       "      <td>...</td>\n",
       "      <td>...</td>\n",
       "    </tr>\n",
       "    <tr>\n",
       "      <th>291</th>\n",
       "      <td>Alexa Built-In Devices</td>\n",
       "      <td>107</td>\n",
       "    </tr>\n",
       "    <tr>\n",
       "      <th>292</th>\n",
       "      <td>Motorbike Chassis</td>\n",
       "      <td>107</td>\n",
       "    </tr>\n",
       "    <tr>\n",
       "      <th>293</th>\n",
       "      <td>Plugs</td>\n",
       "      <td>107</td>\n",
       "    </tr>\n",
       "    <tr>\n",
       "      <th>294</th>\n",
       "      <td>Smart Home Security &amp; Lighting</td>\n",
       "      <td>104</td>\n",
       "    </tr>\n",
       "    <tr>\n",
       "      <th>295</th>\n",
       "      <td>Smart Speakers</td>\n",
       "      <td>54</td>\n",
       "    </tr>\n",
       "  </tbody>\n",
       "</table>\n",
       "<p>296 rows × 2 columns</p>\n",
       "</div>"
      ],
      "text/plain": [
       "                                   category   count\n",
       "0                         Sports & Outdoors  836265\n",
       "1                                    Beauty   19312\n",
       "2    Handmade Clothing, Shoes & Accessories   19229\n",
       "3                               Bath & Body   19092\n",
       "4                            Birthday Gifts   18978\n",
       "..                                      ...     ...\n",
       "291                  Alexa Built-In Devices     107\n",
       "292                       Motorbike Chassis     107\n",
       "293                                   Plugs     107\n",
       "294          Smart Home Security & Lighting     104\n",
       "295                          Smart Speakers      54\n",
       "\n",
       "[296 rows x 2 columns]"
      ]
     },
     "execution_count": 31,
     "metadata": {},
     "output_type": "execute_result"
    }
   ],
   "source": [
    "frequency_table"
   ]
  },
  {
   "cell_type": "code",
   "execution_count": 42,
   "id": "2260c3aa",
   "metadata": {
    "ExecuteTime": {
     "end_time": "2024-01-08T14:28:48.012755Z",
     "start_time": "2024-01-08T14:28:47.818563Z"
    },
    "scrolled": false
   },
   "outputs": [
    {
     "data": {
      "text/plain": [
       "<Axes: ylabel='count'>"
      ]
     },
     "execution_count": 42,
     "metadata": {},
     "output_type": "execute_result"
    },
    {
     "data": {
      "image/png": "[encoded data removed]",
      "text/plain": [
       "<Figure size 640x480 with 1 Axes>"
      ]
     },
     "metadata": {},
     "output_type": "display_data"
    }
   ],
   "source": [
    "df['category'].value_counts().head().plot(kind='pie')\n"
   ]
  },
  {
   "cell_type": "markdown",
   "id": "4f245838",
   "metadata": {},
   "source": [
    "# Part 2: Delving into Product Pricing"
   ]
  },
  {
   "cell_type": "markdown",
   "id": "d6470e25",
   "metadata": {},
   "source": [
    "Business Question: How are products priced on Amazon UK, and are there specific price points or ranges that are more common?\n",
    "\n",
    "## Measures of Centrality:\n",
    "\n",
    "Calculate the mean, median, and mode for the price of products.\n",
    "What's the average price point of products listed? How does this compare with the most common price point (mode)?"
   ]
  },
  {
   "cell_type": "code",
   "execution_count": 50,
   "id": "ed33e3ce",
   "metadata": {
    "ExecuteTime": {
     "end_time": "2024-01-08T14:38:19.543459Z",
     "start_time": "2024-01-08T14:38:19.401623Z"
    },
    "scrolled": true
   },
   "outputs": [
    {
     "name": "stdout",
     "output_type": "stream",
     "text": [
      "Average 89.24380943923663,median 19.09, mode 9.99\n"
     ]
    }
   ],
   "source": [
    "print(f\"Average {df['price'].mean()},median {df['price'].median()}, mode {df['price'].mode()[0]}\")\n"
   ]
  },
  {
   "cell_type": "markdown",
   "id": "a7414fb0",
   "metadata": {},
   "source": [
    "## Measures of Dispersion:\n",
    "\n",
    "Determine the variance, standard deviation, range, and interquartile range for product price.\n",
    "How varied are the product prices? Are there any indicators of a significant spread in prices?"
   ]
  },
  {
   "cell_type": "code",
   "execution_count": 53,
   "id": "5b1563b3",
   "metadata": {
    "ExecuteTime": {
     "end_time": "2024-01-08T14:46:01.854858Z",
     "start_time": "2024-01-08T14:46:01.773943Z"
    }
   },
   "outputs": [
    {
     "name": "stdout",
     "output_type": "stream",
     "text": [
      "Variance 119445.48532256528,standard deviation 345.60886175352226,\n",
      "range 100000.0, IQR 36.0 \n"
     ]
    }
   ],
   "source": [
    "print(f\"\"\"Variance {df['price'].var()},standard deviation {df['price'].std()},\n",
    "range {df['price'].max()-df['price'].min()}, IQR {df['price'].quantile(0.75)-df['price'].quantile(0.25)} \"\"\")"
   ]
  },
  {
   "cell_type": "markdown",
   "id": "8afd93f7",
   "metadata": {},
   "source": [
    "## Visualizations:\n",
    "\n",
    "Is there a specific price range where most products fall? Plot a histogram to visualize the distribution of product prices. If its hard to read these diagrams, think why this is, and explain how it could be solved..\n",
    "Are there products that are priced significantly higher than the rest? Use a box plot to showcase the spread and potential outliers in product pricing."
   ]
  },
  {
   "cell_type": "code",
   "execution_count": 85,
   "id": "fe3c6c97",
   "metadata": {
    "ExecuteTime": {
     "end_time": "2024-01-08T15:08:10.458664Z",
     "start_time": "2024-01-08T15:08:10.364601Z"
    },
    "scrolled": true
   },
   "outputs": [],
   "source": [
    "cut_price = pd.DataFrame(pd.cut(\n",
    "    df['price'],bins=[0,10,20,30,40,50,60,70,80,90,100,500,1000,10000,1000000]).value_counts()\n",
    "                         .sort_index()).reset_index()"
   ]
  },
  {
   "cell_type": "code",
   "execution_count": 88,
   "id": "2471d950",
   "metadata": {
    "ExecuteTime": {
     "end_time": "2024-01-08T15:08:53.479464Z",
     "start_time": "2024-01-08T15:08:53.291757Z"
    }
   },
   "outputs": [
    {
     "name": "stderr",
     "output_type": "stream",
     "text": [
      "C:\\Users\\raian\\miniconda3\\envs\\2024\\Lib\\site-packages\\seaborn\\categorical.py:641: FutureWarning: The default of observed=False is deprecated and will be changed to True in a future version of pandas. Pass observed=False to retain current behavior or observed=True to adopt the future default and silence this warning.\n",
      "  grouped_vals = vals.groupby(grouper)\n"
     ]
    },
    {
     "data": {
      "image/png": "[encoded data removed]",
      "text/plain": [
       "<Figure size 640x480 with 1 Axes>"
      ]
     },
     "metadata": {},
     "output_type": "display_data"
    }
   ],
   "source": [
    "sns.barplot(cut_price,x='price',y='count')\n",
    "plt.xticks(rotation=45);"
   ]
  },
  {
   "cell_type": "code",
   "execution_count": 78,
   "id": "741d2f0b",
   "metadata": {
    "ExecuteTime": {
     "end_time": "2024-01-08T15:05:33.939136Z",
     "start_time": "2024-01-08T15:05:33.019711Z"
    }
   },
   "outputs": [
    {
     "name": "stderr",
     "output_type": "stream",
     "text": [
      "C:\\Users\\raian\\miniconda3\\envs\\2024\\Lib\\site-packages\\seaborn\\_oldcore.py:1119: FutureWarning: use_inf_as_na option is deprecated and will be removed in a future version. Convert inf values to NaN before operating instead.\n",
      "  with pd.option_context('mode.use_inf_as_na', True):\n"
     ]
    },
    {
     "data": {
      "text/plain": [
       "<seaborn.axisgrid.FacetGrid at 0x25bc889b390>"
      ]
     },
     "execution_count": 78,
     "metadata": {},
     "output_type": "execute_result"
    },
    {
     "data": {
      "image/png": "[encoded data removed]",
      "text/plain": [
       "<Figure size 500x500 with 1 Axes>"
      ]
     },
     "metadata": {},
     "output_type": "display_data"
    }
   ],
   "source": [
    "sns.displot(data=df,x='price',bins=[0,10,20,30,40,50,60,70,80,90,100,500,1000,10000,1000000])"
   ]
  },
  {
   "cell_type": "code",
   "execution_count": 114,
   "id": "8a80355f",
   "metadata": {
    "ExecuteTime": {
     "end_time": "2024-01-08T15:33:59.680413Z",
     "start_time": "2024-01-08T15:33:59.510912Z"
    }
   },
   "outputs": [
    {
     "data": {
      "text/plain": [
       "<Axes: >"
      ]
     },
     "execution_count": 114,
     "metadata": {},
     "output_type": "execute_result"
    },
    {
     "data": {
      "image/png": "[encoded data removed]",
      "text/plain": [
       "<Figure size 640x480 with 1 Axes>"
      ]
     },
     "metadata": {},
     "output_type": "display_data"
    }
   ],
   "source": [
    "df['price'].hist()"
   ]
  },
  {
   "cell_type": "code",
   "execution_count": 68,
   "id": "3a91c6e2",
   "metadata": {
    "ExecuteTime": {
     "end_time": "2024-01-08T15:01:02.036293Z",
     "start_time": "2024-01-08T15:01:01.613414Z"
    }
   },
   "outputs": [
    {
     "data": {
      "text/plain": [
       "<Axes: >"
      ]
     },
     "execution_count": 68,
     "metadata": {},
     "output_type": "execute_result"
    },
    {
     "data": {
      "image/png": "[encoded data removed]",
      "text/plain": [
       "<Figure size 640x480 with 1 Axes>"
      ]
     },
     "metadata": {},
     "output_type": "display_data"
    }
   ],
   "source": [
    "df['price'].hist()"
   ]
  },
  {
   "cell_type": "code",
   "execution_count": 60,
   "id": "50aaae3c",
   "metadata": {
    "ExecuteTime": {
     "end_time": "2024-01-08T14:52:52.223263Z",
     "start_time": "2024-01-08T14:52:49.029927Z"
    },
    "scrolled": false
   },
   "outputs": [
    {
     "data": {
      "text/plain": [
       "<Axes: >"
      ]
     },
     "execution_count": 60,
     "metadata": {},
     "output_type": "execute_result"
    },
    {
     "data": {
      "image/png": "[encoded data removed]",
      "text/plain": [
       "<Figure size 640x480 with 1 Axes>"
      ]
     },
     "metadata": {},
     "output_type": "display_data"
    }
   ],
   "source": [
    "df.query('price<100').boxplot(column='price')\n"
   ]
  },
  {
   "cell_type": "code",
   "execution_count": 90,
   "id": "d72e7d6d",
   "metadata": {
    "ExecuteTime": {
     "end_time": "2024-01-08T15:13:22.119971Z",
     "start_time": "2024-01-08T15:13:22.043229Z"
    }
   },
   "outputs": [
    {
     "data": {
      "text/plain": [
       "price\n",
       "(0, 60]           1953264\n",
       "(60, 100]          163113\n",
       "(100, 1000000]     327254\n",
       "Name: count, dtype: int64"
      ]
     },
     "execution_count": 90,
     "metadata": {},
     "output_type": "execute_result"
    }
   ],
   "source": [
    "pd.cut(df['price'],bins=[0,60,100,1000000]).value_counts().sort_index()"
   ]
  },
  {
   "cell_type": "markdown",
   "id": "0c1bd4cd",
   "metadata": {},
   "source": [
    "# Part 3: Unpacking Product Ratings\n",
    "Business Question: How do customers rate products on Amazon UK, and are there any patterns or tendencies in the ratings?"
   ]
  },
  {
   "cell_type": "code",
   "execution_count": 92,
   "id": "7d86b829",
   "metadata": {
    "ExecuteTime": {
     "end_time": "2024-01-08T15:16:32.609400Z",
     "start_time": "2024-01-08T15:16:32.602644Z"
    }
   },
   "outputs": [
    {
     "data": {
      "text/plain": [
       "0          4.7\n",
       "1          4.7\n",
       "2          4.7\n",
       "3          4.7\n",
       "4          4.6\n",
       "          ... \n",
       "2443646    0.0\n",
       "2443647    0.0\n",
       "2443648    0.0\n",
       "2443649    4.3\n",
       "2443650    4.5\n",
       "Name: stars, Length: 2443651, dtype: float64"
      ]
     },
     "execution_count": 92,
     "metadata": {},
     "output_type": "execute_result"
    }
   ],
   "source": [
    "df['stars']"
   ]
  },
  {
   "cell_type": "code",
   "execution_count": 93,
   "id": "acd8cad8",
   "metadata": {
    "ExecuteTime": {
     "end_time": "2024-01-08T15:16:52.645421Z",
     "start_time": "2024-01-08T15:16:52.579182Z"
    }
   },
   "outputs": [
    {
     "name": "stdout",
     "output_type": "stream",
     "text": [
      "Average 2.152836472966065,median 0.0, mode 0.0\n"
     ]
    }
   ],
   "source": [
    "print(f\"Average {df['stars'].mean()},median {df['stars'].median()}, mode {df['stars'].mode()[0]}\")"
   ]
  },
  {
   "cell_type": "code",
   "execution_count": 99,
   "id": "e877db6c",
   "metadata": {
    "ExecuteTime": {
     "end_time": "2024-01-08T15:20:15.215269Z",
     "start_time": "2024-01-08T15:20:15.202418Z"
    }
   },
   "outputs": [
    {
     "data": {
      "text/html": [
       "<div>\n",
       "<style scoped>\n",
       "    .dataframe tbody tr th:only-of-type {\n",
       "        vertical-align: middle;\n",
       "    }\n",
       "\n",
       "    .dataframe tbody tr th {\n",
       "        vertical-align: top;\n",
       "    }\n",
       "\n",
       "    .dataframe thead th {\n",
       "        text-align: right;\n",
       "    }\n",
       "</style>\n",
       "<table border=\"1\" class=\"dataframe\">\n",
       "  <thead>\n",
       "    <tr style=\"text-align: right;\">\n",
       "      <th></th>\n",
       "      <th>uid</th>\n",
       "      <th>asin</th>\n",
       "      <th>title</th>\n",
       "      <th>stars</th>\n",
       "      <th>reviews</th>\n",
       "      <th>price</th>\n",
       "      <th>isBestSeller</th>\n",
       "      <th>boughtInLastMonth</th>\n",
       "      <th>category</th>\n",
       "    </tr>\n",
       "  </thead>\n",
       "  <tbody>\n",
       "    <tr>\n",
       "      <th>0</th>\n",
       "      <td>1</td>\n",
       "      <td>B09B96TG33</td>\n",
       "      <td>Echo Dot (5th generation, 2022 release) | Big ...</td>\n",
       "      <td>4.7</td>\n",
       "      <td>15308</td>\n",
       "      <td>21.99</td>\n",
       "      <td>False</td>\n",
       "      <td>0</td>\n",
       "      <td>Hi-Fi Speakers</td>\n",
       "    </tr>\n",
       "    <tr>\n",
       "      <th>1</th>\n",
       "      <td>2</td>\n",
       "      <td>B01HTH3C8S</td>\n",
       "      <td>Anker Soundcore mini, Super-Portable Bluetooth...</td>\n",
       "      <td>4.7</td>\n",
       "      <td>98099</td>\n",
       "      <td>23.99</td>\n",
       "      <td>True</td>\n",
       "      <td>0</td>\n",
       "      <td>Hi-Fi Speakers</td>\n",
       "    </tr>\n",
       "    <tr>\n",
       "      <th>2</th>\n",
       "      <td>3</td>\n",
       "      <td>B09B8YWXDF</td>\n",
       "      <td>Echo Dot (5th generation, 2022 release) | Big ...</td>\n",
       "      <td>4.7</td>\n",
       "      <td>15308</td>\n",
       "      <td>21.99</td>\n",
       "      <td>False</td>\n",
       "      <td>0</td>\n",
       "      <td>Hi-Fi Speakers</td>\n",
       "    </tr>\n",
       "    <tr>\n",
       "      <th>3</th>\n",
       "      <td>4</td>\n",
       "      <td>B09B8T5VGV</td>\n",
       "      <td>Echo Dot with clock (5th generation, 2022 rele...</td>\n",
       "      <td>4.7</td>\n",
       "      <td>7205</td>\n",
       "      <td>31.99</td>\n",
       "      <td>False</td>\n",
       "      <td>0</td>\n",
       "      <td>Hi-Fi Speakers</td>\n",
       "    </tr>\n",
       "    <tr>\n",
       "      <th>4</th>\n",
       "      <td>5</td>\n",
       "      <td>B09WX6QD65</td>\n",
       "      <td>Introducing Echo Pop | Full sound compact Wi-F...</td>\n",
       "      <td>4.6</td>\n",
       "      <td>1881</td>\n",
       "      <td>17.99</td>\n",
       "      <td>False</td>\n",
       "      <td>0</td>\n",
       "      <td>Hi-Fi Speakers</td>\n",
       "    </tr>\n",
       "    <tr>\n",
       "      <th>...</th>\n",
       "      <td>...</td>\n",
       "      <td>...</td>\n",
       "      <td>...</td>\n",
       "      <td>...</td>\n",
       "      <td>...</td>\n",
       "      <td>...</td>\n",
       "      <td>...</td>\n",
       "      <td>...</td>\n",
       "      <td>...</td>\n",
       "    </tr>\n",
       "    <tr>\n",
       "      <th>2443646</th>\n",
       "      <td>2828589</td>\n",
       "      <td>B0CHSD7P2Q</td>\n",
       "      <td>Motorbike Armour, Motorbike Clothing, Cycling ...</td>\n",
       "      <td>0.0</td>\n",
       "      <td>0</td>\n",
       "      <td>22.34</td>\n",
       "      <td>False</td>\n",
       "      <td>0</td>\n",
       "      <td>Motorbike Clothing</td>\n",
       "    </tr>\n",
       "    <tr>\n",
       "      <th>2443647</th>\n",
       "      <td>2828590</td>\n",
       "      <td>B0B7B8FNBQ</td>\n",
       "      <td>PROFIRST Waterproof Motorcycle 2 Piece Ladies ...</td>\n",
       "      <td>0.0</td>\n",
       "      <td>0</td>\n",
       "      <td>97.99</td>\n",
       "      <td>False</td>\n",
       "      <td>0</td>\n",
       "      <td>Motorbike Clothing</td>\n",
       "    </tr>\n",
       "    <tr>\n",
       "      <th>2443648</th>\n",
       "      <td>2828591</td>\n",
       "      <td>B0BD5FL5FB</td>\n",
       "      <td>Men’s Motorcycle Motorbike Biker Trousers Kevl...</td>\n",
       "      <td>0.0</td>\n",
       "      <td>0</td>\n",
       "      <td>52.99</td>\n",
       "      <td>False</td>\n",
       "      <td>0</td>\n",
       "      <td>Motorbike Clothing</td>\n",
       "    </tr>\n",
       "    <tr>\n",
       "      <th>2443649</th>\n",
       "      <td>2828592</td>\n",
       "      <td>B008OYLL4I</td>\n",
       "      <td>Texpeed Mens Motorcycle Motorbike Biker Trouse...</td>\n",
       "      <td>4.3</td>\n",
       "      <td>404</td>\n",
       "      <td>79.99</td>\n",
       "      <td>False</td>\n",
       "      <td>0</td>\n",
       "      <td>Motorbike Clothing</td>\n",
       "    </tr>\n",
       "    <tr>\n",
       "      <th>2443650</th>\n",
       "      <td>2828593</td>\n",
       "      <td>B08P3W9B3T</td>\n",
       "      <td>RIDEX CJ223 Motorcycle Motorbike Jacket Armour...</td>\n",
       "      <td>4.5</td>\n",
       "      <td>34</td>\n",
       "      <td>53.99</td>\n",
       "      <td>False</td>\n",
       "      <td>0</td>\n",
       "      <td>Motorbike Clothing</td>\n",
       "    </tr>\n",
       "  </tbody>\n",
       "</table>\n",
       "<p>2443651 rows × 9 columns</p>\n",
       "</div>"
      ],
      "text/plain": [
       "             uid        asin  \\\n",
       "0              1  B09B96TG33   \n",
       "1              2  B01HTH3C8S   \n",
       "2              3  B09B8YWXDF   \n",
       "3              4  B09B8T5VGV   \n",
       "4              5  B09WX6QD65   \n",
       "...          ...         ...   \n",
       "2443646  2828589  B0CHSD7P2Q   \n",
       "2443647  2828590  B0B7B8FNBQ   \n",
       "2443648  2828591  B0BD5FL5FB   \n",
       "2443649  2828592  B008OYLL4I   \n",
       "2443650  2828593  B08P3W9B3T   \n",
       "\n",
       "                                                     title  stars  reviews  \\\n",
       "0        Echo Dot (5th generation, 2022 release) | Big ...    4.7    15308   \n",
       "1        Anker Soundcore mini, Super-Portable Bluetooth...    4.7    98099   \n",
       "2        Echo Dot (5th generation, 2022 release) | Big ...    4.7    15308   \n",
       "3        Echo Dot with clock (5th generation, 2022 rele...    4.7     7205   \n",
       "4        Introducing Echo Pop | Full sound compact Wi-F...    4.6     1881   \n",
       "...                                                    ...    ...      ...   \n",
       "2443646  Motorbike Armour, Motorbike Clothing, Cycling ...    0.0        0   \n",
       "2443647  PROFIRST Waterproof Motorcycle 2 Piece Ladies ...    0.0        0   \n",
       "2443648  Men’s Motorcycle Motorbike Biker Trousers Kevl...    0.0        0   \n",
       "2443649  Texpeed Mens Motorcycle Motorbike Biker Trouse...    4.3      404   \n",
       "2443650  RIDEX CJ223 Motorcycle Motorbike Jacket Armour...    4.5       34   \n",
       "\n",
       "         price  isBestSeller  boughtInLastMonth            category  \n",
       "0        21.99         False                  0      Hi-Fi Speakers  \n",
       "1        23.99          True                  0      Hi-Fi Speakers  \n",
       "2        21.99         False                  0      Hi-Fi Speakers  \n",
       "3        31.99         False                  0      Hi-Fi Speakers  \n",
       "4        17.99         False                  0      Hi-Fi Speakers  \n",
       "...        ...           ...                ...                 ...  \n",
       "2443646  22.34         False                  0  Motorbike Clothing  \n",
       "2443647  97.99         False                  0  Motorbike Clothing  \n",
       "2443648  52.99         False                  0  Motorbike Clothing  \n",
       "2443649  79.99         False                  0  Motorbike Clothing  \n",
       "2443650  53.99         False                  0  Motorbike Clothing  \n",
       "\n",
       "[2443651 rows x 9 columns]"
      ]
     },
     "execution_count": 99,
     "metadata": {},
     "output_type": "execute_result"
    }
   ],
   "source": [
    "df"
   ]
  },
  {
   "cell_type": "code",
   "execution_count": 105,
   "id": "082c3474",
   "metadata": {
    "ExecuteTime": {
     "end_time": "2024-01-08T15:23:14.362092Z",
     "start_time": "2024-01-08T15:23:14.345433Z"
    },
    "cell_style": "split"
   },
   "outputs": [
    {
     "data": {
      "text/plain": [
       "0          False\n",
       "1          False\n",
       "2          False\n",
       "3          False\n",
       "4          False\n",
       "           ...  \n",
       "2443646     True\n",
       "2443647     True\n",
       "2443648     True\n",
       "2443649    False\n",
       "2443650    False\n",
       "Length: 2443651, dtype: bool"
      ]
     },
     "execution_count": 105,
     "metadata": {},
     "output_type": "execute_result"
    }
   ],
   "source": [
    "((df['reviews']==0) &(df['stars']==0))"
   ]
  },
  {
   "cell_type": "code",
   "execution_count": 104,
   "id": "12462646",
   "metadata": {
    "ExecuteTime": {
     "end_time": "2024-01-08T15:23:13.479321Z",
     "start_time": "2024-01-08T15:23:13.463648Z"
    },
    "cell_style": "split"
   },
   "outputs": [
    {
     "data": {
      "text/plain": [
       "0           True\n",
       "1           True\n",
       "2           True\n",
       "3           True\n",
       "4           True\n",
       "           ...  \n",
       "2443646    False\n",
       "2443647    False\n",
       "2443648    False\n",
       "2443649     True\n",
       "2443650     True\n",
       "Length: 2443651, dtype: bool"
      ]
     },
     "execution_count": 104,
     "metadata": {},
     "output_type": "execute_result"
    }
   ],
   "source": [
    "~((df['reviews']==0) &(df['stars']==0))"
   ]
  },
  {
   "cell_type": "code",
   "execution_count": 103,
   "id": "784cae22",
   "metadata": {
    "ExecuteTime": {
     "end_time": "2024-01-08T15:22:11.345667Z",
     "start_time": "2024-01-08T15:22:11.203221Z"
    }
   },
   "outputs": [
    {
     "name": "stdout",
     "output_type": "stream",
     "text": [
      "Average 4.31916076222691,median 4.4, mode 4.5\n"
     ]
    }
   ],
   "source": [
    "df_bought = df.loc[~((df['reviews']==0) &(df['stars']==0))]\n",
    "print(f\"Average {df_bought['stars'].mean()},median {df_bought['stars'].median()}, mode {df_bought['stars'].mode()[0]}\")"
   ]
  },
  {
   "cell_type": "markdown",
   "id": "51108c9c",
   "metadata": {},
   "source": [
    "## Measures of Dispersion:\n",
    "\n",
    "Determine the variance, standard deviation, and interquartile range for product rating.\n",
    "Are the ratings consistent, or is there a wide variation in customer feedback?"
   ]
  },
  {
   "cell_type": "code",
   "execution_count": 108,
   "id": "40d85e43",
   "metadata": {
    "ExecuteTime": {
     "end_time": "2024-01-08T15:29:09.968148Z",
     "start_time": "2024-01-08T15:29:09.951631Z"
    }
   },
   "outputs": [
    {
     "data": {
      "text/html": [
       "<div>\n",
       "<style scoped>\n",
       "    .dataframe tbody tr th:only-of-type {\n",
       "        vertical-align: middle;\n",
       "    }\n",
       "\n",
       "    .dataframe tbody tr th {\n",
       "        vertical-align: top;\n",
       "    }\n",
       "\n",
       "    .dataframe thead th {\n",
       "        text-align: right;\n",
       "    }\n",
       "</style>\n",
       "<table border=\"1\" class=\"dataframe\">\n",
       "  <thead>\n",
       "    <tr style=\"text-align: right;\">\n",
       "      <th></th>\n",
       "      <th>uid</th>\n",
       "      <th>asin</th>\n",
       "      <th>title</th>\n",
       "      <th>stars</th>\n",
       "      <th>reviews</th>\n",
       "      <th>price</th>\n",
       "      <th>isBestSeller</th>\n",
       "      <th>boughtInLastMonth</th>\n",
       "      <th>category</th>\n",
       "    </tr>\n",
       "  </thead>\n",
       "  <tbody>\n",
       "  </tbody>\n",
       "</table>\n",
       "</div>"
      ],
      "text/plain": [
       "Empty DataFrame\n",
       "Columns: [uid, asin, title, stars, reviews, price, isBestSeller, boughtInLastMonth, category]\n",
       "Index: []"
      ]
     },
     "execution_count": 108,
     "metadata": {},
     "output_type": "execute_result"
    }
   ],
   "source": [
    "df.loc[((df['reviews']>0) &(df['stars']==0))]"
   ]
  },
  {
   "cell_type": "code",
   "execution_count": 106,
   "id": "4db06495",
   "metadata": {
    "ExecuteTime": {
     "end_time": "2024-01-08T15:26:20.546103Z",
     "start_time": "2024-01-08T15:26:20.464946Z"
    }
   },
   "outputs": [
    {
     "name": "stdout",
     "output_type": "stream",
     "text": [
      "Variance 4.81743402976196,standard deviation 2.1948653785054697,\n",
      "range 5.0, IQR 4.4 \n"
     ]
    }
   ],
   "source": [
    "print(f\"\"\"Variance {df['stars'].var()},standard deviation {df['stars'].std()},\n",
    "range {df['stars'].max()-df['stars'].min()}, IQR {df['stars'].quantile(0.75)-df['stars'].quantile(0.25)} \"\"\")"
   ]
  },
  {
   "cell_type": "code",
   "execution_count": 107,
   "id": "7bdf901a",
   "metadata": {
    "ExecuteTime": {
     "end_time": "2024-01-08T15:27:36.744071Z",
     "start_time": "2024-01-08T15:27:36.537095Z"
    }
   },
   "outputs": [
    {
     "name": "stdout",
     "output_type": "stream",
     "text": [
      "Variance 0.3083433752380519,standard deviation 0.5552867504614637,\n",
      "range 4.0, IQR 0.5 \n"
     ]
    }
   ],
   "source": [
    "df_bought = df.loc[~((df['reviews']==0) &(df['stars']==0))]\n",
    "print(f\"\"\"Variance {df_bought['stars'].var()},standard deviation {df_bought['stars'].std()},\n",
    "range {df_bought['stars'].max()-df_bought['stars'].min()}, IQR {df_bought['stars'].quantile(0.75)-df_bought['stars'].quantile(0.25)} \"\"\")"
   ]
  },
  {
   "cell_type": "markdown",
   "id": "fd46cd43",
   "metadata": {},
   "source": [
    "## Shape of the Distribution:\n",
    "\n",
    "Calculate the skewness and kurtosis for the rating column.\n",
    "Are the ratings normally distributed, or do they lean towards higher or lower values?\n"
   ]
  },
  {
   "cell_type": "code",
   "execution_count": 112,
   "id": "0baa5db4",
   "metadata": {
    "ExecuteTime": {
     "end_time": "2024-01-08T15:32:53.928971Z",
     "start_time": "2024-01-08T15:32:53.896092Z"
    }
   },
   "outputs": [
    {
     "data": {
      "text/plain": [
       "stars\n",
       "0.0    1225641\n",
       "4.5     151577\n",
       "4.6     136995\n",
       "4.4     136165\n",
       "5.0     128492\n",
       "Name: count, dtype: int64"
      ]
     },
     "execution_count": 112,
     "metadata": {},
     "output_type": "execute_result"
    }
   ],
   "source": [
    "df['stars'].value_counts().head()"
   ]
  },
  {
   "cell_type": "code",
   "execution_count": 110,
   "id": "4bed85ed",
   "metadata": {
    "ExecuteTime": {
     "end_time": "2024-01-08T15:31:07.393350Z",
     "start_time": "2024-01-08T15:31:07.296835Z"
    }
   },
   "outputs": [
    {
     "name": "stdout",
     "output_type": "stream",
     "text": [
      "Skewness 0.08120735761080985, kurtosis -1.9260061280432985\n"
     ]
    }
   ],
   "source": [
    "print(f\"Skewness {df['stars'].skew()}, kurtosis {df['stars'].kurtosis()}\")"
   ]
  },
  {
   "cell_type": "code",
   "execution_count": 115,
   "id": "b365de3d",
   "metadata": {
    "ExecuteTime": {
     "end_time": "2024-01-08T15:34:28.923179Z",
     "start_time": "2024-01-08T15:34:28.736346Z"
    }
   },
   "outputs": [
    {
     "name": "stdout",
     "output_type": "stream",
     "text": [
      "Skewness -2.3795681122127945, kurtosis 9.78193769066435\n"
     ]
    }
   ],
   "source": [
    "df_bought = df.loc[~((df['reviews']==0) &(df['stars']==0))]\n",
    "print(f\"Skewness {df_bought['stars'].skew()}, kurtosis {df_bought['stars'].kurtosis()}\")"
   ]
  },
  {
   "cell_type": "markdown",
   "id": "d47f0f1d",
   "metadata": {},
   "source": [
    "## Visualizations:\n",
    "\n",
    "Plot a histogram to visualize the distribution of product ratings. Is there a specific rating that is more common?"
   ]
  },
  {
   "cell_type": "code",
   "execution_count": null,
   "id": "b575c2db",
   "metadata": {},
   "outputs": [],
   "source": []
  },
  {
   "cell_type": "code",
   "execution_count": 116,
   "id": "5fc8fdd0",
   "metadata": {
    "ExecuteTime": {
     "end_time": "2024-01-08T15:40:52.928315Z",
     "start_time": "2024-01-08T15:40:52.734713Z"
    }
   },
   "outputs": [
    {
     "data": {
      "text/plain": [
       "<Axes: >"
      ]
     },
     "execution_count": 116,
     "metadata": {},
     "output_type": "execute_result"
    },
    {
     "data": {
      "image/png": "[encoded data removed]",
      "text/plain": [
       "<Figure size 640x480 with 1 Axes>"
      ]
     },
     "metadata": {},
     "output_type": "display_data"
    }
   ],
   "source": [
    "df['stars'].hist()"
   ]
  },
  {
   "cell_type": "code",
   "execution_count": 119,
   "id": "16443e74",
   "metadata": {
    "ExecuteTime": {
     "end_time": "2024-01-08T15:51:01.859679Z",
     "start_time": "2024-01-08T15:51:01.661389Z"
    }
   },
   "outputs": [
    {
     "data": {
      "image/png": "[encoded data removed]",
      "text/plain": [
       "<Figure size 640x480 with 1 Axes>"
      ]
     },
     "metadata": {},
     "output_type": "display_data"
    }
   ],
   "source": [
    "df_bought['stars'].hist()\n",
    "plt.title('Review histogram without 0 value');"
   ]
  }
 ],
 "metadata": {
  "kernelspec": {
   "display_name": "2024",
   "language": "python",
   "name": "2024"
  },
  "language_info": {
   "codemirror_mode": {
    "name": "ipython",
    "version": 3
   },
   "file_extension": ".py",
   "mimetype": "text/x-python",
   "name": "python",
   "nbconvert_exporter": "python",
   "pygments_lexer": "ipython3",
   "version": "3.11.0"
  },
  "toc": {
   "base_numbering": 1,
   "nav_menu": {},
   "number_sections": true,
   "sideBar": true,
   "skip_h1_title": false,
   "title_cell": "Table of Contents",
   "title_sidebar": "Contents",
   "toc_cell": false,
   "toc_position": {},
   "toc_section_display": true,
   "toc_window_display": false
  },
  "varInspector": {
   "cols": {
    "lenName": 16,
    "lenType": 16,
    "lenVar": 40
   },
   "kernels_config": {
    "python": {
     "delete_cmd_postfix": "",
     "delete_cmd_prefix": "del ",
     "library": "var_list.py",
     "varRefreshCmd": "print(var_dic_list())"
    },
    "r": {
     "delete_cmd_postfix": ") ",
     "delete_cmd_prefix": "rm(",
     "library": "var_list.r",
     "varRefreshCmd": "cat(var_dic_list()) "
    }
   },
   "types_to_exclude": [
    "module",
    "function",
    "builtin_function_or_method",
    "instance",
    "_Feature"
   ],
   "window_display": false
  }
 },
 "nbformat": 4,
 "nbformat_minor": 5
}
