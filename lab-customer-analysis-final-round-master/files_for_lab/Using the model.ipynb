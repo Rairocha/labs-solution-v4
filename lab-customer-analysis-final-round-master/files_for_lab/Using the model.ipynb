{
 "cells": [
  {
   "cell_type": "code",
   "execution_count": 1,
   "id": "ba9fc00e",
   "metadata": {
    "ExecuteTime": {
     "end_time": "2024-01-25T20:09:21.208721Z",
     "start_time": "2024-01-25T20:09:20.464876Z"
    }
   },
   "outputs": [],
   "source": [
    "import joblib\n",
    "model = joblib.load('best_model.pkl')\n",
    "encoder = joblib.load('encoder.pkl')\n",
    "scaler = joblib.load('scaler.pkl')"
   ]
  },
  {
   "cell_type": "code",
   "execution_count": 2,
   "id": "acf735e3",
   "metadata": {
    "ExecuteTime": {
     "end_time": "2024-01-25T20:09:21.403970Z",
     "start_time": "2024-01-25T20:09:21.209711Z"
    }
   },
   "outputs": [],
   "source": [
    "import pandas as pd"
   ]
  },
  {
   "cell_type": "code",
   "execution_count": 3,
   "id": "1560380f",
   "metadata": {
    "ExecuteTime": {
     "end_time": "2024-01-25T20:09:21.411970Z",
     "start_time": "2024-01-25T20:09:21.405971Z"
    }
   },
   "outputs": [],
   "source": [
    "df_deploy = pd.DataFrame({\"customer\":\"BU79786\",\"state\":\"Washington\",\"customer_lifetime_value\":2763.519279,\n",
    "                          \"response\":\"No\",\"coverage\":\"Basic\",\"education\":\"Bachelor\",\"effective_to_date\":\"2/24/11\",\n",
    "                          \"employmentstatus\":\"Employed\",\"gender\":\"F\",\"income\":56274,\"location_code\":\"Suburban\",\n",
    "                          \"marital_status\":\"Married\",\"monthly_premium_auto\":69,\"months_since_last_claim\":32,\n",
    "                          \"months_since_policy_inception\":5,\"number_of_open_complaints\":0,\"number_of_policies\":1,\n",
    "                          \"policy_type\":\"Corporate Auto\",\"policy\":\"Corporate L3\",\"renew_offer_type\":\"Offer1\",\n",
    "                          \"sales_channel\":\"Agent\",\"vehicle_class\":\"Two-Door Car\",\n",
    "                          \"vehicle_size\":\"Medsize\",},index=[0])"
   ]
  },
  {
   "cell_type": "code",
   "execution_count": 4,
   "id": "444d487e",
   "metadata": {
    "ExecuteTime": {
     "end_time": "2024-01-25T20:09:21.420499Z",
     "start_time": "2024-01-25T20:09:21.413973Z"
    }
   },
   "outputs": [],
   "source": [
    "from functions import test"
   ]
  },
  {
   "cell_type": "code",
   "execution_count": 5,
   "id": "ae37ee07",
   "metadata": {
    "ExecuteTime": {
     "end_time": "2024-01-25T20:09:21.444521Z",
     "start_time": "2024-01-25T20:09:21.421490Z"
    }
   },
   "outputs": [
    {
     "data": {
      "text/plain": [
       "array([356.95235884])"
      ]
     },
     "execution_count": 5,
     "metadata": {},
     "output_type": "execute_result"
    }
   ],
   "source": [
    "model.predict(test(df_deploy,encoder,scaler))"
   ]
  },
  {
   "cell_type": "code",
   "execution_count": null,
   "id": "7fccdf51",
   "metadata": {},
   "outputs": [],
   "source": []
  }
 ],
 "metadata": {
  "kernelspec": {
   "display_name": "streamlit_2024",
   "language": "python",
   "name": "streamlit_2024"
  },
  "language_info": {
   "codemirror_mode": {
    "name": "ipython",
    "version": 3
   },
   "file_extension": ".py",
   "mimetype": "text/x-python",
   "name": "python",
   "nbconvert_exporter": "python",
   "pygments_lexer": "ipython3",
   "version": "3.9.0"
  },
  "toc": {
   "base_numbering": 1,
   "nav_menu": {},
   "number_sections": true,
   "sideBar": true,
   "skip_h1_title": false,
   "title_cell": "Table of Contents",
   "title_sidebar": "Contents",
   "toc_cell": false,
   "toc_position": {},
   "toc_section_display": true,
   "toc_window_display": false
  },
  "varInspector": {
   "cols": {
    "lenName": 16,
    "lenType": 16,
    "lenVar": 40
   },
   "kernels_config": {
    "python": {
     "delete_cmd_postfix": "",
     "delete_cmd_prefix": "del ",
     "library": "var_list.py",
     "varRefreshCmd": "print(var_dic_list())"
    },
    "r": {
     "delete_cmd_postfix": ") ",
     "delete_cmd_prefix": "rm(",
     "library": "var_list.r",
     "varRefreshCmd": "cat(var_dic_list()) "
    }
   },
   "types_to_exclude": [
    "module",
    "function",
    "builtin_function_or_method",
    "instance",
    "_Feature"
   ],
   "window_display": false
  }
 },
 "nbformat": 4,
 "nbformat_minor": 5
}
