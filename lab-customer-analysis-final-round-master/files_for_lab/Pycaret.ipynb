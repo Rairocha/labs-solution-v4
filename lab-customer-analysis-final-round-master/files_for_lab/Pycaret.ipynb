{
 "cells": [
  {
   "cell_type": "code",
   "execution_count": 13,
   "id": "9583f6ff",
   "metadata": {
    "ExecuteTime": {
     "end_time": "2024-01-25T20:46:38.420615Z",
     "start_time": "2024-01-25T20:46:38.417615Z"
    }
   },
   "outputs": [],
   "source": [
    "import pandas as pd\n",
    "pd.set_option('display.max_columns',None)"
   ]
  },
  {
   "cell_type": "code",
   "execution_count": 2,
   "id": "6af3198e",
   "metadata": {
    "ExecuteTime": {
     "end_time": "2024-01-25T20:37:51.740082Z",
     "start_time": "2024-01-25T20:37:51.701542Z"
    }
   },
   "outputs": [],
   "source": [
    "df= pd.read_csv('csv_files/marketing_customer_analysis.csv')"
   ]
  },
  {
   "cell_type": "code",
   "execution_count": 3,
   "id": "45216ec6",
   "metadata": {
    "ExecuteTime": {
     "end_time": "2024-01-25T20:38:26.510740Z",
     "start_time": "2024-01-25T20:38:22.938385Z"
    }
   },
   "outputs": [],
   "source": [
    "from pycaret.regression import *\n"
   ]
  },
  {
   "cell_type": "code",
   "execution_count": 21,
   "id": "7b16d12c",
   "metadata": {
    "ExecuteTime": {
     "end_time": "2024-01-25T20:50:39.454923Z",
     "start_time": "2024-01-25T20:50:39.439989Z"
    }
   },
   "outputs": [],
   "source": [
    "df['Effective To Date'] = pd.to_datetime(df['Effective To Date'])"
   ]
  },
  {
   "cell_type": "code",
   "execution_count": 30,
   "id": "fbc88a7c",
   "metadata": {
    "ExecuteTime": {
     "end_time": "2024-01-25T21:04:05.937630Z",
     "start_time": "2024-01-25T21:04:02.090805Z"
    }
   },
   "outputs": [
    {
     "name": "stderr",
     "output_type": "stream",
     "text": [
      "C:\\Users\\raian\\miniconda3\\envs\\pycaret_2024\\Lib\\site-packages\\sklearn\\base.py:439: UserWarning: X does not have valid feature names, but IsolationForest was fitted with feature names\n",
      "  warnings.warn(\n",
      "C:\\Users\\raian\\miniconda3\\envs\\pycaret_2024\\Lib\\site-packages\\sklearn\\base.py:439: UserWarning: X does not have valid feature names, but IsolationForest was fitted with feature names\n",
      "  warnings.warn(\n"
     ]
    },
    {
     "data": {
      "text/html": [
       "<style type=\"text/css\">\n",
       "#T_bbd69_row12_col1, #T_bbd69_row18_col1, #T_bbd69_row20_col1 {\n",
       "  background-color: lightgreen;\n",
       "}\n",
       "</style>\n",
       "<table id=\"T_bbd69\">\n",
       "  <thead>\n",
       "    <tr>\n",
       "      <th class=\"blank level0\" >&nbsp;</th>\n",
       "      <th id=\"T_bbd69_level0_col0\" class=\"col_heading level0 col0\" >Description</th>\n",
       "      <th id=\"T_bbd69_level0_col1\" class=\"col_heading level0 col1\" >Value</th>\n",
       "    </tr>\n",
       "  </thead>\n",
       "  <tbody>\n",
       "    <tr>\n",
       "      <th id=\"T_bbd69_level0_row0\" class=\"row_heading level0 row0\" >0</th>\n",
       "      <td id=\"T_bbd69_row0_col0\" class=\"data row0 col0\" >Session id</td>\n",
       "      <td id=\"T_bbd69_row0_col1\" class=\"data row0 col1\" >7672</td>\n",
       "    </tr>\n",
       "    <tr>\n",
       "      <th id=\"T_bbd69_level0_row1\" class=\"row_heading level0 row1\" >1</th>\n",
       "      <td id=\"T_bbd69_row1_col0\" class=\"data row1 col0\" >Target</td>\n",
       "      <td id=\"T_bbd69_row1_col1\" class=\"data row1 col1\" >Total Claim Amount</td>\n",
       "    </tr>\n",
       "    <tr>\n",
       "      <th id=\"T_bbd69_level0_row2\" class=\"row_heading level0 row2\" >2</th>\n",
       "      <td id=\"T_bbd69_row2_col0\" class=\"data row2 col0\" >Target type</td>\n",
       "      <td id=\"T_bbd69_row2_col1\" class=\"data row2 col1\" >Regression</td>\n",
       "    </tr>\n",
       "    <tr>\n",
       "      <th id=\"T_bbd69_level0_row3\" class=\"row_heading level0 row3\" >3</th>\n",
       "      <td id=\"T_bbd69_row3_col0\" class=\"data row3 col0\" >Original data shape</td>\n",
       "      <td id=\"T_bbd69_row3_col1\" class=\"data row3 col1\" >(9134, 24)</td>\n",
       "    </tr>\n",
       "    <tr>\n",
       "      <th id=\"T_bbd69_level0_row4\" class=\"row_heading level0 row4\" >4</th>\n",
       "      <td id=\"T_bbd69_row4_col0\" class=\"data row4 col0\" >Transformed data shape</td>\n",
       "      <td id=\"T_bbd69_row4_col1\" class=\"data row4 col1\" >(9070, 66)</td>\n",
       "    </tr>\n",
       "    <tr>\n",
       "      <th id=\"T_bbd69_level0_row5\" class=\"row_heading level0 row5\" >5</th>\n",
       "      <td id=\"T_bbd69_row5_col0\" class=\"data row5 col0\" >Transformed train set shape</td>\n",
       "      <td id=\"T_bbd69_row5_col1\" class=\"data row5 col1\" >(6329, 66)</td>\n",
       "    </tr>\n",
       "    <tr>\n",
       "      <th id=\"T_bbd69_level0_row6\" class=\"row_heading level0 row6\" >6</th>\n",
       "      <td id=\"T_bbd69_row6_col0\" class=\"data row6 col0\" >Transformed test set shape</td>\n",
       "      <td id=\"T_bbd69_row6_col1\" class=\"data row6 col1\" >(2741, 66)</td>\n",
       "    </tr>\n",
       "    <tr>\n",
       "      <th id=\"T_bbd69_level0_row7\" class=\"row_heading level0 row7\" >7</th>\n",
       "      <td id=\"T_bbd69_row7_col0\" class=\"data row7 col0\" >Ignore features</td>\n",
       "      <td id=\"T_bbd69_row7_col1\" class=\"data row7 col1\" >1</td>\n",
       "    </tr>\n",
       "    <tr>\n",
       "      <th id=\"T_bbd69_level0_row8\" class=\"row_heading level0 row8\" >8</th>\n",
       "      <td id=\"T_bbd69_row8_col0\" class=\"data row8 col0\" >Ordinal features</td>\n",
       "      <td id=\"T_bbd69_row8_col1\" class=\"data row8 col1\" >2</td>\n",
       "    </tr>\n",
       "    <tr>\n",
       "      <th id=\"T_bbd69_level0_row9\" class=\"row_heading level0 row9\" >9</th>\n",
       "      <td id=\"T_bbd69_row9_col0\" class=\"data row9 col0\" >Numeric features</td>\n",
       "      <td id=\"T_bbd69_row9_col1\" class=\"data row9 col1\" >7</td>\n",
       "    </tr>\n",
       "    <tr>\n",
       "      <th id=\"T_bbd69_level0_row10\" class=\"row_heading level0 row10\" >10</th>\n",
       "      <td id=\"T_bbd69_row10_col0\" class=\"data row10 col0\" >Date features</td>\n",
       "      <td id=\"T_bbd69_row10_col1\" class=\"data row10 col1\" >1</td>\n",
       "    </tr>\n",
       "    <tr>\n",
       "      <th id=\"T_bbd69_level0_row11\" class=\"row_heading level0 row11\" >11</th>\n",
       "      <td id=\"T_bbd69_row11_col0\" class=\"data row11 col0\" >Categorical features</td>\n",
       "      <td id=\"T_bbd69_row11_col1\" class=\"data row11 col1\" >14</td>\n",
       "    </tr>\n",
       "    <tr>\n",
       "      <th id=\"T_bbd69_level0_row12\" class=\"row_heading level0 row12\" >12</th>\n",
       "      <td id=\"T_bbd69_row12_col0\" class=\"data row12 col0\" >Preprocess</td>\n",
       "      <td id=\"T_bbd69_row12_col1\" class=\"data row12 col1\" >True</td>\n",
       "    </tr>\n",
       "    <tr>\n",
       "      <th id=\"T_bbd69_level0_row13\" class=\"row_heading level0 row13\" >13</th>\n",
       "      <td id=\"T_bbd69_row13_col0\" class=\"data row13 col0\" >Imputation type</td>\n",
       "      <td id=\"T_bbd69_row13_col1\" class=\"data row13 col1\" >simple</td>\n",
       "    </tr>\n",
       "    <tr>\n",
       "      <th id=\"T_bbd69_level0_row14\" class=\"row_heading level0 row14\" >14</th>\n",
       "      <td id=\"T_bbd69_row14_col0\" class=\"data row14 col0\" >Numeric imputation</td>\n",
       "      <td id=\"T_bbd69_row14_col1\" class=\"data row14 col1\" >mean</td>\n",
       "    </tr>\n",
       "    <tr>\n",
       "      <th id=\"T_bbd69_level0_row15\" class=\"row_heading level0 row15\" >15</th>\n",
       "      <td id=\"T_bbd69_row15_col0\" class=\"data row15 col0\" >Categorical imputation</td>\n",
       "      <td id=\"T_bbd69_row15_col1\" class=\"data row15 col1\" >mode</td>\n",
       "    </tr>\n",
       "    <tr>\n",
       "      <th id=\"T_bbd69_level0_row16\" class=\"row_heading level0 row16\" >16</th>\n",
       "      <td id=\"T_bbd69_row16_col0\" class=\"data row16 col0\" >Maximum one-hot encoding</td>\n",
       "      <td id=\"T_bbd69_row16_col1\" class=\"data row16 col1\" >25</td>\n",
       "    </tr>\n",
       "    <tr>\n",
       "      <th id=\"T_bbd69_level0_row17\" class=\"row_heading level0 row17\" >17</th>\n",
       "      <td id=\"T_bbd69_row17_col0\" class=\"data row17 col0\" >Encoding method</td>\n",
       "      <td id=\"T_bbd69_row17_col1\" class=\"data row17 col1\" >None</td>\n",
       "    </tr>\n",
       "    <tr>\n",
       "      <th id=\"T_bbd69_level0_row18\" class=\"row_heading level0 row18\" >18</th>\n",
       "      <td id=\"T_bbd69_row18_col0\" class=\"data row18 col0\" >Remove outliers</td>\n",
       "      <td id=\"T_bbd69_row18_col1\" class=\"data row18 col1\" >True</td>\n",
       "    </tr>\n",
       "    <tr>\n",
       "      <th id=\"T_bbd69_level0_row19\" class=\"row_heading level0 row19\" >19</th>\n",
       "      <td id=\"T_bbd69_row19_col0\" class=\"data row19 col0\" >Outliers threshold</td>\n",
       "      <td id=\"T_bbd69_row19_col1\" class=\"data row19 col1\" >0.010000</td>\n",
       "    </tr>\n",
       "    <tr>\n",
       "      <th id=\"T_bbd69_level0_row20\" class=\"row_heading level0 row20\" >20</th>\n",
       "      <td id=\"T_bbd69_row20_col0\" class=\"data row20 col0\" >Normalize</td>\n",
       "      <td id=\"T_bbd69_row20_col1\" class=\"data row20 col1\" >True</td>\n",
       "    </tr>\n",
       "    <tr>\n",
       "      <th id=\"T_bbd69_level0_row21\" class=\"row_heading level0 row21\" >21</th>\n",
       "      <td id=\"T_bbd69_row21_col0\" class=\"data row21 col0\" >Normalize method</td>\n",
       "      <td id=\"T_bbd69_row21_col1\" class=\"data row21 col1\" >zscore</td>\n",
       "    </tr>\n",
       "    <tr>\n",
       "      <th id=\"T_bbd69_level0_row22\" class=\"row_heading level0 row22\" >22</th>\n",
       "      <td id=\"T_bbd69_row22_col0\" class=\"data row22 col0\" >Fold Generator</td>\n",
       "      <td id=\"T_bbd69_row22_col1\" class=\"data row22 col1\" >KFold</td>\n",
       "    </tr>\n",
       "    <tr>\n",
       "      <th id=\"T_bbd69_level0_row23\" class=\"row_heading level0 row23\" >23</th>\n",
       "      <td id=\"T_bbd69_row23_col0\" class=\"data row23 col0\" >Fold Number</td>\n",
       "      <td id=\"T_bbd69_row23_col1\" class=\"data row23 col1\" >10</td>\n",
       "    </tr>\n",
       "    <tr>\n",
       "      <th id=\"T_bbd69_level0_row24\" class=\"row_heading level0 row24\" >24</th>\n",
       "      <td id=\"T_bbd69_row24_col0\" class=\"data row24 col0\" >CPU Jobs</td>\n",
       "      <td id=\"T_bbd69_row24_col1\" class=\"data row24 col1\" >-1</td>\n",
       "    </tr>\n",
       "    <tr>\n",
       "      <th id=\"T_bbd69_level0_row25\" class=\"row_heading level0 row25\" >25</th>\n",
       "      <td id=\"T_bbd69_row25_col0\" class=\"data row25 col0\" >Use GPU</td>\n",
       "      <td id=\"T_bbd69_row25_col1\" class=\"data row25 col1\" >False</td>\n",
       "    </tr>\n",
       "    <tr>\n",
       "      <th id=\"T_bbd69_level0_row26\" class=\"row_heading level0 row26\" >26</th>\n",
       "      <td id=\"T_bbd69_row26_col0\" class=\"data row26 col0\" >Log Experiment</td>\n",
       "      <td id=\"T_bbd69_row26_col1\" class=\"data row26 col1\" >False</td>\n",
       "    </tr>\n",
       "    <tr>\n",
       "      <th id=\"T_bbd69_level0_row27\" class=\"row_heading level0 row27\" >27</th>\n",
       "      <td id=\"T_bbd69_row27_col0\" class=\"data row27 col0\" >Experiment Name</td>\n",
       "      <td id=\"T_bbd69_row27_col1\" class=\"data row27 col1\" >reg-default-name</td>\n",
       "    </tr>\n",
       "    <tr>\n",
       "      <th id=\"T_bbd69_level0_row28\" class=\"row_heading level0 row28\" >28</th>\n",
       "      <td id=\"T_bbd69_row28_col0\" class=\"data row28 col0\" >USI</td>\n",
       "      <td id=\"T_bbd69_row28_col1\" class=\"data row28 col1\" >ae88</td>\n",
       "    </tr>\n",
       "  </tbody>\n",
       "</table>\n"
      ],
      "text/plain": [
       "<pandas.io.formats.style.Styler at 0x2a3cd33e150>"
      ]
     },
     "metadata": {},
     "output_type": "display_data"
    }
   ],
   "source": [
    "my_setup = setup(data=df,target='Total Claim Amount',\n",
    "                 remove_outliers=True,outliers_threshold=0.01,\n",
    "                 normalize=True, normalize_method='zscore',date_features=['Effective To Date'],\n",
    "                 ignore_features=['Customer']\n",
    "                )"
   ]
  },
  {
   "cell_type": "code",
   "execution_count": 31,
   "id": "0036a57b",
   "metadata": {
    "ExecuteTime": {
     "end_time": "2024-01-25T21:04:38.872949Z",
     "start_time": "2024-01-25T21:04:08.541582Z"
    }
   },
   "outputs": [
    {
     "data": {
      "text/html": [],
      "text/plain": [
       "<IPython.core.display.HTML object>"
      ]
     },
     "metadata": {},
     "output_type": "display_data"
    },
    {
     "data": {
      "text/html": [
       "<style type=\"text/css\">\n",
       "#T_86849 th {\n",
       "  text-align: left;\n",
       "}\n",
       "#T_86849_row0_col0, #T_86849_row0_col6, #T_86849_row1_col0, #T_86849_row1_col1, #T_86849_row1_col2, #T_86849_row1_col3, #T_86849_row1_col4, #T_86849_row1_col5, #T_86849_row1_col6, #T_86849_row2_col0, #T_86849_row2_col1, #T_86849_row2_col2, #T_86849_row2_col3, #T_86849_row2_col4, #T_86849_row2_col5, #T_86849_row2_col6, #T_86849_row3_col0, #T_86849_row3_col1, #T_86849_row3_col2, #T_86849_row3_col3, #T_86849_row3_col4, #T_86849_row3_col5, #T_86849_row3_col6, #T_86849_row4_col0, #T_86849_row4_col1, #T_86849_row4_col2, #T_86849_row4_col3, #T_86849_row4_col4, #T_86849_row4_col5, #T_86849_row4_col6, #T_86849_row5_col0, #T_86849_row5_col1, #T_86849_row5_col2, #T_86849_row5_col3, #T_86849_row5_col4, #T_86849_row5_col5, #T_86849_row5_col6, #T_86849_row6_col0, #T_86849_row6_col1, #T_86849_row6_col2, #T_86849_row6_col3, #T_86849_row6_col4, #T_86849_row6_col5, #T_86849_row6_col6, #T_86849_row7_col0, #T_86849_row7_col1, #T_86849_row7_col2, #T_86849_row7_col3, #T_86849_row7_col4, #T_86849_row7_col5, #T_86849_row7_col6, #T_86849_row8_col0, #T_86849_row8_col1, #T_86849_row8_col2, #T_86849_row8_col3, #T_86849_row8_col4, #T_86849_row8_col5, #T_86849_row8_col6, #T_86849_row9_col0, #T_86849_row9_col1, #T_86849_row9_col2, #T_86849_row9_col3, #T_86849_row9_col4, #T_86849_row9_col5, #T_86849_row9_col6, #T_86849_row10_col0, #T_86849_row10_col1, #T_86849_row10_col2, #T_86849_row10_col3, #T_86849_row10_col4, #T_86849_row10_col5, #T_86849_row10_col6, #T_86849_row11_col0, #T_86849_row11_col1, #T_86849_row11_col2, #T_86849_row11_col3, #T_86849_row11_col4, #T_86849_row11_col5, #T_86849_row11_col6, #T_86849_row12_col0, #T_86849_row12_col1, #T_86849_row12_col2, #T_86849_row12_col3, #T_86849_row12_col4, #T_86849_row12_col5, #T_86849_row12_col6, #T_86849_row13_col0, #T_86849_row13_col1, #T_86849_row13_col2, #T_86849_row13_col3, #T_86849_row13_col4, #T_86849_row13_col5, #T_86849_row14_col0, #T_86849_row14_col1, #T_86849_row14_col2, #T_86849_row14_col3, #T_86849_row14_col4, #T_86849_row14_col5, #T_86849_row14_col6, #T_86849_row15_col0, #T_86849_row15_col1, #T_86849_row15_col2, #T_86849_row15_col3, #T_86849_row15_col4, #T_86849_row15_col5, #T_86849_row15_col6, #T_86849_row16_col0, #T_86849_row16_col1, #T_86849_row16_col2, #T_86849_row16_col3, #T_86849_row16_col4, #T_86849_row16_col5, #T_86849_row16_col6, #T_86849_row17_col0, #T_86849_row17_col1, #T_86849_row17_col2, #T_86849_row17_col3, #T_86849_row17_col4, #T_86849_row17_col5, #T_86849_row17_col6 {\n",
       "  text-align: left;\n",
       "}\n",
       "#T_86849_row0_col1, #T_86849_row0_col2, #T_86849_row0_col3, #T_86849_row0_col4, #T_86849_row0_col5, #T_86849_row13_col6 {\n",
       "  text-align: left;\n",
       "  background-color: yellow;\n",
       "}\n",
       "#T_86849_row0_col7, #T_86849_row1_col7, #T_86849_row2_col7, #T_86849_row3_col7, #T_86849_row4_col7, #T_86849_row5_col7, #T_86849_row7_col7, #T_86849_row8_col7, #T_86849_row10_col7, #T_86849_row11_col7, #T_86849_row12_col7, #T_86849_row13_col7, #T_86849_row14_col7, #T_86849_row15_col7, #T_86849_row17_col7 {\n",
       "  text-align: left;\n",
       "  background-color: lightgrey;\n",
       "}\n",
       "#T_86849_row6_col7, #T_86849_row9_col7, #T_86849_row16_col7 {\n",
       "  text-align: left;\n",
       "  background-color: yellow;\n",
       "  background-color: lightgrey;\n",
       "}\n",
       "</style>\n",
       "<table id=\"T_86849\">\n",
       "  <thead>\n",
       "    <tr>\n",
       "      <th class=\"blank level0\" >&nbsp;</th>\n",
       "      <th id=\"T_86849_level0_col0\" class=\"col_heading level0 col0\" >Model</th>\n",
       "      <th id=\"T_86849_level0_col1\" class=\"col_heading level0 col1\" >MAE</th>\n",
       "      <th id=\"T_86849_level0_col2\" class=\"col_heading level0 col2\" >MSE</th>\n",
       "      <th id=\"T_86849_level0_col3\" class=\"col_heading level0 col3\" >RMSE</th>\n",
       "      <th id=\"T_86849_level0_col4\" class=\"col_heading level0 col4\" >R2</th>\n",
       "      <th id=\"T_86849_level0_col5\" class=\"col_heading level0 col5\" >RMSLE</th>\n",
       "      <th id=\"T_86849_level0_col6\" class=\"col_heading level0 col6\" >MAPE</th>\n",
       "      <th id=\"T_86849_level0_col7\" class=\"col_heading level0 col7\" >TT (Sec)</th>\n",
       "    </tr>\n",
       "  </thead>\n",
       "  <tbody>\n",
       "    <tr>\n",
       "      <th id=\"T_86849_level0_row0\" class=\"row_heading level0 row0\" >rf</th>\n",
       "      <td id=\"T_86849_row0_col0\" class=\"data row0 col0\" >Random Forest Regressor</td>\n",
       "      <td id=\"T_86849_row0_col1\" class=\"data row0 col1\" >76.3300</td>\n",
       "      <td id=\"T_86849_row0_col2\" class=\"data row0 col2\" >14355.7352</td>\n",
       "      <td id=\"T_86849_row0_col3\" class=\"data row0 col3\" >119.7828</td>\n",
       "      <td id=\"T_86849_row0_col4\" class=\"data row0 col4\" >0.8346</td>\n",
       "      <td id=\"T_86849_row0_col5\" class=\"data row0 col5\" >0.4483</td>\n",
       "      <td id=\"T_86849_row0_col6\" class=\"data row0 col6\" >0.6371</td>\n",
       "      <td id=\"T_86849_row0_col7\" class=\"data row0 col7\" >1.0467</td>\n",
       "    </tr>\n",
       "    <tr>\n",
       "      <th id=\"T_86849_level0_row1\" class=\"row_heading level0 row1\" >lightgbm</th>\n",
       "      <td id=\"T_86849_row1_col0\" class=\"data row1 col0\" >Light Gradient Boosting Machine</td>\n",
       "      <td id=\"T_86849_row1_col1\" class=\"data row1 col1\" >77.7494</td>\n",
       "      <td id=\"T_86849_row1_col2\" class=\"data row1 col2\" >14569.7314</td>\n",
       "      <td id=\"T_86849_row1_col3\" class=\"data row1 col3\" >120.6692</td>\n",
       "      <td id=\"T_86849_row1_col4\" class=\"data row1 col4\" >0.8321</td>\n",
       "      <td id=\"T_86849_row1_col5\" class=\"data row1 col5\" >0.4561</td>\n",
       "      <td id=\"T_86849_row1_col6\" class=\"data row1 col6\" >0.6539</td>\n",
       "      <td id=\"T_86849_row1_col7\" class=\"data row1 col7\" >0.4100</td>\n",
       "    </tr>\n",
       "    <tr>\n",
       "      <th id=\"T_86849_level0_row2\" class=\"row_heading level0 row2\" >gbr</th>\n",
       "      <td id=\"T_86849_row2_col0\" class=\"data row2 col0\" >Gradient Boosting Regressor</td>\n",
       "      <td id=\"T_86849_row2_col1\" class=\"data row2 col1\" >80.2007</td>\n",
       "      <td id=\"T_86849_row2_col2\" class=\"data row2 col2\" >15132.4479</td>\n",
       "      <td id=\"T_86849_row2_col3\" class=\"data row2 col3\" >123.0069</td>\n",
       "      <td id=\"T_86849_row2_col4\" class=\"data row2 col4\" >0.8256</td>\n",
       "      <td id=\"T_86849_row2_col5\" class=\"data row2 col5\" >0.4618</td>\n",
       "      <td id=\"T_86849_row2_col6\" class=\"data row2 col6\" >0.7034</td>\n",
       "      <td id=\"T_86849_row2_col7\" class=\"data row2 col7\" >0.6667</td>\n",
       "    </tr>\n",
       "    <tr>\n",
       "      <th id=\"T_86849_level0_row3\" class=\"row_heading level0 row3\" >et</th>\n",
       "      <td id=\"T_86849_row3_col0\" class=\"data row3 col0\" >Extra Trees Regressor</td>\n",
       "      <td id=\"T_86849_row3_col1\" class=\"data row3 col1\" >77.5800</td>\n",
       "      <td id=\"T_86849_row3_col2\" class=\"data row3 col2\" >15578.1832</td>\n",
       "      <td id=\"T_86849_row3_col3\" class=\"data row3 col3\" >124.7755</td>\n",
       "      <td id=\"T_86849_row3_col4\" class=\"data row3 col4\" >0.8205</td>\n",
       "      <td id=\"T_86849_row3_col5\" class=\"data row3 col5\" >0.4523</td>\n",
       "      <td id=\"T_86849_row3_col6\" class=\"data row3 col6\" >0.6328</td>\n",
       "      <td id=\"T_86849_row3_col7\" class=\"data row3 col7\" >0.8100</td>\n",
       "    </tr>\n",
       "    <tr>\n",
       "      <th id=\"T_86849_level0_row4\" class=\"row_heading level0 row4\" >lasso</th>\n",
       "      <td id=\"T_86849_row4_col0\" class=\"data row4 col0\" >Lasso Regression</td>\n",
       "      <td id=\"T_86849_row4_col1\" class=\"data row4 col1\" >95.7121</td>\n",
       "      <td id=\"T_86849_row4_col2\" class=\"data row4 col2\" >19661.3371</td>\n",
       "      <td id=\"T_86849_row4_col3\" class=\"data row4 col3\" >140.1995</td>\n",
       "      <td id=\"T_86849_row4_col4\" class=\"data row4 col4\" >0.7735</td>\n",
       "      <td id=\"T_86849_row4_col5\" class=\"data row4 col5\" >0.6833</td>\n",
       "      <td id=\"T_86849_row4_col6\" class=\"data row4 col6\" >0.8212</td>\n",
       "      <td id=\"T_86849_row4_col7\" class=\"data row4 col7\" >0.3467</td>\n",
       "    </tr>\n",
       "    <tr>\n",
       "      <th id=\"T_86849_level0_row5\" class=\"row_heading level0 row5\" >llar</th>\n",
       "      <td id=\"T_86849_row5_col0\" class=\"data row5 col0\" >Lasso Least Angle Regression</td>\n",
       "      <td id=\"T_86849_row5_col1\" class=\"data row5 col1\" >95.7132</td>\n",
       "      <td id=\"T_86849_row5_col2\" class=\"data row5 col2\" >19661.5118</td>\n",
       "      <td id=\"T_86849_row5_col3\" class=\"data row5 col3\" >140.2001</td>\n",
       "      <td id=\"T_86849_row5_col4\" class=\"data row5 col4\" >0.7735</td>\n",
       "      <td id=\"T_86849_row5_col5\" class=\"data row5 col5\" >0.6832</td>\n",
       "      <td id=\"T_86849_row5_col6\" class=\"data row5 col6\" >0.8212</td>\n",
       "      <td id=\"T_86849_row5_col7\" class=\"data row5 col7\" >0.3233</td>\n",
       "    </tr>\n",
       "    <tr>\n",
       "      <th id=\"T_86849_level0_row6\" class=\"row_heading level0 row6\" >ridge</th>\n",
       "      <td id=\"T_86849_row6_col0\" class=\"data row6 col0\" >Ridge Regression</td>\n",
       "      <td id=\"T_86849_row6_col1\" class=\"data row6 col1\" >95.9904</td>\n",
       "      <td id=\"T_86849_row6_col2\" class=\"data row6 col2\" >19699.2192</td>\n",
       "      <td id=\"T_86849_row6_col3\" class=\"data row6 col3\" >140.3318</td>\n",
       "      <td id=\"T_86849_row6_col4\" class=\"data row6 col4\" >0.7730</td>\n",
       "      <td id=\"T_86849_row6_col5\" class=\"data row6 col5\" >0.6770</td>\n",
       "      <td id=\"T_86849_row6_col6\" class=\"data row6 col6\" >0.8159</td>\n",
       "      <td id=\"T_86849_row6_col7\" class=\"data row6 col7\" >0.3133</td>\n",
       "    </tr>\n",
       "    <tr>\n",
       "      <th id=\"T_86849_level0_row7\" class=\"row_heading level0 row7\" >br</th>\n",
       "      <td id=\"T_86849_row7_col0\" class=\"data row7 col0\" >Bayesian Ridge</td>\n",
       "      <td id=\"T_86849_row7_col1\" class=\"data row7 col1\" >95.8489</td>\n",
       "      <td id=\"T_86849_row7_col2\" class=\"data row7 col2\" >19713.7016</td>\n",
       "      <td id=\"T_86849_row7_col3\" class=\"data row7 col3\" >140.3794</td>\n",
       "      <td id=\"T_86849_row7_col4\" class=\"data row7 col4\" >0.7729</td>\n",
       "      <td id=\"T_86849_row7_col5\" class=\"data row7 col5\" >0.6796</td>\n",
       "      <td id=\"T_86849_row7_col6\" class=\"data row7 col6\" >0.8179</td>\n",
       "      <td id=\"T_86849_row7_col7\" class=\"data row7 col7\" >0.3500</td>\n",
       "    </tr>\n",
       "    <tr>\n",
       "      <th id=\"T_86849_level0_row8\" class=\"row_heading level0 row8\" >lr</th>\n",
       "      <td id=\"T_86849_row8_col0\" class=\"data row8 col0\" >Linear Regression</td>\n",
       "      <td id=\"T_86849_row8_col1\" class=\"data row8 col1\" >96.5555</td>\n",
       "      <td id=\"T_86849_row8_col2\" class=\"data row8 col2\" >19753.0872</td>\n",
       "      <td id=\"T_86849_row8_col3\" class=\"data row8 col3\" >140.5253</td>\n",
       "      <td id=\"T_86849_row8_col4\" class=\"data row8 col4\" >0.7724</td>\n",
       "      <td id=\"T_86849_row8_col5\" class=\"data row8 col5\" >0.6618</td>\n",
       "      <td id=\"T_86849_row8_col6\" class=\"data row8 col6\" >0.8178</td>\n",
       "      <td id=\"T_86849_row8_col7\" class=\"data row8 col7\" >0.3267</td>\n",
       "    </tr>\n",
       "    <tr>\n",
       "      <th id=\"T_86849_level0_row9\" class=\"row_heading level0 row9\" >omp</th>\n",
       "      <td id=\"T_86849_row9_col0\" class=\"data row9 col0\" >Orthogonal Matching Pursuit</td>\n",
       "      <td id=\"T_86849_row9_col1\" class=\"data row9 col1\" >96.9477</td>\n",
       "      <td id=\"T_86849_row9_col2\" class=\"data row9 col2\" >20066.4233</td>\n",
       "      <td id=\"T_86849_row9_col3\" class=\"data row9 col3\" >141.6406</td>\n",
       "      <td id=\"T_86849_row9_col4\" class=\"data row9 col4\" >0.7688</td>\n",
       "      <td id=\"T_86849_row9_col5\" class=\"data row9 col5\" >0.6835</td>\n",
       "      <td id=\"T_86849_row9_col6\" class=\"data row9 col6\" >0.8449</td>\n",
       "      <td id=\"T_86849_row9_col7\" class=\"data row9 col7\" >0.3133</td>\n",
       "    </tr>\n",
       "    <tr>\n",
       "      <th id=\"T_86849_level0_row10\" class=\"row_heading level0 row10\" >huber</th>\n",
       "      <td id=\"T_86849_row10_col0\" class=\"data row10 col0\" >Huber Regressor</td>\n",
       "      <td id=\"T_86849_row10_col1\" class=\"data row10 col1\" >89.9563</td>\n",
       "      <td id=\"T_86849_row10_col2\" class=\"data row10 col2\" >21220.9845</td>\n",
       "      <td id=\"T_86849_row10_col3\" class=\"data row10 col3\" >145.6615</td>\n",
       "      <td id=\"T_86849_row10_col4\" class=\"data row10 col4\" >0.7555</td>\n",
       "      <td id=\"T_86849_row10_col5\" class=\"data row10 col5\" >0.6365</td>\n",
       "      <td id=\"T_86849_row10_col6\" class=\"data row10 col6\" >0.8126</td>\n",
       "      <td id=\"T_86849_row10_col7\" class=\"data row10 col7\" >0.4200</td>\n",
       "    </tr>\n",
       "    <tr>\n",
       "      <th id=\"T_86849_level0_row11\" class=\"row_heading level0 row11\" >en</th>\n",
       "      <td id=\"T_86849_row11_col0\" class=\"data row11 col0\" >Elastic Net</td>\n",
       "      <td id=\"T_86849_row11_col1\" class=\"data row11 col1\" >96.0285</td>\n",
       "      <td id=\"T_86849_row11_col2\" class=\"data row11 col2\" >22480.7749</td>\n",
       "      <td id=\"T_86849_row11_col3\" class=\"data row11 col3\" >149.9123</td>\n",
       "      <td id=\"T_86849_row11_col4\" class=\"data row11 col4\" >0.7410</td>\n",
       "      <td id=\"T_86849_row11_col5\" class=\"data row11 col5\" >0.5565</td>\n",
       "      <td id=\"T_86849_row11_col6\" class=\"data row11 col6\" >1.0531</td>\n",
       "      <td id=\"T_86849_row11_col7\" class=\"data row11 col7\" >0.3200</td>\n",
       "    </tr>\n",
       "    <tr>\n",
       "      <th id=\"T_86849_level0_row12\" class=\"row_heading level0 row12\" >par</th>\n",
       "      <td id=\"T_86849_row12_col0\" class=\"data row12 col0\" >Passive Aggressive Regressor</td>\n",
       "      <td id=\"T_86849_row12_col1\" class=\"data row12 col1\" >102.7093</td>\n",
       "      <td id=\"T_86849_row12_col2\" class=\"data row12 col2\" >24667.8141</td>\n",
       "      <td id=\"T_86849_row12_col3\" class=\"data row12 col3\" >157.0543</td>\n",
       "      <td id=\"T_86849_row12_col4\" class=\"data row12 col4\" >0.7158</td>\n",
       "      <td id=\"T_86849_row12_col5\" class=\"data row12 col5\" >0.6468</td>\n",
       "      <td id=\"T_86849_row12_col6\" class=\"data row12 col6\" >0.8747</td>\n",
       "      <td id=\"T_86849_row12_col7\" class=\"data row12 col7\" >0.3467</td>\n",
       "    </tr>\n",
       "    <tr>\n",
       "      <th id=\"T_86849_level0_row13\" class=\"row_heading level0 row13\" >dt</th>\n",
       "      <td id=\"T_86849_row13_col0\" class=\"data row13 col0\" >Decision Tree Regressor</td>\n",
       "      <td id=\"T_86849_row13_col1\" class=\"data row13 col1\" >93.6909</td>\n",
       "      <td id=\"T_86849_row13_col2\" class=\"data row13 col2\" >25250.1557</td>\n",
       "      <td id=\"T_86849_row13_col3\" class=\"data row13 col3\" >158.8303</td>\n",
       "      <td id=\"T_86849_row13_col4\" class=\"data row13 col4\" >0.7090</td>\n",
       "      <td id=\"T_86849_row13_col5\" class=\"data row13 col5\" >0.6129</td>\n",
       "      <td id=\"T_86849_row13_col6\" class=\"data row13 col6\" >0.6268</td>\n",
       "      <td id=\"T_86849_row13_col7\" class=\"data row13 col7\" >0.3600</td>\n",
       "    </tr>\n",
       "    <tr>\n",
       "      <th id=\"T_86849_level0_row14\" class=\"row_heading level0 row14\" >knn</th>\n",
       "      <td id=\"T_86849_row14_col0\" class=\"data row14 col0\" >K Neighbors Regressor</td>\n",
       "      <td id=\"T_86849_row14_col1\" class=\"data row14 col1\" >113.4089</td>\n",
       "      <td id=\"T_86849_row14_col2\" class=\"data row14 col2\" >28986.2826</td>\n",
       "      <td id=\"T_86849_row14_col3\" class=\"data row14 col3\" >170.2000</td>\n",
       "      <td id=\"T_86849_row14_col4\" class=\"data row14 col4\" >0.6661</td>\n",
       "      <td id=\"T_86849_row14_col5\" class=\"data row14 col5\" >0.6129</td>\n",
       "      <td id=\"T_86849_row14_col6\" class=\"data row14 col6\" >1.1830</td>\n",
       "      <td id=\"T_86849_row14_col7\" class=\"data row14 col7\" >0.3400</td>\n",
       "    </tr>\n",
       "    <tr>\n",
       "      <th id=\"T_86849_level0_row15\" class=\"row_heading level0 row15\" >ada</th>\n",
       "      <td id=\"T_86849_row15_col0\" class=\"data row15 col0\" >AdaBoost Regressor</td>\n",
       "      <td id=\"T_86849_row15_col1\" class=\"data row15 col1\" >143.8551</td>\n",
       "      <td id=\"T_86849_row15_col2\" class=\"data row15 col2\" >32328.6157</td>\n",
       "      <td id=\"T_86849_row15_col3\" class=\"data row15 col3\" >179.7227</td>\n",
       "      <td id=\"T_86849_row15_col4\" class=\"data row15 col4\" >0.6276</td>\n",
       "      <td id=\"T_86849_row15_col5\" class=\"data row15 col5\" >0.5666</td>\n",
       "      <td id=\"T_86849_row15_col6\" class=\"data row15 col6\" >0.9877</td>\n",
       "      <td id=\"T_86849_row15_col7\" class=\"data row15 col7\" >0.6333</td>\n",
       "    </tr>\n",
       "    <tr>\n",
       "      <th id=\"T_86849_level0_row16\" class=\"row_heading level0 row16\" >dummy</th>\n",
       "      <td id=\"T_86849_row16_col0\" class=\"data row16 col0\" >Dummy Regressor</td>\n",
       "      <td id=\"T_86849_row16_col1\" class=\"data row16 col1\" >210.2933</td>\n",
       "      <td id=\"T_86849_row16_col2\" class=\"data row16 col2\" >86934.8880</td>\n",
       "      <td id=\"T_86849_row16_col3\" class=\"data row16 col3\" >294.8442</td>\n",
       "      <td id=\"T_86849_row16_col4\" class=\"data row16 col4\" >-0.0015</td>\n",
       "      <td id=\"T_86849_row16_col5\" class=\"data row16 col5\" >0.9360</td>\n",
       "      <td id=\"T_86849_row16_col6\" class=\"data row16 col6\" >2.6851</td>\n",
       "      <td id=\"T_86849_row16_col7\" class=\"data row16 col7\" >0.3133</td>\n",
       "    </tr>\n",
       "    <tr>\n",
       "      <th id=\"T_86849_level0_row17\" class=\"row_heading level0 row17\" >lar</th>\n",
       "      <td id=\"T_86849_row17_col0\" class=\"data row17 col0\" >Least Angle Regression</td>\n",
       "      <td id=\"T_86849_row17_col1\" class=\"data row17 col1\" >442942.9192</td>\n",
       "      <td id=\"T_86849_row17_col2\" class=\"data row17 col2\" >3382483010035.3706</td>\n",
       "      <td id=\"T_86849_row17_col3\" class=\"data row17 col3\" >1066716.4543</td>\n",
       "      <td id=\"T_86849_row17_col4\" class=\"data row17 col4\" >-38983110.2467</td>\n",
       "      <td id=\"T_86849_row17_col5\" class=\"data row17 col5\" >3.9112</td>\n",
       "      <td id=\"T_86849_row17_col6\" class=\"data row17 col6\" >3089.4085</td>\n",
       "      <td id=\"T_86849_row17_col7\" class=\"data row17 col7\" >0.3400</td>\n",
       "    </tr>\n",
       "  </tbody>\n",
       "</table>\n"
      ],
      "text/plain": [
       "<pandas.io.formats.style.Styler at 0x2a3c9483ad0>"
      ]
     },
     "metadata": {},
     "output_type": "display_data"
    },
    {
     "data": {
      "text/html": [],
      "text/plain": [
       "<IPython.core.display.HTML object>"
      ]
     },
     "metadata": {},
     "output_type": "display_data"
    }
   ],
   "source": [
    "best_model = compare_models(fold=3)"
   ]
  },
  {
   "cell_type": "code",
   "execution_count": 32,
   "id": "9fb7926a",
   "metadata": {
    "ExecuteTime": {
     "end_time": "2024-01-25T21:14:58.177417Z",
     "start_time": "2024-01-25T21:10:21.389101Z"
    },
    "scrolled": true
   },
   "outputs": [
    {
     "data": {
      "text/html": [
       "<div>\n",
       "<style scoped>\n",
       "    .dataframe tbody tr th:only-of-type {\n",
       "        vertical-align: middle;\n",
       "    }\n",
       "\n",
       "    .dataframe tbody tr th {\n",
       "        vertical-align: top;\n",
       "    }\n",
       "\n",
       "    .dataframe thead th {\n",
       "        text-align: right;\n",
       "    }\n",
       "</style>\n",
       "<table border=\"1\" class=\"dataframe\">\n",
       "  <thead>\n",
       "    <tr style=\"text-align: right;\">\n",
       "      <th></th>\n",
       "      <th></th>\n",
       "      <th></th>\n",
       "    </tr>\n",
       "    <tr>\n",
       "      <th></th>\n",
       "      <th></th>\n",
       "      <th></th>\n",
       "    </tr>\n",
       "  </thead>\n",
       "  <tbody>\n",
       "    <tr>\n",
       "      <th>Initiated</th>\n",
       "      <td>. . . . . . . . . . . . . . . . . .</td>\n",
       "      <td>18:10:21</td>\n",
       "    </tr>\n",
       "    <tr>\n",
       "      <th>Status</th>\n",
       "      <td>. . . . . . . . . . . . . . . . . .</td>\n",
       "      <td>Searching Hyperparameters</td>\n",
       "    </tr>\n",
       "    <tr>\n",
       "      <th>Estimator</th>\n",
       "      <td>. . . . . . . . . . . . . . . . . .</td>\n",
       "      <td>Random Forest Regressor</td>\n",
       "    </tr>\n",
       "  </tbody>\n",
       "</table>\n",
       "</div>"
      ],
      "text/plain": [
       "                                                                         \n",
       "                                                                         \n",
       "Initiated  . . . . . . . . . . . . . . . . . .                   18:10:21\n",
       "Status     . . . . . . . . . . . . . . . . . .  Searching Hyperparameters\n",
       "Estimator  . . . . . . . . . . . . . . . . . .    Random Forest Regressor"
      ]
     },
     "metadata": {},
     "output_type": "display_data"
    },
    {
     "data": {
      "text/html": [],
      "text/plain": [
       "<IPython.core.display.HTML object>"
      ]
     },
     "metadata": {},
     "output_type": "display_data"
    },
    {
     "data": {
      "text/html": [],
      "text/plain": [
       "<IPython.core.display.HTML object>"
      ]
     },
     "metadata": {},
     "output_type": "display_data"
    },
    {
     "name": "stdout",
     "output_type": "stream",
     "text": [
      "Fitting 3 folds for each of 50 candidates, totalling 150 fits\n"
     ]
    },
    {
     "ename": "KeyboardInterrupt",
     "evalue": "",
     "output_type": "error",
     "traceback": [
      "\u001b[1;31m---------------------------------------------------------------------------\u001b[0m",
      "\u001b[1;31mKeyboardInterrupt\u001b[0m                         Traceback (most recent call last)",
      "Cell \u001b[1;32mIn[32], line 1\u001b[0m\n\u001b[1;32m----> 1\u001b[0m \u001b[43mtune_model\u001b[49m\u001b[43m(\u001b[49m\u001b[43mbest_model\u001b[49m\u001b[43m,\u001b[49m\u001b[43mn_iter\u001b[49m\u001b[38;5;241;43m=\u001b[39;49m\u001b[38;5;241;43m50\u001b[39;49m\u001b[43m,\u001b[49m\u001b[43mfold\u001b[49m\u001b[38;5;241;43m=\u001b[39;49m\u001b[38;5;241;43m3\u001b[39;49m\u001b[43m)\u001b[49m\n",
      "File \u001b[1;32m~\\miniconda3\\envs\\pycaret_2024\\Lib\\site-packages\\pycaret\\utils\\generic.py:965\u001b[0m, in \u001b[0;36mcheck_if_global_is_not_none.<locals>.decorator.<locals>.wrapper\u001b[1;34m(*args, **kwargs)\u001b[0m\n\u001b[0;32m    963\u001b[0m     \u001b[38;5;28;01mif\u001b[39;00m globals_d[name] \u001b[38;5;129;01mis\u001b[39;00m \u001b[38;5;28;01mNone\u001b[39;00m:\n\u001b[0;32m    964\u001b[0m         \u001b[38;5;28;01mraise\u001b[39;00m \u001b[38;5;167;01mValueError\u001b[39;00m(message)\n\u001b[1;32m--> 965\u001b[0m \u001b[38;5;28;01mreturn\u001b[39;00m \u001b[43mfunc\u001b[49m\u001b[43m(\u001b[49m\u001b[38;5;241;43m*\u001b[39;49m\u001b[43margs\u001b[49m\u001b[43m,\u001b[49m\u001b[43m \u001b[49m\u001b[38;5;241;43m*\u001b[39;49m\u001b[38;5;241;43m*\u001b[39;49m\u001b[43mkwargs\u001b[49m\u001b[43m)\u001b[49m\n",
      "File \u001b[1;32m~\\miniconda3\\envs\\pycaret_2024\\Lib\\site-packages\\pycaret\\regression\\functional.py:1197\u001b[0m, in \u001b[0;36mtune_model\u001b[1;34m(estimator, fold, round, n_iter, custom_grid, optimize, custom_scorer, search_library, search_algorithm, early_stopping, early_stopping_max_iters, choose_better, fit_kwargs, groups, return_tuner, verbose, tuner_verbose, return_train_score, **kwargs)\u001b[0m\n\u001b[0;32m   1005\u001b[0m \u001b[38;5;129m@check_if_global_is_not_none\u001b[39m(\u001b[38;5;28mglobals\u001b[39m(), _CURRENT_EXPERIMENT_DECORATOR_DICT)\n\u001b[0;32m   1006\u001b[0m \u001b[38;5;28;01mdef\u001b[39;00m \u001b[38;5;21mtune_model\u001b[39m(\n\u001b[0;32m   1007\u001b[0m     estimator,\n\u001b[1;32m   (...)\u001b[0m\n\u001b[0;32m   1025\u001b[0m     \u001b[38;5;241m*\u001b[39m\u001b[38;5;241m*\u001b[39mkwargs,\n\u001b[0;32m   1026\u001b[0m ):\n\u001b[0;32m   1027\u001b[0m \u001b[38;5;250m    \u001b[39m\u001b[38;5;124;03m\"\"\"\u001b[39;00m\n\u001b[0;32m   1028\u001b[0m \u001b[38;5;124;03m    This function tunes the hyperparameters of a given estimator. The output of\u001b[39;00m\n\u001b[0;32m   1029\u001b[0m \u001b[38;5;124;03m    this function is a score grid with CV scores by fold of the best selected\u001b[39;00m\n\u001b[1;32m   (...)\u001b[0m\n\u001b[0;32m   1194\u001b[0m \n\u001b[0;32m   1195\u001b[0m \u001b[38;5;124;03m    \"\"\"\u001b[39;00m\n\u001b[1;32m-> 1197\u001b[0m     \u001b[38;5;28;01mreturn\u001b[39;00m \u001b[43m_CURRENT_EXPERIMENT\u001b[49m\u001b[38;5;241;43m.\u001b[39;49m\u001b[43mtune_model\u001b[49m\u001b[43m(\u001b[49m\n\u001b[0;32m   1198\u001b[0m \u001b[43m        \u001b[49m\u001b[43mestimator\u001b[49m\u001b[38;5;241;43m=\u001b[39;49m\u001b[43mestimator\u001b[49m\u001b[43m,\u001b[49m\n\u001b[0;32m   1199\u001b[0m \u001b[43m        \u001b[49m\u001b[43mfold\u001b[49m\u001b[38;5;241;43m=\u001b[39;49m\u001b[43mfold\u001b[49m\u001b[43m,\u001b[49m\n\u001b[0;32m   1200\u001b[0m \u001b[43m        \u001b[49m\u001b[38;5;28;43mround\u001b[39;49m\u001b[38;5;241;43m=\u001b[39;49m\u001b[38;5;28;43mround\u001b[39;49m\u001b[43m,\u001b[49m\n\u001b[0;32m   1201\u001b[0m \u001b[43m        \u001b[49m\u001b[43mn_iter\u001b[49m\u001b[38;5;241;43m=\u001b[39;49m\u001b[43mn_iter\u001b[49m\u001b[43m,\u001b[49m\n\u001b[0;32m   1202\u001b[0m \u001b[43m        \u001b[49m\u001b[43mcustom_grid\u001b[49m\u001b[38;5;241;43m=\u001b[39;49m\u001b[43mcustom_grid\u001b[49m\u001b[43m,\u001b[49m\n\u001b[0;32m   1203\u001b[0m \u001b[43m        \u001b[49m\u001b[43moptimize\u001b[49m\u001b[38;5;241;43m=\u001b[39;49m\u001b[43moptimize\u001b[49m\u001b[43m,\u001b[49m\n\u001b[0;32m   1204\u001b[0m \u001b[43m        \u001b[49m\u001b[43mcustom_scorer\u001b[49m\u001b[38;5;241;43m=\u001b[39;49m\u001b[43mcustom_scorer\u001b[49m\u001b[43m,\u001b[49m\n\u001b[0;32m   1205\u001b[0m \u001b[43m        \u001b[49m\u001b[43msearch_library\u001b[49m\u001b[38;5;241;43m=\u001b[39;49m\u001b[43msearch_library\u001b[49m\u001b[43m,\u001b[49m\n\u001b[0;32m   1206\u001b[0m \u001b[43m        \u001b[49m\u001b[43msearch_algorithm\u001b[49m\u001b[38;5;241;43m=\u001b[39;49m\u001b[43msearch_algorithm\u001b[49m\u001b[43m,\u001b[49m\n\u001b[0;32m   1207\u001b[0m \u001b[43m        \u001b[49m\u001b[43mearly_stopping\u001b[49m\u001b[38;5;241;43m=\u001b[39;49m\u001b[43mearly_stopping\u001b[49m\u001b[43m,\u001b[49m\n\u001b[0;32m   1208\u001b[0m \u001b[43m        \u001b[49m\u001b[43mearly_stopping_max_iters\u001b[49m\u001b[38;5;241;43m=\u001b[39;49m\u001b[43mearly_stopping_max_iters\u001b[49m\u001b[43m,\u001b[49m\n\u001b[0;32m   1209\u001b[0m \u001b[43m        \u001b[49m\u001b[43mchoose_better\u001b[49m\u001b[38;5;241;43m=\u001b[39;49m\u001b[43mchoose_better\u001b[49m\u001b[43m,\u001b[49m\n\u001b[0;32m   1210\u001b[0m \u001b[43m        \u001b[49m\u001b[43mfit_kwargs\u001b[49m\u001b[38;5;241;43m=\u001b[39;49m\u001b[43mfit_kwargs\u001b[49m\u001b[43m,\u001b[49m\n\u001b[0;32m   1211\u001b[0m \u001b[43m        \u001b[49m\u001b[43mgroups\u001b[49m\u001b[38;5;241;43m=\u001b[39;49m\u001b[43mgroups\u001b[49m\u001b[43m,\u001b[49m\n\u001b[0;32m   1212\u001b[0m \u001b[43m        \u001b[49m\u001b[43mreturn_tuner\u001b[49m\u001b[38;5;241;43m=\u001b[39;49m\u001b[43mreturn_tuner\u001b[49m\u001b[43m,\u001b[49m\n\u001b[0;32m   1213\u001b[0m \u001b[43m        \u001b[49m\u001b[43mverbose\u001b[49m\u001b[38;5;241;43m=\u001b[39;49m\u001b[43mverbose\u001b[49m\u001b[43m,\u001b[49m\n\u001b[0;32m   1214\u001b[0m \u001b[43m        \u001b[49m\u001b[43mtuner_verbose\u001b[49m\u001b[38;5;241;43m=\u001b[39;49m\u001b[43mtuner_verbose\u001b[49m\u001b[43m,\u001b[49m\n\u001b[0;32m   1215\u001b[0m \u001b[43m        \u001b[49m\u001b[43mreturn_train_score\u001b[49m\u001b[38;5;241;43m=\u001b[39;49m\u001b[43mreturn_train_score\u001b[49m\u001b[43m,\u001b[49m\n\u001b[0;32m   1216\u001b[0m \u001b[43m        \u001b[49m\u001b[38;5;241;43m*\u001b[39;49m\u001b[38;5;241;43m*\u001b[39;49m\u001b[43mkwargs\u001b[49m\u001b[43m,\u001b[49m\n\u001b[0;32m   1217\u001b[0m \u001b[43m    \u001b[49m\u001b[43m)\u001b[49m\n",
      "File \u001b[1;32m~\\miniconda3\\envs\\pycaret_2024\\Lib\\site-packages\\pycaret\\regression\\oop.py:1499\u001b[0m, in \u001b[0;36mRegressionExperiment.tune_model\u001b[1;34m(self, estimator, fold, round, n_iter, custom_grid, optimize, custom_scorer, search_library, search_algorithm, early_stopping, early_stopping_max_iters, choose_better, fit_kwargs, groups, return_tuner, verbose, tuner_verbose, return_train_score, **kwargs)\u001b[0m\n\u001b[0;32m   1307\u001b[0m \u001b[38;5;28;01mdef\u001b[39;00m \u001b[38;5;21mtune_model\u001b[39m(\n\u001b[0;32m   1308\u001b[0m     \u001b[38;5;28mself\u001b[39m,\n\u001b[0;32m   1309\u001b[0m     estimator,\n\u001b[1;32m   (...)\u001b[0m\n\u001b[0;32m   1327\u001b[0m     \u001b[38;5;241m*\u001b[39m\u001b[38;5;241m*\u001b[39mkwargs,\n\u001b[0;32m   1328\u001b[0m ):\n\u001b[0;32m   1329\u001b[0m \u001b[38;5;250m    \u001b[39m\u001b[38;5;124;03m\"\"\"\u001b[39;00m\n\u001b[0;32m   1330\u001b[0m \u001b[38;5;124;03m    This function tunes the hyperparameters of a given estimator. The output of\u001b[39;00m\n\u001b[0;32m   1331\u001b[0m \u001b[38;5;124;03m    this function is a score grid with CV scores by fold of the best selected\u001b[39;00m\n\u001b[1;32m   (...)\u001b[0m\n\u001b[0;32m   1496\u001b[0m \n\u001b[0;32m   1497\u001b[0m \u001b[38;5;124;03m    \"\"\"\u001b[39;00m\n\u001b[1;32m-> 1499\u001b[0m     \u001b[38;5;28;01mreturn\u001b[39;00m \u001b[38;5;28;43msuper\u001b[39;49m\u001b[43m(\u001b[49m\u001b[43m)\u001b[49m\u001b[38;5;241;43m.\u001b[39;49m\u001b[43mtune_model\u001b[49m\u001b[43m(\u001b[49m\n\u001b[0;32m   1500\u001b[0m \u001b[43m        \u001b[49m\u001b[43mestimator\u001b[49m\u001b[38;5;241;43m=\u001b[39;49m\u001b[43mestimator\u001b[49m\u001b[43m,\u001b[49m\n\u001b[0;32m   1501\u001b[0m \u001b[43m        \u001b[49m\u001b[43mfold\u001b[49m\u001b[38;5;241;43m=\u001b[39;49m\u001b[43mfold\u001b[49m\u001b[43m,\u001b[49m\n\u001b[0;32m   1502\u001b[0m \u001b[43m        \u001b[49m\u001b[38;5;28;43mround\u001b[39;49m\u001b[38;5;241;43m=\u001b[39;49m\u001b[38;5;28;43mround\u001b[39;49m\u001b[43m,\u001b[49m\n\u001b[0;32m   1503\u001b[0m \u001b[43m        \u001b[49m\u001b[43mn_iter\u001b[49m\u001b[38;5;241;43m=\u001b[39;49m\u001b[43mn_iter\u001b[49m\u001b[43m,\u001b[49m\n\u001b[0;32m   1504\u001b[0m \u001b[43m        \u001b[49m\u001b[43mcustom_grid\u001b[49m\u001b[38;5;241;43m=\u001b[39;49m\u001b[43mcustom_grid\u001b[49m\u001b[43m,\u001b[49m\n\u001b[0;32m   1505\u001b[0m \u001b[43m        \u001b[49m\u001b[43moptimize\u001b[49m\u001b[38;5;241;43m=\u001b[39;49m\u001b[43moptimize\u001b[49m\u001b[43m,\u001b[49m\n\u001b[0;32m   1506\u001b[0m \u001b[43m        \u001b[49m\u001b[43mcustom_scorer\u001b[49m\u001b[38;5;241;43m=\u001b[39;49m\u001b[43mcustom_scorer\u001b[49m\u001b[43m,\u001b[49m\n\u001b[0;32m   1507\u001b[0m \u001b[43m        \u001b[49m\u001b[43msearch_library\u001b[49m\u001b[38;5;241;43m=\u001b[39;49m\u001b[43msearch_library\u001b[49m\u001b[43m,\u001b[49m\n\u001b[0;32m   1508\u001b[0m \u001b[43m        \u001b[49m\u001b[43msearch_algorithm\u001b[49m\u001b[38;5;241;43m=\u001b[39;49m\u001b[43msearch_algorithm\u001b[49m\u001b[43m,\u001b[49m\n\u001b[0;32m   1509\u001b[0m \u001b[43m        \u001b[49m\u001b[43mearly_stopping\u001b[49m\u001b[38;5;241;43m=\u001b[39;49m\u001b[43mearly_stopping\u001b[49m\u001b[43m,\u001b[49m\n\u001b[0;32m   1510\u001b[0m \u001b[43m        \u001b[49m\u001b[43mearly_stopping_max_iters\u001b[49m\u001b[38;5;241;43m=\u001b[39;49m\u001b[43mearly_stopping_max_iters\u001b[49m\u001b[43m,\u001b[49m\n\u001b[0;32m   1511\u001b[0m \u001b[43m        \u001b[49m\u001b[43mchoose_better\u001b[49m\u001b[38;5;241;43m=\u001b[39;49m\u001b[43mchoose_better\u001b[49m\u001b[43m,\u001b[49m\n\u001b[0;32m   1512\u001b[0m \u001b[43m        \u001b[49m\u001b[43mfit_kwargs\u001b[49m\u001b[38;5;241;43m=\u001b[39;49m\u001b[43mfit_kwargs\u001b[49m\u001b[43m,\u001b[49m\n\u001b[0;32m   1513\u001b[0m \u001b[43m        \u001b[49m\u001b[43mgroups\u001b[49m\u001b[38;5;241;43m=\u001b[39;49m\u001b[43mgroups\u001b[49m\u001b[43m,\u001b[49m\n\u001b[0;32m   1514\u001b[0m \u001b[43m        \u001b[49m\u001b[43mreturn_tuner\u001b[49m\u001b[38;5;241;43m=\u001b[39;49m\u001b[43mreturn_tuner\u001b[49m\u001b[43m,\u001b[49m\n\u001b[0;32m   1515\u001b[0m \u001b[43m        \u001b[49m\u001b[43mverbose\u001b[49m\u001b[38;5;241;43m=\u001b[39;49m\u001b[43mverbose\u001b[49m\u001b[43m,\u001b[49m\n\u001b[0;32m   1516\u001b[0m \u001b[43m        \u001b[49m\u001b[43mtuner_verbose\u001b[49m\u001b[38;5;241;43m=\u001b[39;49m\u001b[43mtuner_verbose\u001b[49m\u001b[43m,\u001b[49m\n\u001b[0;32m   1517\u001b[0m \u001b[43m        \u001b[49m\u001b[43mreturn_train_score\u001b[49m\u001b[38;5;241;43m=\u001b[39;49m\u001b[43mreturn_train_score\u001b[49m\u001b[43m,\u001b[49m\n\u001b[0;32m   1518\u001b[0m \u001b[43m        \u001b[49m\u001b[38;5;241;43m*\u001b[39;49m\u001b[38;5;241;43m*\u001b[39;49m\u001b[43mkwargs\u001b[49m\u001b[43m,\u001b[49m\n\u001b[0;32m   1519\u001b[0m \u001b[43m    \u001b[49m\u001b[43m)\u001b[49m\n",
      "File \u001b[1;32m~\\miniconda3\\envs\\pycaret_2024\\Lib\\site-packages\\pycaret\\internal\\pycaret_experiment\\supervised_experiment.py:2672\u001b[0m, in \u001b[0;36m_SupervisedExperiment.tune_model\u001b[1;34m(self, estimator, fold, round, n_iter, custom_grid, optimize, custom_scorer, search_library, search_algorithm, early_stopping, early_stopping_max_iters, choose_better, fit_kwargs, groups, return_tuner, verbose, tuner_verbose, return_train_score, **kwargs)\u001b[0m\n\u001b[0;32m   2664\u001b[0m     \u001b[38;5;28;01mwith\u001b[39;00m patch(\n\u001b[0;32m   2665\u001b[0m         \u001b[38;5;124m\"\u001b[39m\u001b[38;5;124msklearn.model_selection._search.sample_without_replacement\u001b[39m\u001b[38;5;124m\"\u001b[39m,\n\u001b[0;32m   2666\u001b[0m         pycaret\u001b[38;5;241m.\u001b[39minternal\u001b[38;5;241m.\u001b[39mpatches\u001b[38;5;241m.\u001b[39msklearn\u001b[38;5;241m.\u001b[39m_mp_sample_without_replacement,\n\u001b[0;32m   2667\u001b[0m     ):\n\u001b[0;32m   2668\u001b[0m         \u001b[38;5;28;01mwith\u001b[39;00m patch(\n\u001b[0;32m   2669\u001b[0m             \u001b[38;5;124m\"\u001b[39m\u001b[38;5;124msklearn.model_selection._search.ParameterGrid.__getitem__\u001b[39m\u001b[38;5;124m\"\u001b[39m,\n\u001b[0;32m   2670\u001b[0m             pycaret\u001b[38;5;241m.\u001b[39minternal\u001b[38;5;241m.\u001b[39mpatches\u001b[38;5;241m.\u001b[39msklearn\u001b[38;5;241m.\u001b[39m_mp_ParameterGrid_getitem,\n\u001b[0;32m   2671\u001b[0m         ):\n\u001b[1;32m-> 2672\u001b[0m             \u001b[43mmodel_grid\u001b[49m\u001b[38;5;241;43m.\u001b[39;49m\u001b[43mfit\u001b[49m\u001b[43m(\u001b[49m\u001b[43mdata_X\u001b[49m\u001b[43m,\u001b[49m\u001b[43m \u001b[49m\u001b[43mdata_y\u001b[49m\u001b[43m,\u001b[49m\u001b[43m \u001b[49m\u001b[43mgroups\u001b[49m\u001b[38;5;241;43m=\u001b[39;49m\u001b[43mgroups\u001b[49m\u001b[43m,\u001b[49m\u001b[43m \u001b[49m\u001b[38;5;241;43m*\u001b[39;49m\u001b[38;5;241;43m*\u001b[39;49m\u001b[43mfit_kwargs\u001b[49m\u001b[43m)\u001b[49m\n\u001b[0;32m   2673\u001b[0m \u001b[38;5;28;01melse\u001b[39;00m:\n\u001b[0;32m   2674\u001b[0m     model_grid\u001b[38;5;241m.\u001b[39mfit(data_X, data_y, groups\u001b[38;5;241m=\u001b[39mgroups, \u001b[38;5;241m*\u001b[39m\u001b[38;5;241m*\u001b[39mfit_kwargs)\n",
      "File \u001b[1;32m~\\miniconda3\\envs\\pycaret_2024\\Lib\\site-packages\\sklearn\\model_selection\\_search.py:874\u001b[0m, in \u001b[0;36mBaseSearchCV.fit\u001b[1;34m(self, X, y, groups, **fit_params)\u001b[0m\n\u001b[0;32m    868\u001b[0m     results \u001b[38;5;241m=\u001b[39m \u001b[38;5;28mself\u001b[39m\u001b[38;5;241m.\u001b[39m_format_results(\n\u001b[0;32m    869\u001b[0m         all_candidate_params, n_splits, all_out, all_more_results\n\u001b[0;32m    870\u001b[0m     )\n\u001b[0;32m    872\u001b[0m     \u001b[38;5;28;01mreturn\u001b[39;00m results\n\u001b[1;32m--> 874\u001b[0m \u001b[38;5;28;43mself\u001b[39;49m\u001b[38;5;241;43m.\u001b[39;49m\u001b[43m_run_search\u001b[49m\u001b[43m(\u001b[49m\u001b[43mevaluate_candidates\u001b[49m\u001b[43m)\u001b[49m\n\u001b[0;32m    876\u001b[0m \u001b[38;5;66;03m# multimetric is determined here because in the case of a callable\u001b[39;00m\n\u001b[0;32m    877\u001b[0m \u001b[38;5;66;03m# self.scoring the return type is only known after calling\u001b[39;00m\n\u001b[0;32m    878\u001b[0m first_test_score \u001b[38;5;241m=\u001b[39m all_out[\u001b[38;5;241m0\u001b[39m][\u001b[38;5;124m\"\u001b[39m\u001b[38;5;124mtest_scores\u001b[39m\u001b[38;5;124m\"\u001b[39m]\n",
      "File \u001b[1;32m~\\miniconda3\\envs\\pycaret_2024\\Lib\\site-packages\\sklearn\\model_selection\\_search.py:1768\u001b[0m, in \u001b[0;36mRandomizedSearchCV._run_search\u001b[1;34m(self, evaluate_candidates)\u001b[0m\n\u001b[0;32m   1766\u001b[0m \u001b[38;5;28;01mdef\u001b[39;00m \u001b[38;5;21m_run_search\u001b[39m(\u001b[38;5;28mself\u001b[39m, evaluate_candidates):\n\u001b[0;32m   1767\u001b[0m \u001b[38;5;250m    \u001b[39m\u001b[38;5;124;03m\"\"\"Search n_iter candidates from param_distributions\"\"\"\u001b[39;00m\n\u001b[1;32m-> 1768\u001b[0m     \u001b[43mevaluate_candidates\u001b[49m\u001b[43m(\u001b[49m\n\u001b[0;32m   1769\u001b[0m \u001b[43m        \u001b[49m\u001b[43mParameterSampler\u001b[49m\u001b[43m(\u001b[49m\n\u001b[0;32m   1770\u001b[0m \u001b[43m            \u001b[49m\u001b[38;5;28;43mself\u001b[39;49m\u001b[38;5;241;43m.\u001b[39;49m\u001b[43mparam_distributions\u001b[49m\u001b[43m,\u001b[49m\u001b[43m \u001b[49m\u001b[38;5;28;43mself\u001b[39;49m\u001b[38;5;241;43m.\u001b[39;49m\u001b[43mn_iter\u001b[49m\u001b[43m,\u001b[49m\u001b[43m \u001b[49m\u001b[43mrandom_state\u001b[49m\u001b[38;5;241;43m=\u001b[39;49m\u001b[38;5;28;43mself\u001b[39;49m\u001b[38;5;241;43m.\u001b[39;49m\u001b[43mrandom_state\u001b[49m\n\u001b[0;32m   1771\u001b[0m \u001b[43m        \u001b[49m\u001b[43m)\u001b[49m\n\u001b[0;32m   1772\u001b[0m \u001b[43m    \u001b[49m\u001b[43m)\u001b[49m\n",
      "File \u001b[1;32m~\\miniconda3\\envs\\pycaret_2024\\Lib\\site-packages\\sklearn\\model_selection\\_search.py:821\u001b[0m, in \u001b[0;36mBaseSearchCV.fit.<locals>.evaluate_candidates\u001b[1;34m(candidate_params, cv, more_results)\u001b[0m\n\u001b[0;32m    813\u001b[0m \u001b[38;5;28;01mif\u001b[39;00m \u001b[38;5;28mself\u001b[39m\u001b[38;5;241m.\u001b[39mverbose \u001b[38;5;241m>\u001b[39m \u001b[38;5;241m0\u001b[39m:\n\u001b[0;32m    814\u001b[0m     \u001b[38;5;28mprint\u001b[39m(\n\u001b[0;32m    815\u001b[0m         \u001b[38;5;124m\"\u001b[39m\u001b[38;5;124mFitting \u001b[39m\u001b[38;5;132;01m{0}\u001b[39;00m\u001b[38;5;124m folds for each of \u001b[39m\u001b[38;5;132;01m{1}\u001b[39;00m\u001b[38;5;124m candidates,\u001b[39m\u001b[38;5;124m\"\u001b[39m\n\u001b[0;32m    816\u001b[0m         \u001b[38;5;124m\"\u001b[39m\u001b[38;5;124m totalling \u001b[39m\u001b[38;5;132;01m{2}\u001b[39;00m\u001b[38;5;124m fits\u001b[39m\u001b[38;5;124m\"\u001b[39m\u001b[38;5;241m.\u001b[39mformat(\n\u001b[0;32m    817\u001b[0m             n_splits, n_candidates, n_candidates \u001b[38;5;241m*\u001b[39m n_splits\n\u001b[0;32m    818\u001b[0m         )\n\u001b[0;32m    819\u001b[0m     )\n\u001b[1;32m--> 821\u001b[0m out \u001b[38;5;241m=\u001b[39m \u001b[43mparallel\u001b[49m\u001b[43m(\u001b[49m\n\u001b[0;32m    822\u001b[0m \u001b[43m    \u001b[49m\u001b[43mdelayed\u001b[49m\u001b[43m(\u001b[49m\u001b[43m_fit_and_score\u001b[49m\u001b[43m)\u001b[49m\u001b[43m(\u001b[49m\n\u001b[0;32m    823\u001b[0m \u001b[43m        \u001b[49m\u001b[43mclone\u001b[49m\u001b[43m(\u001b[49m\u001b[43mbase_estimator\u001b[49m\u001b[43m)\u001b[49m\u001b[43m,\u001b[49m\n\u001b[0;32m    824\u001b[0m \u001b[43m        \u001b[49m\u001b[43mX\u001b[49m\u001b[43m,\u001b[49m\n\u001b[0;32m    825\u001b[0m \u001b[43m        \u001b[49m\u001b[43my\u001b[49m\u001b[43m,\u001b[49m\n\u001b[0;32m    826\u001b[0m \u001b[43m        \u001b[49m\u001b[43mtrain\u001b[49m\u001b[38;5;241;43m=\u001b[39;49m\u001b[43mtrain\u001b[49m\u001b[43m,\u001b[49m\n\u001b[0;32m    827\u001b[0m \u001b[43m        \u001b[49m\u001b[43mtest\u001b[49m\u001b[38;5;241;43m=\u001b[39;49m\u001b[43mtest\u001b[49m\u001b[43m,\u001b[49m\n\u001b[0;32m    828\u001b[0m \u001b[43m        \u001b[49m\u001b[43mparameters\u001b[49m\u001b[38;5;241;43m=\u001b[39;49m\u001b[43mparameters\u001b[49m\u001b[43m,\u001b[49m\n\u001b[0;32m    829\u001b[0m \u001b[43m        \u001b[49m\u001b[43msplit_progress\u001b[49m\u001b[38;5;241;43m=\u001b[39;49m\u001b[43m(\u001b[49m\u001b[43msplit_idx\u001b[49m\u001b[43m,\u001b[49m\u001b[43m \u001b[49m\u001b[43mn_splits\u001b[49m\u001b[43m)\u001b[49m\u001b[43m,\u001b[49m\n\u001b[0;32m    830\u001b[0m \u001b[43m        \u001b[49m\u001b[43mcandidate_progress\u001b[49m\u001b[38;5;241;43m=\u001b[39;49m\u001b[43m(\u001b[49m\u001b[43mcand_idx\u001b[49m\u001b[43m,\u001b[49m\u001b[43m \u001b[49m\u001b[43mn_candidates\u001b[49m\u001b[43m)\u001b[49m\u001b[43m,\u001b[49m\n\u001b[0;32m    831\u001b[0m \u001b[43m        \u001b[49m\u001b[38;5;241;43m*\u001b[39;49m\u001b[38;5;241;43m*\u001b[39;49m\u001b[43mfit_and_score_kwargs\u001b[49m\u001b[43m,\u001b[49m\n\u001b[0;32m    832\u001b[0m \u001b[43m    \u001b[49m\u001b[43m)\u001b[49m\n\u001b[0;32m    833\u001b[0m \u001b[43m    \u001b[49m\u001b[38;5;28;43;01mfor\u001b[39;49;00m\u001b[43m \u001b[49m\u001b[43m(\u001b[49m\u001b[43mcand_idx\u001b[49m\u001b[43m,\u001b[49m\u001b[43m \u001b[49m\u001b[43mparameters\u001b[49m\u001b[43m)\u001b[49m\u001b[43m,\u001b[49m\u001b[43m \u001b[49m\u001b[43m(\u001b[49m\u001b[43msplit_idx\u001b[49m\u001b[43m,\u001b[49m\u001b[43m \u001b[49m\u001b[43m(\u001b[49m\u001b[43mtrain\u001b[49m\u001b[43m,\u001b[49m\u001b[43m \u001b[49m\u001b[43mtest\u001b[49m\u001b[43m)\u001b[49m\u001b[43m)\u001b[49m\u001b[43m \u001b[49m\u001b[38;5;129;43;01min\u001b[39;49;00m\u001b[43m \u001b[49m\u001b[43mproduct\u001b[49m\u001b[43m(\u001b[49m\n\u001b[0;32m    834\u001b[0m \u001b[43m        \u001b[49m\u001b[38;5;28;43menumerate\u001b[39;49m\u001b[43m(\u001b[49m\u001b[43mcandidate_params\u001b[49m\u001b[43m)\u001b[49m\u001b[43m,\u001b[49m\u001b[43m \u001b[49m\u001b[38;5;28;43menumerate\u001b[39;49m\u001b[43m(\u001b[49m\u001b[43mcv\u001b[49m\u001b[38;5;241;43m.\u001b[39;49m\u001b[43msplit\u001b[49m\u001b[43m(\u001b[49m\u001b[43mX\u001b[49m\u001b[43m,\u001b[49m\u001b[43m \u001b[49m\u001b[43my\u001b[49m\u001b[43m,\u001b[49m\u001b[43m \u001b[49m\u001b[43mgroups\u001b[49m\u001b[43m)\u001b[49m\u001b[43m)\u001b[49m\n\u001b[0;32m    835\u001b[0m \u001b[43m    \u001b[49m\u001b[43m)\u001b[49m\n\u001b[0;32m    836\u001b[0m \u001b[43m\u001b[49m\u001b[43m)\u001b[49m\n\u001b[0;32m    838\u001b[0m \u001b[38;5;28;01mif\u001b[39;00m \u001b[38;5;28mlen\u001b[39m(out) \u001b[38;5;241m<\u001b[39m \u001b[38;5;241m1\u001b[39m:\n\u001b[0;32m    839\u001b[0m     \u001b[38;5;28;01mraise\u001b[39;00m \u001b[38;5;167;01mValueError\u001b[39;00m(\n\u001b[0;32m    840\u001b[0m         \u001b[38;5;124m\"\u001b[39m\u001b[38;5;124mNo fits were performed. \u001b[39m\u001b[38;5;124m\"\u001b[39m\n\u001b[0;32m    841\u001b[0m         \u001b[38;5;124m\"\u001b[39m\u001b[38;5;124mWas the CV iterator empty? \u001b[39m\u001b[38;5;124m\"\u001b[39m\n\u001b[0;32m    842\u001b[0m         \u001b[38;5;124m\"\u001b[39m\u001b[38;5;124mWere there no candidates?\u001b[39m\u001b[38;5;124m\"\u001b[39m\n\u001b[0;32m    843\u001b[0m     )\n",
      "File \u001b[1;32m~\\miniconda3\\envs\\pycaret_2024\\Lib\\site-packages\\sklearn\\utils\\parallel.py:63\u001b[0m, in \u001b[0;36mParallel.__call__\u001b[1;34m(self, iterable)\u001b[0m\n\u001b[0;32m     58\u001b[0m config \u001b[38;5;241m=\u001b[39m get_config()\n\u001b[0;32m     59\u001b[0m iterable_with_config \u001b[38;5;241m=\u001b[39m (\n\u001b[0;32m     60\u001b[0m     (_with_config(delayed_func, config), args, kwargs)\n\u001b[0;32m     61\u001b[0m     \u001b[38;5;28;01mfor\u001b[39;00m delayed_func, args, kwargs \u001b[38;5;129;01min\u001b[39;00m iterable\n\u001b[0;32m     62\u001b[0m )\n\u001b[1;32m---> 63\u001b[0m \u001b[38;5;28;01mreturn\u001b[39;00m \u001b[38;5;28;43msuper\u001b[39;49m\u001b[43m(\u001b[49m\u001b[43m)\u001b[49m\u001b[38;5;241;43m.\u001b[39;49m\u001b[38;5;21;43m__call__\u001b[39;49m\u001b[43m(\u001b[49m\u001b[43miterable_with_config\u001b[49m\u001b[43m)\u001b[49m\n",
      "File \u001b[1;32m~\\miniconda3\\envs\\pycaret_2024\\Lib\\site-packages\\joblib\\parallel.py:1952\u001b[0m, in \u001b[0;36mParallel.__call__\u001b[1;34m(self, iterable)\u001b[0m\n\u001b[0;32m   1946\u001b[0m \u001b[38;5;66;03m# The first item from the output is blank, but it makes the interpreter\u001b[39;00m\n\u001b[0;32m   1947\u001b[0m \u001b[38;5;66;03m# progress until it enters the Try/Except block of the generator and\u001b[39;00m\n\u001b[0;32m   1948\u001b[0m \u001b[38;5;66;03m# reach the first `yield` statement. This starts the aynchronous\u001b[39;00m\n\u001b[0;32m   1949\u001b[0m \u001b[38;5;66;03m# dispatch of the tasks to the workers.\u001b[39;00m\n\u001b[0;32m   1950\u001b[0m \u001b[38;5;28mnext\u001b[39m(output)\n\u001b[1;32m-> 1952\u001b[0m \u001b[38;5;28;01mreturn\u001b[39;00m output \u001b[38;5;28;01mif\u001b[39;00m \u001b[38;5;28mself\u001b[39m\u001b[38;5;241m.\u001b[39mreturn_generator \u001b[38;5;28;01melse\u001b[39;00m \u001b[38;5;28mlist\u001b[39m(output)\n",
      "File \u001b[1;32m~\\miniconda3\\envs\\pycaret_2024\\Lib\\site-packages\\joblib\\parallel.py:1595\u001b[0m, in \u001b[0;36mParallel._get_outputs\u001b[1;34m(self, iterator, pre_dispatch)\u001b[0m\n\u001b[0;32m   1592\u001b[0m     \u001b[38;5;28;01myield\u001b[39;00m\n\u001b[0;32m   1594\u001b[0m     \u001b[38;5;28;01mwith\u001b[39;00m \u001b[38;5;28mself\u001b[39m\u001b[38;5;241m.\u001b[39m_backend\u001b[38;5;241m.\u001b[39mretrieval_context():\n\u001b[1;32m-> 1595\u001b[0m         \u001b[38;5;28;01myield from\u001b[39;00m \u001b[38;5;28mself\u001b[39m\u001b[38;5;241m.\u001b[39m_retrieve()\n\u001b[0;32m   1597\u001b[0m \u001b[38;5;28;01mexcept\u001b[39;00m \u001b[38;5;167;01mGeneratorExit\u001b[39;00m:\n\u001b[0;32m   1598\u001b[0m     \u001b[38;5;66;03m# The generator has been garbage collected before being fully\u001b[39;00m\n\u001b[0;32m   1599\u001b[0m     \u001b[38;5;66;03m# consumed. This aborts the remaining tasks if possible and warn\u001b[39;00m\n\u001b[0;32m   1600\u001b[0m     \u001b[38;5;66;03m# the user if necessary.\u001b[39;00m\n\u001b[0;32m   1601\u001b[0m     \u001b[38;5;28mself\u001b[39m\u001b[38;5;241m.\u001b[39m_exception \u001b[38;5;241m=\u001b[39m \u001b[38;5;28;01mTrue\u001b[39;00m\n",
      "File \u001b[1;32m~\\miniconda3\\envs\\pycaret_2024\\Lib\\site-packages\\joblib\\parallel.py:1707\u001b[0m, in \u001b[0;36mParallel._retrieve\u001b[1;34m(self)\u001b[0m\n\u001b[0;32m   1702\u001b[0m \u001b[38;5;66;03m# If the next job is not ready for retrieval yet, we just wait for\u001b[39;00m\n\u001b[0;32m   1703\u001b[0m \u001b[38;5;66;03m# async callbacks to progress.\u001b[39;00m\n\u001b[0;32m   1704\u001b[0m \u001b[38;5;28;01mif\u001b[39;00m ((\u001b[38;5;28mlen\u001b[39m(\u001b[38;5;28mself\u001b[39m\u001b[38;5;241m.\u001b[39m_jobs) \u001b[38;5;241m==\u001b[39m \u001b[38;5;241m0\u001b[39m) \u001b[38;5;129;01mor\u001b[39;00m\n\u001b[0;32m   1705\u001b[0m     (\u001b[38;5;28mself\u001b[39m\u001b[38;5;241m.\u001b[39m_jobs[\u001b[38;5;241m0\u001b[39m]\u001b[38;5;241m.\u001b[39mget_status(\n\u001b[0;32m   1706\u001b[0m         timeout\u001b[38;5;241m=\u001b[39m\u001b[38;5;28mself\u001b[39m\u001b[38;5;241m.\u001b[39mtimeout) \u001b[38;5;241m==\u001b[39m TASK_PENDING)):\n\u001b[1;32m-> 1707\u001b[0m     time\u001b[38;5;241m.\u001b[39msleep(\u001b[38;5;241m0.01\u001b[39m)\n\u001b[0;32m   1708\u001b[0m     \u001b[38;5;28;01mcontinue\u001b[39;00m\n\u001b[0;32m   1710\u001b[0m \u001b[38;5;66;03m# We need to be careful: the job list can be filling up as\u001b[39;00m\n\u001b[0;32m   1711\u001b[0m \u001b[38;5;66;03m# we empty it and Python list are not thread-safe by\u001b[39;00m\n\u001b[0;32m   1712\u001b[0m \u001b[38;5;66;03m# default hence the use of the lock\u001b[39;00m\n",
      "\u001b[1;31mKeyboardInterrupt\u001b[0m: "
     ]
    }
   ],
   "source": [
    "tune_model(best_model,n_iter=50,fold=3)"
   ]
  },
  {
   "cell_type": "code",
   "execution_count": 29,
   "id": "7b6a7f7c",
   "metadata": {
    "ExecuteTime": {
     "end_time": "2024-01-25T21:00:31.550624Z",
     "start_time": "2024-01-25T20:59:27.247349Z"
    }
   },
   "outputs": [
    {
     "data": {
      "text/html": [],
      "text/plain": [
       "<IPython.core.display.HTML object>"
      ]
     },
     "metadata": {},
     "output_type": "display_data"
    },
    {
     "data": {
      "text/html": [
       "<style type=\"text/css\">\n",
       "#T_54d9e_row10_col0, #T_54d9e_row10_col1, #T_54d9e_row10_col2, #T_54d9e_row10_col3, #T_54d9e_row10_col4, #T_54d9e_row10_col5 {\n",
       "  background: yellow;\n",
       "}\n",
       "</style>\n",
       "<table id=\"T_54d9e\">\n",
       "  <thead>\n",
       "    <tr>\n",
       "      <th class=\"blank level0\" >&nbsp;</th>\n",
       "      <th id=\"T_54d9e_level0_col0\" class=\"col_heading level0 col0\" >MAE</th>\n",
       "      <th id=\"T_54d9e_level0_col1\" class=\"col_heading level0 col1\" >MSE</th>\n",
       "      <th id=\"T_54d9e_level0_col2\" class=\"col_heading level0 col2\" >RMSE</th>\n",
       "      <th id=\"T_54d9e_level0_col3\" class=\"col_heading level0 col3\" >R2</th>\n",
       "      <th id=\"T_54d9e_level0_col4\" class=\"col_heading level0 col4\" >RMSLE</th>\n",
       "      <th id=\"T_54d9e_level0_col5\" class=\"col_heading level0 col5\" >MAPE</th>\n",
       "    </tr>\n",
       "    <tr>\n",
       "      <th class=\"index_name level0\" >Fold</th>\n",
       "      <th class=\"blank col0\" >&nbsp;</th>\n",
       "      <th class=\"blank col1\" >&nbsp;</th>\n",
       "      <th class=\"blank col2\" >&nbsp;</th>\n",
       "      <th class=\"blank col3\" >&nbsp;</th>\n",
       "      <th class=\"blank col4\" >&nbsp;</th>\n",
       "      <th class=\"blank col5\" >&nbsp;</th>\n",
       "    </tr>\n",
       "  </thead>\n",
       "  <tbody>\n",
       "    <tr>\n",
       "      <th id=\"T_54d9e_level0_row0\" class=\"row_heading level0 row0\" >0</th>\n",
       "      <td id=\"T_54d9e_row0_col0\" class=\"data row0 col0\" >207.0980</td>\n",
       "      <td id=\"T_54d9e_row0_col1\" class=\"data row0 col1\" >78783.4247</td>\n",
       "      <td id=\"T_54d9e_row0_col2\" class=\"data row0 col2\" >280.6839</td>\n",
       "      <td id=\"T_54d9e_row0_col3\" class=\"data row0 col3\" >0.0003</td>\n",
       "      <td id=\"T_54d9e_row0_col4\" class=\"data row0 col4\" >0.9285</td>\n",
       "      <td id=\"T_54d9e_row0_col5\" class=\"data row0 col5\" >1.9178</td>\n",
       "    </tr>\n",
       "    <tr>\n",
       "      <th id=\"T_54d9e_level0_row1\" class=\"row_heading level0 row1\" >1</th>\n",
       "      <td id=\"T_54d9e_row1_col0\" class=\"data row1 col0\" >208.4390</td>\n",
       "      <td id=\"T_54d9e_row1_col1\" class=\"data row1 col1\" >79293.8201</td>\n",
       "      <td id=\"T_54d9e_row1_col2\" class=\"data row1 col2\" >281.5916</td>\n",
       "      <td id=\"T_54d9e_row1_col3\" class=\"data row1 col3\" >-0.0002</td>\n",
       "      <td id=\"T_54d9e_row1_col4\" class=\"data row1 col4\" >0.8728</td>\n",
       "      <td id=\"T_54d9e_row1_col5\" class=\"data row1 col5\" >1.6907</td>\n",
       "    </tr>\n",
       "    <tr>\n",
       "      <th id=\"T_54d9e_level0_row2\" class=\"row_heading level0 row2\" >2</th>\n",
       "      <td id=\"T_54d9e_row2_col0\" class=\"data row2 col0\" >206.1485</td>\n",
       "      <td id=\"T_54d9e_row2_col1\" class=\"data row2 col1\" >86135.7542</td>\n",
       "      <td id=\"T_54d9e_row2_col2\" class=\"data row2 col2\" >293.4889</td>\n",
       "      <td id=\"T_54d9e_row2_col3\" class=\"data row2 col3\" >-0.0020</td>\n",
       "      <td id=\"T_54d9e_row2_col4\" class=\"data row2 col4\" >0.8793</td>\n",
       "      <td id=\"T_54d9e_row2_col5\" class=\"data row2 col5\" >2.1383</td>\n",
       "    </tr>\n",
       "    <tr>\n",
       "      <th id=\"T_54d9e_level0_row3\" class=\"row_heading level0 row3\" >3</th>\n",
       "      <td id=\"T_54d9e_row3_col0\" class=\"data row3 col0\" >192.3249</td>\n",
       "      <td id=\"T_54d9e_row3_col1\" class=\"data row3 col1\" >67544.5496</td>\n",
       "      <td id=\"T_54d9e_row3_col2\" class=\"data row3 col2\" >259.8933</td>\n",
       "      <td id=\"T_54d9e_row3_col3\" class=\"data row3 col3\" >0.0014</td>\n",
       "      <td id=\"T_54d9e_row3_col4\" class=\"data row3 col4\" >0.8638</td>\n",
       "      <td id=\"T_54d9e_row3_col5\" class=\"data row3 col5\" >1.6659</td>\n",
       "    </tr>\n",
       "    <tr>\n",
       "      <th id=\"T_54d9e_level0_row4\" class=\"row_heading level0 row4\" >4</th>\n",
       "      <td id=\"T_54d9e_row4_col0\" class=\"data row4 col0\" >203.9792</td>\n",
       "      <td id=\"T_54d9e_row4_col1\" class=\"data row4 col1\" >78498.7903</td>\n",
       "      <td id=\"T_54d9e_row4_col2\" class=\"data row4 col2\" >280.1764</td>\n",
       "      <td id=\"T_54d9e_row4_col3\" class=\"data row4 col3\" >-0.0036</td>\n",
       "      <td id=\"T_54d9e_row4_col4\" class=\"data row4 col4\" >0.9421</td>\n",
       "      <td id=\"T_54d9e_row4_col5\" class=\"data row4 col5\" >2.0054</td>\n",
       "    </tr>\n",
       "    <tr>\n",
       "      <th id=\"T_54d9e_level0_row5\" class=\"row_heading level0 row5\" >5</th>\n",
       "      <td id=\"T_54d9e_row5_col0\" class=\"data row5 col0\" >196.6883</td>\n",
       "      <td id=\"T_54d9e_row5_col1\" class=\"data row5 col1\" >81778.1116</td>\n",
       "      <td id=\"T_54d9e_row5_col2\" class=\"data row5 col2\" >285.9687</td>\n",
       "      <td id=\"T_54d9e_row5_col3\" class=\"data row5 col3\" >-0.0006</td>\n",
       "      <td id=\"T_54d9e_row5_col4\" class=\"data row5 col4\" >0.9162</td>\n",
       "      <td id=\"T_54d9e_row5_col5\" class=\"data row5 col5\" >4.0263</td>\n",
       "    </tr>\n",
       "    <tr>\n",
       "      <th id=\"T_54d9e_level0_row6\" class=\"row_heading level0 row6\" >6</th>\n",
       "      <td id=\"T_54d9e_row6_col0\" class=\"data row6 col0\" >214.9313</td>\n",
       "      <td id=\"T_54d9e_row6_col1\" class=\"data row6 col1\" >87687.2113</td>\n",
       "      <td id=\"T_54d9e_row6_col2\" class=\"data row6 col2\" >296.1203</td>\n",
       "      <td id=\"T_54d9e_row6_col3\" class=\"data row6 col3\" >0.0003</td>\n",
       "      <td id=\"T_54d9e_row6_col4\" class=\"data row6 col4\" >0.9795</td>\n",
       "      <td id=\"T_54d9e_row6_col5\" class=\"data row6 col5\" >3.1695</td>\n",
       "    </tr>\n",
       "    <tr>\n",
       "      <th id=\"T_54d9e_level0_row7\" class=\"row_heading level0 row7\" >7</th>\n",
       "      <td id=\"T_54d9e_row7_col0\" class=\"data row7 col0\" >210.5628</td>\n",
       "      <td id=\"T_54d9e_row7_col1\" class=\"data row7 col1\" >79413.6006</td>\n",
       "      <td id=\"T_54d9e_row7_col2\" class=\"data row7 col2\" >281.8042</td>\n",
       "      <td id=\"T_54d9e_row7_col3\" class=\"data row7 col3\" >-0.0002</td>\n",
       "      <td id=\"T_54d9e_row7_col4\" class=\"data row7 col4\" >0.8842</td>\n",
       "      <td id=\"T_54d9e_row7_col5\" class=\"data row7 col5\" >1.6295</td>\n",
       "    </tr>\n",
       "    <tr>\n",
       "      <th id=\"T_54d9e_level0_row8\" class=\"row_heading level0 row8\" >8</th>\n",
       "      <td id=\"T_54d9e_row8_col0\" class=\"data row8 col0\" >216.3229</td>\n",
       "      <td id=\"T_54d9e_row8_col1\" class=\"data row8 col1\" >93750.7692</td>\n",
       "      <td id=\"T_54d9e_row8_col2\" class=\"data row8 col2\" >306.1875</td>\n",
       "      <td id=\"T_54d9e_row8_col3\" class=\"data row8 col3\" >0.0000</td>\n",
       "      <td id=\"T_54d9e_row8_col4\" class=\"data row8 col4\" >0.9845</td>\n",
       "      <td id=\"T_54d9e_row8_col5\" class=\"data row8 col5\" >2.6831</td>\n",
       "    </tr>\n",
       "    <tr>\n",
       "      <th id=\"T_54d9e_level0_row9\" class=\"row_heading level0 row9\" >9</th>\n",
       "      <td id=\"T_54d9e_row9_col0\" class=\"data row9 col0\" >213.2115</td>\n",
       "      <td id=\"T_54d9e_row9_col1\" class=\"data row9 col1\" >93700.9336</td>\n",
       "      <td id=\"T_54d9e_row9_col2\" class=\"data row9 col2\" >306.1061</td>\n",
       "      <td id=\"T_54d9e_row9_col3\" class=\"data row9 col3\" >-0.0070</td>\n",
       "      <td id=\"T_54d9e_row9_col4\" class=\"data row9 col4\" >0.8901</td>\n",
       "      <td id=\"T_54d9e_row9_col5\" class=\"data row9 col5\" >1.9667</td>\n",
       "    </tr>\n",
       "    <tr>\n",
       "      <th id=\"T_54d9e_level0_row10\" class=\"row_heading level0 row10\" >Mean</th>\n",
       "      <td id=\"T_54d9e_row10_col0\" class=\"data row10 col0\" >206.9706</td>\n",
       "      <td id=\"T_54d9e_row10_col1\" class=\"data row10 col1\" >82658.6965</td>\n",
       "      <td id=\"T_54d9e_row10_col2\" class=\"data row10 col2\" >287.2021</td>\n",
       "      <td id=\"T_54d9e_row10_col3\" class=\"data row10 col3\" >-0.0012</td>\n",
       "      <td id=\"T_54d9e_row10_col4\" class=\"data row10 col4\" >0.9141</td>\n",
       "      <td id=\"T_54d9e_row10_col5\" class=\"data row10 col5\" >2.2893</td>\n",
       "    </tr>\n",
       "    <tr>\n",
       "      <th id=\"T_54d9e_level0_row11\" class=\"row_heading level0 row11\" >Std</th>\n",
       "      <td id=\"T_54d9e_row11_col0\" class=\"data row11 col0\" >7.3124</td>\n",
       "      <td id=\"T_54d9e_row11_col1\" class=\"data row11 col1\" >7521.4987</td>\n",
       "      <td id=\"T_54d9e_row11_col2\" class=\"data row11 col2\" >13.1781</td>\n",
       "      <td id=\"T_54d9e_row11_col3\" class=\"data row11 col3\" >0.0023</td>\n",
       "      <td id=\"T_54d9e_row11_col4\" class=\"data row11 col4\" >0.0414</td>\n",
       "      <td id=\"T_54d9e_row11_col5\" class=\"data row11 col5\" >0.7399</td>\n",
       "    </tr>\n",
       "  </tbody>\n",
       "</table>\n"
      ],
      "text/plain": [
       "<pandas.io.formats.style.Styler at 0x2a3cd445f90>"
      ]
     },
     "metadata": {},
     "output_type": "display_data"
    },
    {
     "data": {
      "text/html": [],
      "text/plain": [
       "<IPython.core.display.HTML object>"
      ]
     },
     "metadata": {},
     "output_type": "display_data"
    },
    {
     "data": {
      "text/html": [],
      "text/plain": [
       "<IPython.core.display.HTML object>"
      ]
     },
     "metadata": {},
     "output_type": "display_data"
    },
    {
     "data": {
      "text/html": [
       "<style type=\"text/css\">\n",
       "#T_cd57e_row3_col0, #T_cd57e_row3_col1, #T_cd57e_row3_col2, #T_cd57e_row3_col3, #T_cd57e_row3_col4, #T_cd57e_row3_col5 {\n",
       "  background: yellow;\n",
       "}\n",
       "</style>\n",
       "<table id=\"T_cd57e\">\n",
       "  <thead>\n",
       "    <tr>\n",
       "      <th class=\"blank level0\" >&nbsp;</th>\n",
       "      <th id=\"T_cd57e_level0_col0\" class=\"col_heading level0 col0\" >MAE</th>\n",
       "      <th id=\"T_cd57e_level0_col1\" class=\"col_heading level0 col1\" >MSE</th>\n",
       "      <th id=\"T_cd57e_level0_col2\" class=\"col_heading level0 col2\" >RMSE</th>\n",
       "      <th id=\"T_cd57e_level0_col3\" class=\"col_heading level0 col3\" >R2</th>\n",
       "      <th id=\"T_cd57e_level0_col4\" class=\"col_heading level0 col4\" >RMSLE</th>\n",
       "      <th id=\"T_cd57e_level0_col5\" class=\"col_heading level0 col5\" >MAPE</th>\n",
       "    </tr>\n",
       "    <tr>\n",
       "      <th class=\"index_name level0\" >Fold</th>\n",
       "      <th class=\"blank col0\" >&nbsp;</th>\n",
       "      <th class=\"blank col1\" >&nbsp;</th>\n",
       "      <th class=\"blank col2\" >&nbsp;</th>\n",
       "      <th class=\"blank col3\" >&nbsp;</th>\n",
       "      <th class=\"blank col4\" >&nbsp;</th>\n",
       "      <th class=\"blank col5\" >&nbsp;</th>\n",
       "    </tr>\n",
       "  </thead>\n",
       "  <tbody>\n",
       "    <tr>\n",
       "      <th id=\"T_cd57e_level0_row0\" class=\"row_heading level0 row0\" >0</th>\n",
       "      <td id=\"T_cd57e_row0_col0\" class=\"data row0 col0\" >103.5159</td>\n",
       "      <td id=\"T_cd57e_row0_col1\" class=\"data row0 col1\" >25615.2564</td>\n",
       "      <td id=\"T_cd57e_row0_col2\" class=\"data row0 col2\" >160.0477</td>\n",
       "      <td id=\"T_cd57e_row0_col3\" class=\"data row0 col3\" >0.6777</td>\n",
       "      <td id=\"T_cd57e_row0_col4\" class=\"data row0 col4\" >0.5152</td>\n",
       "      <td id=\"T_cd57e_row0_col5\" class=\"data row0 col5\" >0.6295</td>\n",
       "    </tr>\n",
       "    <tr>\n",
       "      <th id=\"T_cd57e_level0_row1\" class=\"row_heading level0 row1\" >1</th>\n",
       "      <td id=\"T_cd57e_row1_col0\" class=\"data row1 col0\" >93.3412</td>\n",
       "      <td id=\"T_cd57e_row1_col1\" class=\"data row1 col1\" >24309.3581</td>\n",
       "      <td id=\"T_cd57e_row1_col2\" class=\"data row1 col2\" >155.9146</td>\n",
       "      <td id=\"T_cd57e_row1_col3\" class=\"data row1 col3\" >0.6907</td>\n",
       "      <td id=\"T_cd57e_row1_col4\" class=\"data row1 col4\" >0.5347</td>\n",
       "      <td id=\"T_cd57e_row1_col5\" class=\"data row1 col5\" >1.0350</td>\n",
       "    </tr>\n",
       "    <tr>\n",
       "      <th id=\"T_cd57e_level0_row2\" class=\"row_heading level0 row2\" >2</th>\n",
       "      <td id=\"T_cd57e_row2_col0\" class=\"data row2 col0\" >98.0426</td>\n",
       "      <td id=\"T_cd57e_row2_col1\" class=\"data row2 col1\" >26926.1494</td>\n",
       "      <td id=\"T_cd57e_row2_col2\" class=\"data row2 col2\" >164.0919</td>\n",
       "      <td id=\"T_cd57e_row2_col3\" class=\"data row2 col3\" >0.7003</td>\n",
       "      <td id=\"T_cd57e_row2_col4\" class=\"data row2 col4\" >0.5191</td>\n",
       "      <td id=\"T_cd57e_row2_col5\" class=\"data row2 col5\" >0.6593</td>\n",
       "    </tr>\n",
       "    <tr>\n",
       "      <th id=\"T_cd57e_level0_row3\" class=\"row_heading level0 row3\" >Mean</th>\n",
       "      <td id=\"T_cd57e_row3_col0\" class=\"data row3 col0\" >98.2999</td>\n",
       "      <td id=\"T_cd57e_row3_col1\" class=\"data row3 col1\" >25616.9213</td>\n",
       "      <td id=\"T_cd57e_row3_col2\" class=\"data row3 col2\" >160.0180</td>\n",
       "      <td id=\"T_cd57e_row3_col3\" class=\"data row3 col3\" >0.6895</td>\n",
       "      <td id=\"T_cd57e_row3_col4\" class=\"data row3 col4\" >0.5230</td>\n",
       "      <td id=\"T_cd57e_row3_col5\" class=\"data row3 col5\" >0.7746</td>\n",
       "    </tr>\n",
       "    <tr>\n",
       "      <th id=\"T_cd57e_level0_row4\" class=\"row_heading level0 row4\" >Std</th>\n",
       "      <td id=\"T_cd57e_row4_col0\" class=\"data row4 col0\" >4.1578</td>\n",
       "      <td id=\"T_cd57e_row4_col1\" class=\"data row4 col1\" >1068.3012</td>\n",
       "      <td id=\"T_cd57e_row4_col2\" class=\"data row4 col2\" >3.3384</td>\n",
       "      <td id=\"T_cd57e_row4_col3\" class=\"data row4 col3\" >0.0093</td>\n",
       "      <td id=\"T_cd57e_row4_col4\" class=\"data row4 col4\" >0.0084</td>\n",
       "      <td id=\"T_cd57e_row4_col5\" class=\"data row4 col5\" >0.1845</td>\n",
       "    </tr>\n",
       "  </tbody>\n",
       "</table>\n"
      ],
      "text/plain": [
       "<pandas.io.formats.style.Styler at 0x2a3c9fec490>"
      ]
     },
     "metadata": {},
     "output_type": "display_data"
    },
    {
     "data": {
      "text/html": [],
      "text/plain": [
       "<IPython.core.display.HTML object>"
      ]
     },
     "metadata": {},
     "output_type": "display_data"
    },
    {
     "name": "stdout",
     "output_type": "stream",
     "text": [
      "Fitting 3 folds for each of 50 candidates, totalling 150 fits\n"
     ]
    },
    {
     "data": {
      "text/html": [
       "<style>#sk-container-id-2 {color: black;background-color: white;}#sk-container-id-2 pre{padding: 0;}#sk-container-id-2 div.sk-toggleable {background-color: white;}#sk-container-id-2 label.sk-toggleable__label {cursor: pointer;display: block;width: 100%;margin-bottom: 0;padding: 0.3em;box-sizing: border-box;text-align: center;}#sk-container-id-2 label.sk-toggleable__label-arrow:before {content: \"▸\";float: left;margin-right: 0.25em;color: #696969;}#sk-container-id-2 label.sk-toggleable__label-arrow:hover:before {color: black;}#sk-container-id-2 div.sk-estimator:hover label.sk-toggleable__label-arrow:before {color: black;}#sk-container-id-2 div.sk-toggleable__content {max-height: 0;max-width: 0;overflow: hidden;text-align: left;background-color: #f0f8ff;}#sk-container-id-2 div.sk-toggleable__content pre {margin: 0.2em;color: black;border-radius: 0.25em;background-color: #f0f8ff;}#sk-container-id-2 input.sk-toggleable__control:checked~div.sk-toggleable__content {max-height: 200px;max-width: 100%;overflow: auto;}#sk-container-id-2 input.sk-toggleable__control:checked~label.sk-toggleable__label-arrow:before {content: \"▾\";}#sk-container-id-2 div.sk-estimator input.sk-toggleable__control:checked~label.sk-toggleable__label {background-color: #d4ebff;}#sk-container-id-2 div.sk-label input.sk-toggleable__control:checked~label.sk-toggleable__label {background-color: #d4ebff;}#sk-container-id-2 input.sk-hidden--visually {border: 0;clip: rect(1px 1px 1px 1px);clip: rect(1px, 1px, 1px, 1px);height: 1px;margin: -1px;overflow: hidden;padding: 0;position: absolute;width: 1px;}#sk-container-id-2 div.sk-estimator {font-family: monospace;background-color: #f0f8ff;border: 1px dotted black;border-radius: 0.25em;box-sizing: border-box;margin-bottom: 0.5em;}#sk-container-id-2 div.sk-estimator:hover {background-color: #d4ebff;}#sk-container-id-2 div.sk-parallel-item::after {content: \"\";width: 100%;border-bottom: 1px solid gray;flex-grow: 1;}#sk-container-id-2 div.sk-label:hover label.sk-toggleable__label {background-color: #d4ebff;}#sk-container-id-2 div.sk-serial::before {content: \"\";position: absolute;border-left: 1px solid gray;box-sizing: border-box;top: 0;bottom: 0;left: 50%;z-index: 0;}#sk-container-id-2 div.sk-serial {display: flex;flex-direction: column;align-items: center;background-color: white;padding-right: 0.2em;padding-left: 0.2em;position: relative;}#sk-container-id-2 div.sk-item {position: relative;z-index: 1;}#sk-container-id-2 div.sk-parallel {display: flex;align-items: stretch;justify-content: center;background-color: white;position: relative;}#sk-container-id-2 div.sk-item::before, #sk-container-id-2 div.sk-parallel-item::before {content: \"\";position: absolute;border-left: 1px solid gray;box-sizing: border-box;top: 0;bottom: 0;left: 50%;z-index: -1;}#sk-container-id-2 div.sk-parallel-item {display: flex;flex-direction: column;z-index: 1;position: relative;background-color: white;}#sk-container-id-2 div.sk-parallel-item:first-child::after {align-self: flex-end;width: 50%;}#sk-container-id-2 div.sk-parallel-item:last-child::after {align-self: flex-start;width: 50%;}#sk-container-id-2 div.sk-parallel-item:only-child::after {width: 0;}#sk-container-id-2 div.sk-dashed-wrapped {border: 1px dashed gray;margin: 0 0.4em 0.5em 0.4em;box-sizing: border-box;padding-bottom: 0.4em;background-color: white;}#sk-container-id-2 div.sk-label label {font-family: monospace;font-weight: bold;display: inline-block;line-height: 1.2em;}#sk-container-id-2 div.sk-label-container {text-align: center;}#sk-container-id-2 div.sk-container {/* jupyter's `normalize.less` sets `[hidden] { display: none; }` but bootstrap.min.css set `[hidden] { display: none !important; }` so we also need the `!important` here to be able to override the default hidden behavior on the sphinx rendered scikit-learn.org. See: https://github.com/scikit-learn/scikit-learn/issues/21755 */display: inline-block !important;position: relative;}#sk-container-id-2 div.sk-text-repr-fallback {display: none;}</style><div id=\"sk-container-id-2\" class=\"sk-top-container\"><div class=\"sk-text-repr-fallback\"><pre>GradientBoostingRegressor(learning_rate=0.15, max_features=&#x27;log2&#x27;,\n",
       "                          min_impurity_decrease=0.5, min_samples_split=7,\n",
       "                          n_estimators=30, random_state=5972, subsample=0.8)</pre><b>In a Jupyter environment, please rerun this cell to show the HTML representation or trust the notebook. <br />On GitHub, the HTML representation is unable to render, please try loading this page with nbviewer.org.</b></div><div class=\"sk-container\" hidden><div class=\"sk-item\"><div class=\"sk-estimator sk-toggleable\"><input class=\"sk-toggleable__control sk-hidden--visually\" id=\"sk-estimator-id-2\" type=\"checkbox\" checked><label for=\"sk-estimator-id-2\" class=\"sk-toggleable__label sk-toggleable__label-arrow\">GradientBoostingRegressor</label><div class=\"sk-toggleable__content\"><pre>GradientBoostingRegressor(learning_rate=0.15, max_features=&#x27;log2&#x27;,\n",
       "                          min_impurity_decrease=0.5, min_samples_split=7,\n",
       "                          n_estimators=30, random_state=5972, subsample=0.8)</pre></div></div></div></div></div>"
      ],
      "text/plain": [
       "GradientBoostingRegressor(learning_rate=0.15, max_features='log2',\n",
       "                          min_impurity_decrease=0.5, min_samples_split=7,\n",
       "                          n_estimators=30, random_state=5972, subsample=0.8)"
      ]
     },
     "execution_count": 29,
     "metadata": {},
     "output_type": "execute_result"
    }
   ],
   "source": [
    "tune_model(create_model('gbr'),n_iter = 50,fold=3)"
   ]
  },
  {
   "cell_type": "code",
   "execution_count": 33,
   "id": "4e5eadcc",
   "metadata": {
    "ExecuteTime": {
     "end_time": "2024-01-25T21:18:02.553055Z",
     "start_time": "2024-01-25T21:18:01.955326Z"
    }
   },
   "outputs": [
    {
     "data": {
      "application/vnd.jupyter.widget-view+json": {
       "model_id": "00314959da8f4e1d8b650708bcf5a492",
       "version_major": 2,
       "version_minor": 0
      },
      "text/plain": [
       "interactive(children=(ToggleButtons(description='Plot Type:', icons=('',), options=(('Pipeline Plot', 'pipelin…"
      ]
     },
     "metadata": {},
     "output_type": "display_data"
    }
   ],
   "source": [
    "evaluate_model(best_model)"
   ]
  },
  {
   "cell_type": "code",
   "execution_count": null,
   "id": "c449fb4e",
   "metadata": {},
   "outputs": [],
   "source": [
    "save_model(best_model, 'model_pycaret')"
   ]
  }
 ],
 "metadata": {
  "kernelspec": {
   "display_name": "pycaret_2024",
   "language": "python",
   "name": "pycaret_2024"
  },
  "language_info": {
   "codemirror_mode": {
    "name": "ipython",
    "version": 3
   },
   "file_extension": ".py",
   "mimetype": "text/x-python",
   "name": "python",
   "nbconvert_exporter": "python",
   "pygments_lexer": "ipython3",
   "version": "3.11.7"
  },
  "toc": {
   "base_numbering": 1,
   "nav_menu": {},
   "number_sections": true,
   "sideBar": true,
   "skip_h1_title": false,
   "title_cell": "Table of Contents",
   "title_sidebar": "Contents",
   "toc_cell": false,
   "toc_position": {},
   "toc_section_display": true,
   "toc_window_display": false
  },
  "varInspector": {
   "cols": {
    "lenName": 16,
    "lenType": 16,
    "lenVar": 40
   },
   "kernels_config": {
    "python": {
     "delete_cmd_postfix": "",
     "delete_cmd_prefix": "del ",
     "library": "var_list.py",
     "varRefreshCmd": "print(var_dic_list())"
    },
    "r": {
     "delete_cmd_postfix": ") ",
     "delete_cmd_prefix": "rm(",
     "library": "var_list.r",
     "varRefreshCmd": "cat(var_dic_list()) "
    }
   },
   "types_to_exclude": [
    "module",
    "function",
    "builtin_function_or_method",
    "instance",
    "_Feature"
   ],
   "window_display": false
  }
 },
 "nbformat": 4,
 "nbformat_minor": 5
}
