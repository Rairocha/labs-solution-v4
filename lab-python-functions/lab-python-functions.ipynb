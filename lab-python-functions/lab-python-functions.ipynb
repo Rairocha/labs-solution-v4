{
 "cells": [
  {
   "cell_type": "markdown",
   "id": "25d7736c-ba17-4aff-b6bb-66eba20fbf4e",
   "metadata": {},
   "source": [
    "# Lab | Functions"
   ]
  },
  {
   "cell_type": "markdown",
   "id": "0c581062-8967-4d93-b06e-62833222f930",
   "metadata": {
    "tags": []
   },
   "source": [
    "## Exercise: Managing Customer Orders with Functions\n",
    "\n",
    "In the previous exercise, you improved the code for managing customer orders by using loops and flow control. Now, let's take it a step further and refactor the code by introducing functions.\n",
    "\n",
    "Follow the steps below to complete the exercise:\n",
    "\n",
    "1. Define a function named `initialize_inventory` that takes `products` as a parameter. Inside the function, implement the code for initializing the inventory dictionary using a loop and user input.\n",
    "\n",
    "2. Define a function named `get_customer_orders` that takes no parameters. Inside the function, implement the code for prompting the user to enter the product names using a loop. The function should return the `customer_orders` set.\n",
    "\n",
    "3. Define a function named `update_inventory` that takes `customer_orders` and `inventory` as parameters. Inside the function, implement the code for updating the inventory dictionary based on the customer orders.\n",
    "\n",
    "4. Define a function named `calculate_order_statistics` that takes `customer_orders` and `products` as parameters. Inside the function, implement the code for calculating the order statistics (total products ordered, and percentage of unique products ordered). The function should return these values.\n",
    "\n",
    "5. Define a function named `print_order_statistics` that takes `order_statistics` as a parameter. Inside the function, implement the code for printing the order statistics.\n",
    "\n",
    "6. Define a function named `print_updated_inventory` that takes `inventory` as a parameter. Inside the function, implement the code for printing the updated inventory.\n",
    "\n",
    "7. Call the functions in the appropriate sequence to execute the program and manage customer orders.\n",
    "\n",
    "Hints for functions:\n",
    "\n",
    "- Consider the input parameters required for each function and their return values.\n",
    "- Utilize function parameters and return values to transfer data between functions.\n",
    "- Test your functions individually to ensure they work correctly.\n",
    "\n",
    "\n"
   ]
  },
  {
   "cell_type": "code",
   "execution_count": 33,
   "id": "77ef5e7f",
   "metadata": {
    "ExecuteTime": {
     "end_time": "2023-11-29T17:57:49.010066Z",
     "start_time": "2023-11-29T17:57:48.999012Z"
    }
   },
   "outputs": [],
   "source": [
    "def initialize_inventory(products):\n",
    "    \"\"\"\n",
    "    initialize_inventory that takes products as a parameter. \n",
    "    Inside the function, implement the code for initializing the inventory dictionary using a loop and user input\n",
    "    \n",
    "    \"\"\"\n",
    "    inventory = {}\n",
    "    for product in products:\n",
    "        quantity = input(f'Number of {product} available: ')\n",
    "        while not quantity.isdigit():\n",
    "            quantity = input(f'Number of {product} available, please type a digit: ')\n",
    "        inventory[product] = int(quantity)\n",
    "        #inventory.update({product:int(quantity)}) # alternative way to insert data in the dictionary\n",
    "        print(f'Product {product} has {quantity} in stock')\n",
    "    return inventory\n",
    "\n",
    "def get_customer_orders(products):\n",
    "    \"\"\"\n",
    "    Inside the function, implement the code for prompting the user to enter the product names using a loop.\n",
    "    The function should return the customer_orders set.\n",
    "    \"\"\"\n",
    "    customer_orders = set() # create customer cart\n",
    "    moreorders = True\n",
    "    while moreorders:\n",
    "        order = input('Enter the name of your product ')# ask for user input\n",
    "        while order not in products: # input validation\n",
    "            order = input(f'Please type a product in {products} ')# ask for user input\n",
    "        customer_orders.add(order)\n",
    "        tmp = input(\"Please type Yes or No. Want to order something else? Yype 'Yes' or 'No':\")\n",
    "        while tmp !='Yes' and tmp != 'No':\n",
    "            tmp = input(\"Please type Yes or No. Want to order something else? Yype 'Yes' or 'No': \")# ask for user input\n",
    "        if tmp.capitalize().strip() == 'Yes':\n",
    "            moreorders = True\n",
    "        else:\n",
    "            moreorders = False\n",
    "    return customer_orders\n",
    "\n",
    "def update_inventory(customer_orders,inventory):\n",
    "    \"\"\"Inside the function, implement the code for updating the inventory dictionary based on the customer orders.\"\"\"\n",
    "    inventory_local = inventory.copy()\n",
    "    for product in customer_orders:\n",
    "        inventory_local[product]-=1\n",
    "    return inventory_local\n",
    "\n",
    "def update_inventory_using_global(customer_orders,inventory):\n",
    "    \"\"\"Inside the function, implement the code for updating the inventory dictionary based on the customer orders.\"\"\"\n",
    "    for product in customer_orders:\n",
    "        inventory[product]-=1\n",
    "        \n",
    "\n",
    "def calculate_order_statistics(customer_orders,inventory):\n",
    "    \"\"\"Inside the function, implement the code for calculating the order statistics \n",
    "    (total products ordered, and percentage of unique products ordered). The function should return these values.\"\"\"\n",
    "    total_products = len(customer_orders)\n",
    "    percentage_unique_products = sum(inventory.values())\n",
    "    return total_products,percentage_unique_products\n",
    "\n",
    "def print_order_statistics(statistics_tuple):\n",
    "    \"\"\"\n",
    "    Inside the function, implement the code for printing the order statistics.\n",
    "    \"\"\"\n",
    "    print(f'''Order Statistics:\n",
    "Total Products Ordered: {statistics_tuple[0]}\n",
    "Percentage of Products Ordered: {statistics_tuple[1]}% ''')\n",
    "\n",
    "def print_updated_inventory(inventory):\n",
    "    \"\"\"Inside the function, implement the code for printing the updated inventory.\"\"\"\n",
    "    print(f'The inventory after customer purchase is :{inventory}')\n",
    "    "
   ]
  },
  {
   "cell_type": "code",
   "execution_count": 28,
   "id": "e24de2dc",
   "metadata": {
    "ExecuteTime": {
     "end_time": "2023-11-29T17:55:56.758580Z",
     "start_time": "2023-11-29T17:55:51.446988Z"
    }
   },
   "outputs": [
    {
     "name": "stdout",
     "output_type": "stream",
     "text": [
      "Number of t-shirt available: 5\n",
      "Product t-shirt has 5 in stock\n",
      "Number of mug available: 6\n",
      "Product mug has 6 in stock\n",
      "Enter the name of your product mug\n",
      "Please type Yes or No. Want to order something else? Yype 'Yes' or 'No':No\n"
     ]
    }
   ],
   "source": [
    "p = [\"t-shirt\", \"mug\"]#, \"hat\", \"book\", \"keychain\"]\n",
    "inventory = initialize_inventory(p)\n",
    "customer_orders = get_customer_orders(p)\n",
    "inventory = update_inventory(customer_orders,inventory)\n",
    "# update_inventory_using_global(customer_orders,inventory) can be used but it is not best practices\n",
    "statistics_tuple = calculate_order_statistics(customer_orders,inventory)\n",
    "print_order_statistics(statistics_tuple)\n",
    "print_updated_inventory(inventory)"
   ]
  }
 ],
 "metadata": {
  "kernelspec": {
   "display_name": "Python 3 (ipykernel)",
   "language": "python",
   "name": "python3"
  },
  "language_info": {
   "codemirror_mode": {
    "name": "ipython",
    "version": 3
   },
   "file_extension": ".py",
   "mimetype": "text/x-python",
   "name": "python",
   "nbconvert_exporter": "python",
   "pygments_lexer": "ipython3",
   "version": "3.8.13"
  },
  "toc": {
   "base_numbering": 1,
   "nav_menu": {},
   "number_sections": true,
   "sideBar": true,
   "skip_h1_title": false,
   "title_cell": "Table of Contents",
   "title_sidebar": "Contents",
   "toc_cell": false,
   "toc_position": {},
   "toc_section_display": true,
   "toc_window_display": false
  },
  "varInspector": {
   "cols": {
    "lenName": 16,
    "lenType": 16,
    "lenVar": 40
   },
   "kernels_config": {
    "python": {
     "delete_cmd_postfix": "",
     "delete_cmd_prefix": "del ",
     "library": "var_list.py",
     "varRefreshCmd": "print(var_dic_list())"
    },
    "r": {
     "delete_cmd_postfix": ") ",
     "delete_cmd_prefix": "rm(",
     "library": "var_list.r",
     "varRefreshCmd": "cat(var_dic_list()) "
    }
   },
   "types_to_exclude": [
    "module",
    "function",
    "builtin_function_or_method",
    "instance",
    "_Feature"
   ],
   "window_display": false
  }
 },
 "nbformat": 4,
 "nbformat_minor": 5
}
