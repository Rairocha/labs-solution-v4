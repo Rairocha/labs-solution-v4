{
 "cells": [
  {
   "cell_type": "markdown",
   "metadata": {},
   "source": [
    "# Introduction To Probability\n",
    "## Challenge 1\n",
    "\n",
    "A and B are events of a probability space with $(\\omega, \\sigma, P)$ such that $P(A) = 0.3$, $P(B) = 0.6$ and $P(A \\cap B) = 0.1$\n",
    "\n",
    "Which of the following statements are false?\n",
    "* $P(A \\cup B) = 0.6$\n",
    "* $P(A \\cap B^{C}) = 0.2$\n",
    "* $P(A \\cap (B \\cup B^{C})) = 0.4$\n",
    "* $P(A^{C} \\cap B^{C}) = 0.3$\n",
    "* $P((A \\cap B)^{C}) = 0.9$"
   ]
  },
  {
   "cell_type": "code",
   "execution_count": 1,
   "metadata": {
    "ExecuteTime": {
     "end_time": "2024-01-10T20:07:29.857136Z",
     "start_time": "2024-01-10T20:07:29.848120Z"
    }
   },
   "outputs": [
    {
     "data": {
      "text/plain": [
       "{1, 2, 4, 6}"
      ]
     },
     "execution_count": 1,
     "metadata": {},
     "output_type": "execute_result"
    }
   ],
   "source": [
    "A = {2,4,6}\n",
    "B = {1,2}\n",
    "sample_space={1,2,3,4,5,6}\n",
    "A.union(B)"
   ]
  },
  {
   "cell_type": "code",
   "execution_count": 2,
   "metadata": {
    "ExecuteTime": {
     "end_time": "2024-01-10T20:10:31.341060Z",
     "start_time": "2024-01-10T20:10:31.334949Z"
    }
   },
   "outputs": [
    {
     "data": {
      "text/plain": [
       "{2}"
      ]
     },
     "execution_count": 2,
     "metadata": {},
     "output_type": "execute_result"
    }
   ],
   "source": [
    "A.intersection(B)"
   ]
  },
  {
   "cell_type": "code",
   "execution_count": null,
   "metadata": {},
   "outputs": [],
   "source": [
    "𝑃(𝐴∪𝐵)=0.6\n",
    "𝑃(𝐴∪𝐵)=𝑃(𝐴)+𝑃(𝐵)-𝑃(𝐴∩𝐵)\n",
    "𝑃(𝐴∪𝐵)=(0.3+0.6)-0.1\n",
    "𝑃(𝐴∪𝐵)=0.8\n",
    "𝑃(𝐴∪𝐵) is not equal to 0.6\n",
    "\n",
    "𝑃(𝐴∩𝐵𝐶)=0.2\n",
    "𝑃(𝐴∩𝐵𝐶)=𝑃(𝐴)-𝑃(𝐴∩𝐵)\n",
    "𝑃(𝐴∩𝐵𝐶)= 0.3-0.1\n",
    "𝑃(𝐴∩𝐵𝐶) is equal to 0.2\n",
    "\n",
    "𝑃(𝐴∩(𝐵∪𝐵𝐶))=0.4\n",
    "𝑃(𝐴∩(𝐵∪𝐵𝐶))=𝑃(𝐴)\n",
    "𝑃(𝐴∩(𝐵∪𝐵𝐶))=0.3\n",
    "𝑃(𝐴∩(𝐵∪𝐵𝐶)) is not equal to 0.4\n",
    "\n",
    "𝑃(𝐴𝐶∩𝐵𝐶)=0.3\n",
    "𝑃(𝐴𝐶∩𝐵𝐶)=1 - 𝑃(𝐴∪𝐵)\n",
    "𝑃(𝐴𝐶∩𝐵𝐶)= 1 - 𝑃(𝐴)+𝑃(𝐵)-𝑃(𝐴∩𝐵)\n",
    "𝑃(𝐴𝐶∩𝐵𝐶)= 1-0.8\n",
    "𝑃(𝐴𝐶∩𝐵𝐶)= 0.2\n",
    "𝑃(𝐴𝐶∩𝐵𝐶) is not equal to 0.3 \n",
    "\n",
    "𝑃((𝐴∩𝐵)𝐶)=0.9\n",
    "𝑃((𝐴∩𝐵)𝐶)= 1 - 𝑃(𝐴∩𝐵)\n",
    "𝑃((𝐴∩𝐵)𝐶)= 1 - 0.1\n",
    "𝑃((𝐴∩𝐵)𝐶)= 0.9\n",
    "𝑃((𝐴∩𝐵)𝐶) is equal to 0.9"
   ]
  },
  {
   "cell_type": "markdown",
   "metadata": {},
   "source": [
    "## Challenge 2\n",
    "There is a box with 10 white balls, 12 red balls and 8 black balls. Calculate the probability of:\n",
    "* Taking a white ball out.\n",
    "* Taking a white ball out after taking a black ball out.\n",
    "* Taking a red ball out after taking a black and a red ball out.\n",
    "* Taking a red ball out after taking a black and a red ball out with reposition.\n",
    "\n",
    "**Hint**: Reposition means putting back the ball into the box after taking it out."
   ]
  },
  {
   "cell_type": "code",
   "execution_count": 20,
   "metadata": {
    "ExecuteTime": {
     "end_time": "2024-01-10T20:45:13.702587Z",
     "start_time": "2024-01-10T20:45:13.696550Z"
    }
   },
   "outputs": [
    {
     "name": "stdout",
     "output_type": "stream",
     "text": [
      "0.3333333333333333\n",
      "0.3448275862068966\n",
      "0.39285714285714285\n",
      "0.4\n"
     ]
    }
   ],
   "source": [
    "\"\"\"\n",
    "your solution here\n",
    "\"\"\"\n",
    "sample_space_size = 10+12+8\n",
    "white = 10\n",
    "red = 12\n",
    "black = 8\n",
    "\n",
    "# Taking a white ball out.\n",
    "print(white/sample_space_size)\n",
    "\n",
    "#Taking a white ball out after taking a black ball out.\n",
    "print(white/(sample_space_size-1))\n",
    "    \n",
    "# Taking a red ball out after taking a black and a red ball out.\n",
    "print((red-1)/(sample_space_size-2))\n",
    "\n",
    "#Taking a red ball out after taking a black and a red ball out with reposition.\n",
    "print(red/sample_space_size)"
   ]
  },
  {
   "cell_type": "markdown",
   "metadata": {},
   "source": [
    "## Challenge 3\n",
    "\n",
    "You are planning to go on a picnic today but the morning is cloudy. You hate rain so you don't know whether to go out or stay home! To help you make a decision, you gather the following data about rainy days:\n",
    "\n",
    "* Knowing that it is a rainy day, the probability of cloudy is 50%!\n",
    "* The probability of any day (rainy or not) starting off cloudy is 40%. \n",
    "* This month is usually dry so only 3 of 30 days (10%) tend to be rainy. \n",
    "\n",
    "What is the probability of rain, given the day started cloudy?"
   ]
  },
  {
   "cell_type": "markdown",
   "metadata": {},
   "source": [
    "𝑃(𝐴|𝐵)=𝑃(𝐵|𝐴)×𝑃(𝐴)𝑃(𝐵)"
   ]
  },
  {
   "cell_type": "code",
   "execution_count": 21,
   "metadata": {
    "ExecuteTime": {
     "end_time": "2024-01-10T20:50:11.549935Z",
     "start_time": "2024-01-10T20:50:11.543470Z"
    }
   },
   "outputs": [
    {
     "data": {
      "text/plain": [
       "0.125"
      ]
     },
     "execution_count": 21,
     "metadata": {},
     "output_type": "execute_result"
    }
   ],
   "source": [
    "\"\"\"\n",
    "your solution here\n",
    "\"\"\"\n",
    "prob_rain = 0.1#P(A)\n",
    "prob_cloudy = 0.4#P(B)\n",
    "prob_cloud_given_rain = 0.5 #P(B|A)\n",
    "(prob_cloud_given_rain*prob_rain )/prob_cloudy"
   ]
  },
  {
   "cell_type": "markdown",
   "metadata": {},
   "source": [
    "## Challenge 4\n",
    "\n",
    "One thousand people were asked through a telephone survey whether they thought more street lighting is needed at night or not.\n",
    "\n",
    "Out of the 480 men that answered the survey, 324 said yes and 156 said no. On the other hand, out of the 520 women that answered, 351 said yes and 169 said no. \n",
    "\n",
    "We wonder if men and women have a different opinions about the street lighting matter. Is gender relevant or irrelevant to the question?\n",
    "\n",
    "Consider the following events:\n",
    "- The answer is yes, so the person that answered thinks that more street lighting is needed.\n",
    "- The person who answered is a man.\n",
    "\n",
    "We want to know if these events are independent, that is, if the fact of wanting more light depends on whether one is male or female. Are these events independent or not?\n",
    "\n",
    "**Hint**: To clearly compare the answers by gender, it is best to place the data in a table."
   ]
  },
  {
   "cell_type": "code",
   "execution_count": null,
   "metadata": {},
   "outputs": [],
   "source": [
    "# your code here"
   ]
  },
  {
   "cell_type": "code",
   "execution_count": 24,
   "metadata": {
    "ExecuteTime": {
     "end_time": "2024-01-10T20:53:25.813396Z",
     "start_time": "2024-01-10T20:53:25.798072Z"
    }
   },
   "outputs": [
    {
     "data": {
      "text/html": [
       "<div>\n",
       "<style scoped>\n",
       "    .dataframe tbody tr th:only-of-type {\n",
       "        vertical-align: middle;\n",
       "    }\n",
       "\n",
       "    .dataframe tbody tr th {\n",
       "        vertical-align: top;\n",
       "    }\n",
       "\n",
       "    .dataframe thead th {\n",
       "        text-align: right;\n",
       "    }\n",
       "</style>\n",
       "<table border=\"1\" class=\"dataframe\">\n",
       "  <thead>\n",
       "    <tr style=\"text-align: right;\">\n",
       "      <th></th>\n",
       "      <th>Yes</th>\n",
       "      <th>No</th>\n",
       "    </tr>\n",
       "  </thead>\n",
       "  <tbody>\n",
       "    <tr>\n",
       "      <th>Men</th>\n",
       "      <td>324</td>\n",
       "      <td>156</td>\n",
       "    </tr>\n",
       "    <tr>\n",
       "      <th>Women</th>\n",
       "      <td>351</td>\n",
       "      <td>169</td>\n",
       "    </tr>\n",
       "  </tbody>\n",
       "</table>\n",
       "</div>"
      ],
      "text/plain": [
       "       Yes   No\n",
       "Men    324  156\n",
       "Women  351  169"
      ]
     },
     "execution_count": 24,
     "metadata": {},
     "output_type": "execute_result"
    }
   ],
   "source": [
    "\"\"\"\n",
    "your solution here\n",
    "\"\"\"\n",
    "import pandas as pd\n",
    "frequency_table = pd.DataFrame({'Yes':[324,351],'No':[156,169]},index=['Men','Women'])\n",
    "frequency_table"
   ]
  },
  {
   "cell_type": "code",
   "execution_count": 25,
   "metadata": {
    "ExecuteTime": {
     "end_time": "2024-01-10T20:54:23.337013Z",
     "start_time": "2024-01-10T20:54:21.830170Z"
    }
   },
   "outputs": [
    {
     "name": "stdout",
     "output_type": "stream",
     "text": [
      "1.0\n"
     ]
    }
   ],
   "source": [
    "from scipy.stats import chi2_contingency\n",
    "stat, p, dof, expected = chi2_contingency(frequency_table)\n",
    "print( p)\n",
    "# there is no relationship between the variables!\n"
   ]
  },
  {
   "cell_type": "raw",
   "metadata": {},
   "source": [
    "If P(A∩B)=P(A)⋅P(B) the events are independent "
   ]
  },
  {
   "cell_type": "code",
   "execution_count": 28,
   "metadata": {
    "ExecuteTime": {
     "end_time": "2024-01-10T20:58:13.388109Z",
     "start_time": "2024-01-10T20:58:13.381111Z"
    }
   },
   "outputs": [
    {
     "data": {
      "text/html": [
       "<div>\n",
       "<style scoped>\n",
       "    .dataframe tbody tr th:only-of-type {\n",
       "        vertical-align: middle;\n",
       "    }\n",
       "\n",
       "    .dataframe tbody tr th {\n",
       "        vertical-align: top;\n",
       "    }\n",
       "\n",
       "    .dataframe thead th {\n",
       "        text-align: right;\n",
       "    }\n",
       "</style>\n",
       "<table border=\"1\" class=\"dataframe\">\n",
       "  <thead>\n",
       "    <tr style=\"text-align: right;\">\n",
       "      <th></th>\n",
       "      <th>Men</th>\n",
       "      <th>Women</th>\n",
       "    </tr>\n",
       "  </thead>\n",
       "  <tbody>\n",
       "    <tr>\n",
       "      <th>Yes</th>\n",
       "      <td>324</td>\n",
       "      <td>351</td>\n",
       "    </tr>\n",
       "    <tr>\n",
       "      <th>No</th>\n",
       "      <td>156</td>\n",
       "      <td>169</td>\n",
       "    </tr>\n",
       "  </tbody>\n",
       "</table>\n",
       "</div>"
      ],
      "text/plain": [
       "     Men  Women\n",
       "Yes  324    351\n",
       "No   156    169"
      ]
     },
     "execution_count": 28,
     "metadata": {},
     "output_type": "execute_result"
    }
   ],
   "source": [
    "frequency_table.T"
   ]
  },
  {
   "cell_type": "code",
   "execution_count": 31,
   "metadata": {
    "ExecuteTime": {
     "end_time": "2024-01-10T20:58:54.784676Z",
     "start_time": "2024-01-10T20:58:54.774157Z"
    }
   },
   "outputs": [
    {
     "data": {
      "text/plain": [
       "0.324"
      ]
     },
     "execution_count": 31,
     "metadata": {},
     "output_type": "execute_result"
    }
   ],
   "source": [
    "prob_a=frequency_table['Yes'].sum()/frequency_table.sum().sum()\n",
    "prob_b=frequency_table.T['Men'].sum()/frequency_table.sum().sum()\n",
    "prob_a*prob_b"
   ]
  },
  {
   "cell_type": "code",
   "execution_count": 33,
   "metadata": {
    "ExecuteTime": {
     "end_time": "2024-01-10T21:00:07.971209Z",
     "start_time": "2024-01-10T21:00:07.965687Z"
    }
   },
   "outputs": [
    {
     "data": {
      "text/plain": [
       "0.324"
      ]
     },
     "execution_count": 33,
     "metadata": {},
     "output_type": "execute_result"
    }
   ],
   "source": [
    "prob_a_intersection_b=frequency_table.loc['Men','Yes']/frequency_table.sum().sum()\n",
    "prob_a_intersection_b"
   ]
  },
  {
   "cell_type": "code",
   "execution_count": 35,
   "metadata": {
    "ExecuteTime": {
     "end_time": "2024-01-10T21:01:04.921924Z",
     "start_time": "2024-01-10T21:01:04.917919Z"
    }
   },
   "outputs": [
    {
     "name": "stdout",
     "output_type": "stream",
     "text": [
      "The events are independent\n"
     ]
    }
   ],
   "source": [
    "if prob_a_intersection_b == prob_a*prob_b:\n",
    "    print('The events are independent')\n",
    "else:\n",
    "    print('The events are dependent')"
   ]
  }
 ],
 "metadata": {
  "kernelspec": {
   "display_name": "Python 3 (ipykernel)",
   "language": "python",
   "name": "python3"
  },
  "language_info": {
   "codemirror_mode": {
    "name": "ipython",
    "version": 3
   },
   "file_extension": ".py",
   "mimetype": "text/x-python",
   "name": "python",
   "nbconvert_exporter": "python",
   "pygments_lexer": "ipython3",
   "version": "3.8.13"
  },
  "toc": {
   "base_numbering": 1,
   "nav_menu": {},
   "number_sections": true,
   "sideBar": true,
   "skip_h1_title": false,
   "title_cell": "Table of Contents",
   "title_sidebar": "Contents",
   "toc_cell": false,
   "toc_position": {},
   "toc_section_display": true,
   "toc_window_display": false
  },
  "varInspector": {
   "cols": {
    "lenName": 16,
    "lenType": 16,
    "lenVar": 40
   },
   "kernels_config": {
    "python": {
     "delete_cmd_postfix": "",
     "delete_cmd_prefix": "del ",
     "library": "var_list.py",
     "varRefreshCmd": "print(var_dic_list())"
    },
    "r": {
     "delete_cmd_postfix": ") ",
     "delete_cmd_prefix": "rm(",
     "library": "var_list.r",
     "varRefreshCmd": "cat(var_dic_list()) "
    }
   },
   "types_to_exclude": [
    "module",
    "function",
    "builtin_function_or_method",
    "instance",
    "_Feature"
   ],
   "window_display": false
  }
 },
 "nbformat": 4,
 "nbformat_minor": 2
}
